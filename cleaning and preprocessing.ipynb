{
 "cells": [
  {
   "cell_type": "code",
   "execution_count": 1,
   "id": "1001d941",
   "metadata": {},
   "outputs": [],
   "source": [
    "import pandas as pd\n",
    "import numpy as np\n",
    "import matplotlib.pyplot as plt\n",
    "import seaborn as sn\n",
    "%matplotlib inline\n",
    "sn.set_style('darkgrid')"
   ]
  },
  {
   "cell_type": "code",
   "execution_count": 2,
   "id": "433f5a66",
   "metadata": {},
   "outputs": [],
   "source": [
    "df = pd.read_csv(r\"C:\\Users\\Usman\\Downloads\\diabetes (1).csv\")"
   ]
  },
  {
   "cell_type": "code",
   "execution_count": 3,
   "id": "35830f50",
   "metadata": {},
   "outputs": [
    {
     "data": {
      "text/html": [
       "<div>\n",
       "<style scoped>\n",
       "    .dataframe tbody tr th:only-of-type {\n",
       "        vertical-align: middle;\n",
       "    }\n",
       "\n",
       "    .dataframe tbody tr th {\n",
       "        vertical-align: top;\n",
       "    }\n",
       "\n",
       "    .dataframe thead th {\n",
       "        text-align: right;\n",
       "    }\n",
       "</style>\n",
       "<table border=\"1\" class=\"dataframe\">\n",
       "  <thead>\n",
       "    <tr style=\"text-align: right;\">\n",
       "      <th></th>\n",
       "      <th>preg</th>\n",
       "      <th>plas</th>\n",
       "      <th>pres</th>\n",
       "      <th>skin</th>\n",
       "      <th>insu</th>\n",
       "      <th>mass</th>\n",
       "      <th>pedi</th>\n",
       "      <th>age</th>\n",
       "      <th>class</th>\n",
       "    </tr>\n",
       "  </thead>\n",
       "  <tbody>\n",
       "    <tr>\n",
       "      <th>0</th>\n",
       "      <td>6</td>\n",
       "      <td>148</td>\n",
       "      <td>72</td>\n",
       "      <td>35</td>\n",
       "      <td>0</td>\n",
       "      <td>33.6</td>\n",
       "      <td>0.627</td>\n",
       "      <td>50</td>\n",
       "      <td>tested_positive</td>\n",
       "    </tr>\n",
       "    <tr>\n",
       "      <th>1</th>\n",
       "      <td>1</td>\n",
       "      <td>85</td>\n",
       "      <td>66</td>\n",
       "      <td>29</td>\n",
       "      <td>0</td>\n",
       "      <td>26.6</td>\n",
       "      <td>0.351</td>\n",
       "      <td>31</td>\n",
       "      <td>tested_negative</td>\n",
       "    </tr>\n",
       "    <tr>\n",
       "      <th>2</th>\n",
       "      <td>8</td>\n",
       "      <td>183</td>\n",
       "      <td>64</td>\n",
       "      <td>0</td>\n",
       "      <td>0</td>\n",
       "      <td>23.3</td>\n",
       "      <td>0.672</td>\n",
       "      <td>32</td>\n",
       "      <td>tested_positive</td>\n",
       "    </tr>\n",
       "    <tr>\n",
       "      <th>3</th>\n",
       "      <td>1</td>\n",
       "      <td>89</td>\n",
       "      <td>66</td>\n",
       "      <td>23</td>\n",
       "      <td>94</td>\n",
       "      <td>28.1</td>\n",
       "      <td>0.167</td>\n",
       "      <td>21</td>\n",
       "      <td>tested_negative</td>\n",
       "    </tr>\n",
       "    <tr>\n",
       "      <th>4</th>\n",
       "      <td>0</td>\n",
       "      <td>137</td>\n",
       "      <td>40</td>\n",
       "      <td>35</td>\n",
       "      <td>168</td>\n",
       "      <td>43.1</td>\n",
       "      <td>2.288</td>\n",
       "      <td>33</td>\n",
       "      <td>tested_positive</td>\n",
       "    </tr>\n",
       "    <tr>\n",
       "      <th>5</th>\n",
       "      <td>5</td>\n",
       "      <td>116</td>\n",
       "      <td>74</td>\n",
       "      <td>0</td>\n",
       "      <td>0</td>\n",
       "      <td>25.6</td>\n",
       "      <td>0.201</td>\n",
       "      <td>30</td>\n",
       "      <td>tested_negative</td>\n",
       "    </tr>\n",
       "    <tr>\n",
       "      <th>6</th>\n",
       "      <td>3</td>\n",
       "      <td>78</td>\n",
       "      <td>50</td>\n",
       "      <td>32</td>\n",
       "      <td>88</td>\n",
       "      <td>31.0</td>\n",
       "      <td>0.248</td>\n",
       "      <td>26</td>\n",
       "      <td>tested_positive</td>\n",
       "    </tr>\n",
       "    <tr>\n",
       "      <th>7</th>\n",
       "      <td>10</td>\n",
       "      <td>115</td>\n",
       "      <td>0</td>\n",
       "      <td>0</td>\n",
       "      <td>0</td>\n",
       "      <td>35.3</td>\n",
       "      <td>0.134</td>\n",
       "      <td>29</td>\n",
       "      <td>tested_negative</td>\n",
       "    </tr>\n",
       "    <tr>\n",
       "      <th>8</th>\n",
       "      <td>2</td>\n",
       "      <td>197</td>\n",
       "      <td>70</td>\n",
       "      <td>45</td>\n",
       "      <td>543</td>\n",
       "      <td>30.5</td>\n",
       "      <td>0.158</td>\n",
       "      <td>53</td>\n",
       "      <td>tested_positive</td>\n",
       "    </tr>\n",
       "    <tr>\n",
       "      <th>9</th>\n",
       "      <td>8</td>\n",
       "      <td>125</td>\n",
       "      <td>96</td>\n",
       "      <td>0</td>\n",
       "      <td>0</td>\n",
       "      <td>0.0</td>\n",
       "      <td>0.232</td>\n",
       "      <td>54</td>\n",
       "      <td>tested_positive</td>\n",
       "    </tr>\n",
       "    <tr>\n",
       "      <th>10</th>\n",
       "      <td>4</td>\n",
       "      <td>110</td>\n",
       "      <td>92</td>\n",
       "      <td>0</td>\n",
       "      <td>0</td>\n",
       "      <td>37.6</td>\n",
       "      <td>0.191</td>\n",
       "      <td>30</td>\n",
       "      <td>tested_negative</td>\n",
       "    </tr>\n",
       "    <tr>\n",
       "      <th>11</th>\n",
       "      <td>10</td>\n",
       "      <td>168</td>\n",
       "      <td>74</td>\n",
       "      <td>0</td>\n",
       "      <td>0</td>\n",
       "      <td>38.0</td>\n",
       "      <td>0.537</td>\n",
       "      <td>34</td>\n",
       "      <td>tested_positive</td>\n",
       "    </tr>\n",
       "    <tr>\n",
       "      <th>12</th>\n",
       "      <td>10</td>\n",
       "      <td>139</td>\n",
       "      <td>80</td>\n",
       "      <td>0</td>\n",
       "      <td>0</td>\n",
       "      <td>27.1</td>\n",
       "      <td>1.441</td>\n",
       "      <td>57</td>\n",
       "      <td>tested_negative</td>\n",
       "    </tr>\n",
       "    <tr>\n",
       "      <th>13</th>\n",
       "      <td>1</td>\n",
       "      <td>189</td>\n",
       "      <td>60</td>\n",
       "      <td>23</td>\n",
       "      <td>846</td>\n",
       "      <td>30.1</td>\n",
       "      <td>0.398</td>\n",
       "      <td>59</td>\n",
       "      <td>tested_positive</td>\n",
       "    </tr>\n",
       "    <tr>\n",
       "      <th>14</th>\n",
       "      <td>5</td>\n",
       "      <td>166</td>\n",
       "      <td>72</td>\n",
       "      <td>19</td>\n",
       "      <td>175</td>\n",
       "      <td>25.8</td>\n",
       "      <td>0.587</td>\n",
       "      <td>51</td>\n",
       "      <td>tested_positive</td>\n",
       "    </tr>\n",
       "    <tr>\n",
       "      <th>15</th>\n",
       "      <td>7</td>\n",
       "      <td>100</td>\n",
       "      <td>0</td>\n",
       "      <td>0</td>\n",
       "      <td>0</td>\n",
       "      <td>30.0</td>\n",
       "      <td>0.484</td>\n",
       "      <td>32</td>\n",
       "      <td>tested_positive</td>\n",
       "    </tr>\n",
       "    <tr>\n",
       "      <th>16</th>\n",
       "      <td>0</td>\n",
       "      <td>118</td>\n",
       "      <td>84</td>\n",
       "      <td>47</td>\n",
       "      <td>230</td>\n",
       "      <td>45.8</td>\n",
       "      <td>0.551</td>\n",
       "      <td>31</td>\n",
       "      <td>tested_positive</td>\n",
       "    </tr>\n",
       "    <tr>\n",
       "      <th>17</th>\n",
       "      <td>7</td>\n",
       "      <td>107</td>\n",
       "      <td>74</td>\n",
       "      <td>0</td>\n",
       "      <td>0</td>\n",
       "      <td>29.6</td>\n",
       "      <td>0.254</td>\n",
       "      <td>31</td>\n",
       "      <td>tested_positive</td>\n",
       "    </tr>\n",
       "    <tr>\n",
       "      <th>18</th>\n",
       "      <td>1</td>\n",
       "      <td>103</td>\n",
       "      <td>30</td>\n",
       "      <td>38</td>\n",
       "      <td>83</td>\n",
       "      <td>43.3</td>\n",
       "      <td>0.183</td>\n",
       "      <td>33</td>\n",
       "      <td>tested_negative</td>\n",
       "    </tr>\n",
       "    <tr>\n",
       "      <th>19</th>\n",
       "      <td>1</td>\n",
       "      <td>115</td>\n",
       "      <td>70</td>\n",
       "      <td>30</td>\n",
       "      <td>96</td>\n",
       "      <td>34.6</td>\n",
       "      <td>0.529</td>\n",
       "      <td>32</td>\n",
       "      <td>tested_positive</td>\n",
       "    </tr>\n",
       "  </tbody>\n",
       "</table>\n",
       "</div>"
      ],
      "text/plain": [
       "    preg  plas  pres  skin  insu  mass   pedi  age            class\n",
       "0      6   148    72    35     0  33.6  0.627   50  tested_positive\n",
       "1      1    85    66    29     0  26.6  0.351   31  tested_negative\n",
       "2      8   183    64     0     0  23.3  0.672   32  tested_positive\n",
       "3      1    89    66    23    94  28.1  0.167   21  tested_negative\n",
       "4      0   137    40    35   168  43.1  2.288   33  tested_positive\n",
       "5      5   116    74     0     0  25.6  0.201   30  tested_negative\n",
       "6      3    78    50    32    88  31.0  0.248   26  tested_positive\n",
       "7     10   115     0     0     0  35.3  0.134   29  tested_negative\n",
       "8      2   197    70    45   543  30.5  0.158   53  tested_positive\n",
       "9      8   125    96     0     0   0.0  0.232   54  tested_positive\n",
       "10     4   110    92     0     0  37.6  0.191   30  tested_negative\n",
       "11    10   168    74     0     0  38.0  0.537   34  tested_positive\n",
       "12    10   139    80     0     0  27.1  1.441   57  tested_negative\n",
       "13     1   189    60    23   846  30.1  0.398   59  tested_positive\n",
       "14     5   166    72    19   175  25.8  0.587   51  tested_positive\n",
       "15     7   100     0     0     0  30.0  0.484   32  tested_positive\n",
       "16     0   118    84    47   230  45.8  0.551   31  tested_positive\n",
       "17     7   107    74     0     0  29.6  0.254   31  tested_positive\n",
       "18     1   103    30    38    83  43.3  0.183   33  tested_negative\n",
       "19     1   115    70    30    96  34.6  0.529   32  tested_positive"
      ]
     },
     "execution_count": 3,
     "metadata": {},
     "output_type": "execute_result"
    }
   ],
   "source": [
    "df.head(20)"
   ]
  },
  {
   "cell_type": "code",
   "execution_count": 4,
   "id": "3bc218f6",
   "metadata": {},
   "outputs": [
    {
     "name": "stdout",
     "output_type": "stream",
     "text": [
      "<class 'pandas.core.frame.DataFrame'>\n",
      "RangeIndex: 768 entries, 0 to 767\n",
      "Data columns (total 9 columns):\n",
      " #   Column  Non-Null Count  Dtype  \n",
      "---  ------  --------------  -----  \n",
      " 0   preg    768 non-null    int64  \n",
      " 1   plas    768 non-null    int64  \n",
      " 2   pres    768 non-null    int64  \n",
      " 3   skin    768 non-null    int64  \n",
      " 4   insu    768 non-null    int64  \n",
      " 5   mass    768 non-null    float64\n",
      " 6   pedi    768 non-null    float64\n",
      " 7   age     768 non-null    int64  \n",
      " 8   class   768 non-null    object \n",
      "dtypes: float64(2), int64(6), object(1)\n",
      "memory usage: 54.1+ KB\n"
     ]
    }
   ],
   "source": [
    "df.info()"
   ]
  },
  {
   "cell_type": "code",
   "execution_count": 5,
   "id": "84c4ce61",
   "metadata": {},
   "outputs": [
    {
     "data": {
      "text/html": [
       "<div>\n",
       "<style scoped>\n",
       "    .dataframe tbody tr th:only-of-type {\n",
       "        vertical-align: middle;\n",
       "    }\n",
       "\n",
       "    .dataframe tbody tr th {\n",
       "        vertical-align: top;\n",
       "    }\n",
       "\n",
       "    .dataframe thead th {\n",
       "        text-align: right;\n",
       "    }\n",
       "</style>\n",
       "<table border=\"1\" class=\"dataframe\">\n",
       "  <thead>\n",
       "    <tr style=\"text-align: right;\">\n",
       "      <th></th>\n",
       "      <th>preg</th>\n",
       "      <th>plas</th>\n",
       "      <th>pres</th>\n",
       "      <th>skin</th>\n",
       "      <th>insu</th>\n",
       "      <th>mass</th>\n",
       "      <th>pedi</th>\n",
       "      <th>age</th>\n",
       "    </tr>\n",
       "  </thead>\n",
       "  <tbody>\n",
       "    <tr>\n",
       "      <th>count</th>\n",
       "      <td>768.000000</td>\n",
       "      <td>768.000000</td>\n",
       "      <td>768.000000</td>\n",
       "      <td>768.000000</td>\n",
       "      <td>768.000000</td>\n",
       "      <td>768.000000</td>\n",
       "      <td>768.000000</td>\n",
       "      <td>768.000000</td>\n",
       "    </tr>\n",
       "    <tr>\n",
       "      <th>mean</th>\n",
       "      <td>3.845052</td>\n",
       "      <td>120.894531</td>\n",
       "      <td>69.105469</td>\n",
       "      <td>20.536458</td>\n",
       "      <td>79.799479</td>\n",
       "      <td>31.992578</td>\n",
       "      <td>0.471876</td>\n",
       "      <td>33.240885</td>\n",
       "    </tr>\n",
       "    <tr>\n",
       "      <th>std</th>\n",
       "      <td>3.369578</td>\n",
       "      <td>31.972618</td>\n",
       "      <td>19.355807</td>\n",
       "      <td>15.952218</td>\n",
       "      <td>115.244002</td>\n",
       "      <td>7.884160</td>\n",
       "      <td>0.331329</td>\n",
       "      <td>11.760232</td>\n",
       "    </tr>\n",
       "    <tr>\n",
       "      <th>min</th>\n",
       "      <td>0.000000</td>\n",
       "      <td>0.000000</td>\n",
       "      <td>0.000000</td>\n",
       "      <td>0.000000</td>\n",
       "      <td>0.000000</td>\n",
       "      <td>0.000000</td>\n",
       "      <td>0.078000</td>\n",
       "      <td>21.000000</td>\n",
       "    </tr>\n",
       "    <tr>\n",
       "      <th>25%</th>\n",
       "      <td>1.000000</td>\n",
       "      <td>99.000000</td>\n",
       "      <td>62.000000</td>\n",
       "      <td>0.000000</td>\n",
       "      <td>0.000000</td>\n",
       "      <td>27.300000</td>\n",
       "      <td>0.243750</td>\n",
       "      <td>24.000000</td>\n",
       "    </tr>\n",
       "    <tr>\n",
       "      <th>50%</th>\n",
       "      <td>3.000000</td>\n",
       "      <td>117.000000</td>\n",
       "      <td>72.000000</td>\n",
       "      <td>23.000000</td>\n",
       "      <td>30.500000</td>\n",
       "      <td>32.000000</td>\n",
       "      <td>0.372500</td>\n",
       "      <td>29.000000</td>\n",
       "    </tr>\n",
       "    <tr>\n",
       "      <th>75%</th>\n",
       "      <td>6.000000</td>\n",
       "      <td>140.250000</td>\n",
       "      <td>80.000000</td>\n",
       "      <td>32.000000</td>\n",
       "      <td>127.250000</td>\n",
       "      <td>36.600000</td>\n",
       "      <td>0.626250</td>\n",
       "      <td>41.000000</td>\n",
       "    </tr>\n",
       "    <tr>\n",
       "      <th>max</th>\n",
       "      <td>17.000000</td>\n",
       "      <td>199.000000</td>\n",
       "      <td>122.000000</td>\n",
       "      <td>99.000000</td>\n",
       "      <td>846.000000</td>\n",
       "      <td>67.100000</td>\n",
       "      <td>2.420000</td>\n",
       "      <td>81.000000</td>\n",
       "    </tr>\n",
       "  </tbody>\n",
       "</table>\n",
       "</div>"
      ],
      "text/plain": [
       "             preg        plas        pres        skin        insu        mass  \\\n",
       "count  768.000000  768.000000  768.000000  768.000000  768.000000  768.000000   \n",
       "mean     3.845052  120.894531   69.105469   20.536458   79.799479   31.992578   \n",
       "std      3.369578   31.972618   19.355807   15.952218  115.244002    7.884160   \n",
       "min      0.000000    0.000000    0.000000    0.000000    0.000000    0.000000   \n",
       "25%      1.000000   99.000000   62.000000    0.000000    0.000000   27.300000   \n",
       "50%      3.000000  117.000000   72.000000   23.000000   30.500000   32.000000   \n",
       "75%      6.000000  140.250000   80.000000   32.000000  127.250000   36.600000   \n",
       "max     17.000000  199.000000  122.000000   99.000000  846.000000   67.100000   \n",
       "\n",
       "             pedi         age  \n",
       "count  768.000000  768.000000  \n",
       "mean     0.471876   33.240885  \n",
       "std      0.331329   11.760232  \n",
       "min      0.078000   21.000000  \n",
       "25%      0.243750   24.000000  \n",
       "50%      0.372500   29.000000  \n",
       "75%      0.626250   41.000000  \n",
       "max      2.420000   81.000000  "
      ]
     },
     "execution_count": 5,
     "metadata": {},
     "output_type": "execute_result"
    }
   ],
   "source": [
    "df.describe()"
   ]
  },
  {
   "cell_type": "code",
   "execution_count": 6,
   "id": "3888c0ac",
   "metadata": {},
   "outputs": [
    {
     "data": {
      "text/plain": [
       "preg     False\n",
       "plas     False\n",
       "pres     False\n",
       "skin     False\n",
       "insu     False\n",
       "mass     False\n",
       "pedi     False\n",
       "age      False\n",
       "class    False\n",
       "dtype: bool"
      ]
     },
     "execution_count": 6,
     "metadata": {},
     "output_type": "execute_result"
    }
   ],
   "source": [
    "df.isna().any()"
   ]
  },
  {
   "cell_type": "code",
   "execution_count": 7,
   "id": "04901615",
   "metadata": {},
   "outputs": [
    {
     "data": {
      "text/plain": [
       "class    2\n",
       "dtype: int64"
      ]
     },
     "execution_count": 7,
     "metadata": {},
     "output_type": "execute_result"
    }
   ],
   "source": [
    "df[['class']].nunique()"
   ]
  },
  {
   "cell_type": "code",
   "execution_count": 8,
   "id": "b988b9da",
   "metadata": {},
   "outputs": [],
   "source": [
    "target = df[['class']]"
   ]
  },
  {
   "cell_type": "code",
   "execution_count": 9,
   "id": "179c4aa1",
   "metadata": {},
   "outputs": [],
   "source": [
    "from sklearn.preprocessing import LabelEncoder"
   ]
  },
  {
   "cell_type": "code",
   "execution_count": 10,
   "id": "99dcf77b",
   "metadata": {},
   "outputs": [],
   "source": [
    "b = LabelEncoder()"
   ]
  },
  {
   "cell_type": "code",
   "execution_count": 11,
   "id": "ae8dd402",
   "metadata": {},
   "outputs": [
    {
     "name": "stderr",
     "output_type": "stream",
     "text": [
      "<ipython-input-11-367c3cc60aba>:1: SettingWithCopyWarning: \n",
      "A value is trying to be set on a copy of a slice from a DataFrame.\n",
      "Try using .loc[row_indexer,col_indexer] = value instead\n",
      "\n",
      "See the caveats in the documentation: https://pandas.pydata.org/pandas-docs/stable/user_guide/indexing.html#returning-a-view-versus-a-copy\n",
      "  target['Class'] = b.fit_transform(target['class'])\n"
     ]
    }
   ],
   "source": [
    "target['Class'] = b.fit_transform(target['class'])"
   ]
  },
  {
   "cell_type": "code",
   "execution_count": 12,
   "id": "1094d63b",
   "metadata": {},
   "outputs": [
    {
     "data": {
      "text/html": [
       "<div>\n",
       "<style scoped>\n",
       "    .dataframe tbody tr th:only-of-type {\n",
       "        vertical-align: middle;\n",
       "    }\n",
       "\n",
       "    .dataframe tbody tr th {\n",
       "        vertical-align: top;\n",
       "    }\n",
       "\n",
       "    .dataframe thead th {\n",
       "        text-align: right;\n",
       "    }\n",
       "</style>\n",
       "<table border=\"1\" class=\"dataframe\">\n",
       "  <thead>\n",
       "    <tr style=\"text-align: right;\">\n",
       "      <th></th>\n",
       "      <th>class</th>\n",
       "      <th>Class</th>\n",
       "    </tr>\n",
       "  </thead>\n",
       "  <tbody>\n",
       "    <tr>\n",
       "      <th>0</th>\n",
       "      <td>tested_positive</td>\n",
       "      <td>1</td>\n",
       "    </tr>\n",
       "    <tr>\n",
       "      <th>1</th>\n",
       "      <td>tested_negative</td>\n",
       "      <td>0</td>\n",
       "    </tr>\n",
       "    <tr>\n",
       "      <th>2</th>\n",
       "      <td>tested_positive</td>\n",
       "      <td>1</td>\n",
       "    </tr>\n",
       "    <tr>\n",
       "      <th>3</th>\n",
       "      <td>tested_negative</td>\n",
       "      <td>0</td>\n",
       "    </tr>\n",
       "    <tr>\n",
       "      <th>4</th>\n",
       "      <td>tested_positive</td>\n",
       "      <td>1</td>\n",
       "    </tr>\n",
       "  </tbody>\n",
       "</table>\n",
       "</div>"
      ],
      "text/plain": [
       "             class  Class\n",
       "0  tested_positive      1\n",
       "1  tested_negative      0\n",
       "2  tested_positive      1\n",
       "3  tested_negative      0\n",
       "4  tested_positive      1"
      ]
     },
     "execution_count": 12,
     "metadata": {},
     "output_type": "execute_result"
    }
   ],
   "source": [
    "target.head()"
   ]
  },
  {
   "cell_type": "code",
   "execution_count": 13,
   "id": "9643b8fe",
   "metadata": {},
   "outputs": [],
   "source": [
    "data = df.drop('class', axis = 1)"
   ]
  },
  {
   "cell_type": "code",
   "execution_count": 14,
   "id": "205ba7a9",
   "metadata": {},
   "outputs": [],
   "source": [
    "Target = target[['Class']]"
   ]
  },
  {
   "cell_type": "code",
   "execution_count": 15,
   "id": "5c735202",
   "metadata": {},
   "outputs": [],
   "source": [
    "from sklearn.model_selection import train_test_split"
   ]
  },
  {
   "cell_type": "code",
   "execution_count": 59,
   "id": "2a3417f8",
   "metadata": {},
   "outputs": [],
   "source": [
    " X_train, X_test, y_train, y_test = train_test_split(data, Target, test_size=0.2, random_state=17)"
   ]
  },
  {
   "cell_type": "code",
   "execution_count": 17,
   "id": "ad7e7f33",
   "metadata": {},
   "outputs": [],
   "source": [
    "from sklearn.neighbors import KNeighborsClassifier"
   ]
  },
  {
   "cell_type": "code",
   "execution_count": 18,
   "id": "b3e8d32a",
   "metadata": {},
   "outputs": [],
   "source": [
    "model = KNeighborsClassifier()"
   ]
  },
  {
   "cell_type": "code",
   "execution_count": 19,
   "id": "04efefb7",
   "metadata": {},
   "outputs": [
    {
     "name": "stderr",
     "output_type": "stream",
     "text": [
      "C:\\Users\\Usman\\anaconda3\\lib\\site-packages\\sklearn\\neighbors\\_classification.py:179: DataConversionWarning: A column-vector y was passed when a 1d array was expected. Please change the shape of y to (n_samples,), for example using ravel().\n",
      "  return self._fit(X, y)\n"
     ]
    },
    {
     "data": {
      "text/plain": [
       "KNeighborsClassifier()"
      ]
     },
     "execution_count": 19,
     "metadata": {},
     "output_type": "execute_result"
    }
   ],
   "source": [
    "model.fit(X_train, y_train)"
   ]
  },
  {
   "cell_type": "code",
   "execution_count": 20,
   "id": "d5e6d3d9",
   "metadata": {},
   "outputs": [
    {
     "data": {
      "text/plain": [
       "0.7922077922077922"
      ]
     },
     "execution_count": 20,
     "metadata": {},
     "output_type": "execute_result"
    }
   ],
   "source": [
    "model.score(X_test, y_test)"
   ]
  },
  {
   "cell_type": "code",
   "execution_count": 21,
   "id": "751c9bb4",
   "metadata": {},
   "outputs": [],
   "source": [
    "from sklearn.naive_bayes import GaussianNB"
   ]
  },
  {
   "cell_type": "code",
   "execution_count": 22,
   "id": "0a38b552",
   "metadata": {},
   "outputs": [],
   "source": [
    "model1 = GaussianNB()"
   ]
  },
  {
   "cell_type": "code",
   "execution_count": 23,
   "id": "eac91dc4",
   "metadata": {},
   "outputs": [
    {
     "name": "stderr",
     "output_type": "stream",
     "text": [
      "C:\\Users\\Usman\\anaconda3\\lib\\site-packages\\sklearn\\utils\\validation.py:63: DataConversionWarning: A column-vector y was passed when a 1d array was expected. Please change the shape of y to (n_samples, ), for example using ravel().\n",
      "  return f(*args, **kwargs)\n"
     ]
    },
    {
     "data": {
      "text/plain": [
       "GaussianNB()"
      ]
     },
     "execution_count": 23,
     "metadata": {},
     "output_type": "execute_result"
    }
   ],
   "source": [
    "model1.fit(X_train, y_train)"
   ]
  },
  {
   "cell_type": "code",
   "execution_count": 24,
   "id": "2203f2fb",
   "metadata": {},
   "outputs": [
    {
     "data": {
      "text/plain": [
       "0.7727272727272727"
      ]
     },
     "execution_count": 24,
     "metadata": {},
     "output_type": "execute_result"
    }
   ],
   "source": [
    "model1.score(X_test, y_test)"
   ]
  },
  {
   "cell_type": "code",
   "execution_count": 25,
   "id": "e507d7d5",
   "metadata": {},
   "outputs": [],
   "source": [
    "from sklearn.tree import DecisionTreeClassifier"
   ]
  },
  {
   "cell_type": "code",
   "execution_count": 26,
   "id": "4bdb2d1a",
   "metadata": {},
   "outputs": [],
   "source": [
    "model2 = DecisionTreeClassifier()"
   ]
  },
  {
   "cell_type": "code",
   "execution_count": 27,
   "id": "ad2696ef",
   "metadata": {},
   "outputs": [
    {
     "data": {
      "text/plain": [
       "DecisionTreeClassifier()"
      ]
     },
     "execution_count": 27,
     "metadata": {},
     "output_type": "execute_result"
    }
   ],
   "source": [
    "model2.fit(X_train, y_train\n",
    "          )"
   ]
  },
  {
   "cell_type": "code",
   "execution_count": 28,
   "id": "dc7b4548",
   "metadata": {},
   "outputs": [
    {
     "data": {
      "text/plain": [
       "0.7467532467532467"
      ]
     },
     "execution_count": 28,
     "metadata": {},
     "output_type": "execute_result"
    }
   ],
   "source": [
    "model2.score(X_test, y_test)"
   ]
  },
  {
   "cell_type": "code",
   "execution_count": 29,
   "id": "855ef3bd",
   "metadata": {},
   "outputs": [],
   "source": [
    "from sklearn.ensemble import RandomForestClassifier"
   ]
  },
  {
   "cell_type": "code",
   "execution_count": 30,
   "id": "5a70e6ad",
   "metadata": {},
   "outputs": [],
   "source": [
    "model3 = RandomForestClassifier()"
   ]
  },
  {
   "cell_type": "code",
   "execution_count": 31,
   "id": "1279d32d",
   "metadata": {},
   "outputs": [
    {
     "name": "stderr",
     "output_type": "stream",
     "text": [
      "<ipython-input-31-1f0472b386ae>:1: DataConversionWarning: A column-vector y was passed when a 1d array was expected. Please change the shape of y to (n_samples,), for example using ravel().\n",
      "  model3.fit(X_train, y_train)\n"
     ]
    },
    {
     "data": {
      "text/plain": [
       "RandomForestClassifier()"
      ]
     },
     "execution_count": 31,
     "metadata": {},
     "output_type": "execute_result"
    }
   ],
   "source": [
    "model3.fit(X_train, y_train)"
   ]
  },
  {
   "cell_type": "code",
   "execution_count": 32,
   "id": "2a6566da",
   "metadata": {},
   "outputs": [
    {
     "data": {
      "text/plain": [
       "0.7727272727272727"
      ]
     },
     "execution_count": 32,
     "metadata": {},
     "output_type": "execute_result"
    }
   ],
   "source": [
    "model3.score(X_test, y_test)"
   ]
  },
  {
   "cell_type": "code",
   "execution_count": 33,
   "id": "6efe7f2a",
   "metadata": {},
   "outputs": [
    {
     "data": {
      "image/png": "[encoded data removed]",
      "text/plain": [
       "<Figure size 432x288 with 1 Axes>"
      ]
     },
     "metadata": {},
     "output_type": "display_data"
    }
   ],
   "source": [
    "plt.axis(\"equal\")\n",
    "plt.pie(data.iloc[1],labels = data.columns, shadow=True, autopct='%1.1f%%',radius=1.5)\n",
    "plt.show()"
   ]
  },
  {
   "cell_type": "code",
   "execution_count": 34,
   "id": "a6e12cf6",
   "metadata": {},
   "outputs": [],
   "source": [
    "import cufflinks as cf"
   ]
  },
  {
   "cell_type": "code",
   "execution_count": 35,
   "id": "27dd543d",
   "metadata": {},
   "outputs": [],
   "source": [
    "#!pip install plotly"
   ]
  },
  {
   "cell_type": "code",
   "execution_count": 36,
   "id": "bdb26f68",
   "metadata": {},
   "outputs": [],
   "source": [
    "from plotly.offline import download_plotlyjs, init_notebook_mode, plot, iplot"
   ]
  },
  {
   "cell_type": "code",
   "execution_count": 37,
   "id": "f0ac2e2b",
   "metadata": {},
   "outputs": [],
   "source": [
    "#!pip install cufflinks"
   ]
  },
  {
   "cell_type": "code",
   "execution_count": 38,
   "id": "3b5415bf",
   "metadata": {},
   "outputs": [
    {
     "data": {
      "text/html": [
       "        <script type=\"text/javascript\">\n",
       "        window.PlotlyConfig = {MathJaxConfig: 'local'};\n",
       "        if (window.MathJax) {MathJax.Hub.Config({SVG: {font: \"STIX-Web\"}});}\n",
       "        if (typeof require !== 'undefined') {\n",
       "        require.undef(\"plotly\");\n",
       "        requirejs.config({\n",
       "            paths: {\n",
       "                'plotly': ['https://cdn.plot.ly/plotly-2.6.3.min']\n",
       "            }\n",
       "        });\n",
       "        require(['plotly'], function(Plotly) {\n",
       "            window._Plotly = Plotly;\n",
       "        });\n",
       "        }\n",
       "        </script>\n",
       "        "
      ]
     },
     "metadata": {},
     "output_type": "display_data"
    }
   ],
   "source": [
    "init_notebook_mode(connected=True)"
   ]
  },
  {
   "cell_type": "code",
   "execution_count": 39,
   "id": "8bdae385",
   "metadata": {},
   "outputs": [
    {
     "data": {
      "text/html": [
       "        <script type=\"text/javascript\">\n",
       "        window.PlotlyConfig = {MathJaxConfig: 'local'};\n",
       "        if (window.MathJax) {MathJax.Hub.Config({SVG: {font: \"STIX-Web\"}});}\n",
       "        if (typeof require !== 'undefined') {\n",
       "        require.undef(\"plotly\");\n",
       "        requirejs.config({\n",
       "            paths: {\n",
       "                'plotly': ['https://cdn.plot.ly/plotly-2.6.3.min']\n",
       "            }\n",
       "        });\n",
       "        require(['plotly'], function(Plotly) {\n",
       "            window._Plotly = Plotly;\n",
       "        });\n",
       "        }\n",
       "        </script>\n",
       "        "
      ]
     },
     "metadata": {},
     "output_type": "display_data"
    }
   ],
   "source": [
    "cf.go_offline()"
   ]
  },
  {
   "cell_type": "code",
   "execution_count": 40,
   "id": "f95b6029",
   "metadata": {},
   "outputs": [
    {
     "data": {
      "application/vnd.plotly.v1+json": {
       "config": {
        "linkText": "Export to plot.ly",
        "plotlyServerURL": "https://plot.ly",
        "showLink": true
       },
       "data": [
        {
         "marker": {
          "color": "rgba(255, 153, 51, 0.6)",
          "line": {
           "color": "rgba(255, 153, 51, 1.0)",
           "width": 1
          }
         },
         "name": "age",
         "orientation": "v",
         "text": "",
         "type": "bar",
         "x": [
          "tested_positive",
          "tested_negative",
          "tested_positive",
          "tested_negative",
          "tested_positive",
          "tested_negative",
          "tested_positive",
          "tested_negative",
          "tested_positive",
          "tested_positive",
          "tested_negative",
          "tested_positive",
          "tested_negative",
          "tested_positive",
          "tested_positive",
          "tested_positive",
          "tested_positive",
          "tested_positive",
          "tested_negative",
          "tested_positive",
          "tested_negative",
          "tested_negative",
          "tested_positive",
          "tested_positive",
          "tested_positive",
          "tested_positive",
          "tested_positive",
          "tested_negative",
          "tested_negative",
          "tested_negative",
          "tested_negative",
          "tested_positive",
          "tested_negative",
          "tested_negative",
          "tested_negative",
          "tested_negative",
          "tested_negative",
          "tested_positive",
          "tested_positive",
          "tested_positive",
          "tested_negative",
          "tested_negative",
          "tested_negative",
          "tested_positive",
          "tested_negative",
          "tested_positive",
          "tested_negative",
          "tested_negative",
          "tested_positive",
          "tested_negative",
          "tested_negative",
          "tested_negative",
          "tested_negative",
          "tested_positive",
          "tested_negative",
          "tested_negative",
          "tested_positive",
          "tested_negative",
          "tested_negative",
          "tested_negative",
          "tested_negative",
          "tested_positive",
          "tested_negative",
          "tested_negative",
          "tested_positive",
          "tested_negative",
          "tested_positive",
          "tested_negative",
          "tested_negative",
          "tested_negative",
          "tested_positive",
          "tested_negative",
          "tested_positive",
          "tested_negative",
          "tested_negative",
          "tested_negative",
          "tested_negative",
          "tested_negative",
          "tested_positive",
          "tested_negative",
          "tested_negative",
          "tested_negative",
          "tested_negative",
          "tested_negative",
          "tested_positive",
          "tested_negative",
          "tested_negative",
          "tested_negative",
          "tested_positive",
          "tested_negative",
          "tested_negative",
          "tested_negative",
          "tested_negative",
          "tested_positive",
          "tested_negative",
          "tested_negative",
          "tested_negative",
          "tested_negative",
          "tested_negative",
          "tested_positive",
          "tested_positive",
          "tested_negative",
          "tested_negative",
          "tested_negative",
          "tested_negative",
          "tested_negative",
          "tested_negative",
          "tested_negative",
          "tested_negative",
          "tested_positive",
          "tested_positive",
          "tested_positive",
          "tested_negative",
          "tested_negative",
          "tested_positive",
          "tested_positive",
          "tested_positive",
          "tested_negative",
          "tested_negative",
          "tested_negative",
          "tested_positive",
          "tested_negative",
          "tested_negative",
          "tested_negative",
          "tested_positive",
          "tested_positive",
          "tested_negative",
          "tested_negative",
          "tested_positive",
          "tested_positive",
          "tested_positive",
          "tested_positive",
          "tested_positive",
          "tested_negative",
          "tested_negative",
          "tested_negative",
          "tested_negative",
          "tested_negative",
          "tested_negative",
          "tested_negative",
          "tested_negative",
          "tested_negative",
          "tested_negative",
          "tested_positive",
          "tested_negative",
          "tested_negative",
          "tested_negative",
          "tested_negative",
          "tested_negative",
          "tested_negative",
          "tested_negative",
          "tested_negative",
          "tested_positive",
          "tested_negative",
          "tested_positive",
          "tested_positive",
          "tested_negative",
          "tested_negative",
          "tested_negative",
          "tested_positive",
          "tested_negative",
          "tested_negative",
          "tested_negative",
          "tested_negative",
          "tested_positive",
          "tested_positive",
          "tested_negative",
          "tested_negative",
          "tested_negative",
          "tested_negative",
          "tested_positive",
          "tested_positive",
          "tested_negative",
          "tested_negative",
          "tested_negative",
          "tested_positive",
          "tested_negative",
          "tested_positive",
          "tested_negative",
          "tested_positive",
          "tested_negative",
          "tested_negative",
          "tested_negative",
          "tested_negative",
          "tested_negative",
          "tested_positive",
          "tested_positive",
          "tested_positive",
          "tested_positive",
          "tested_positive",
          "tested_negative",
          "tested_negative",
          "tested_positive",
          "tested_positive",
          "tested_negative",
          "tested_positive",
          "tested_negative",
          "tested_positive",
          "tested_positive",
          "tested_positive",
          "tested_negative",
          "tested_negative",
          "tested_negative",
          "tested_negative",
          "tested_negative",
          "tested_negative",
          "tested_positive",
          "tested_positive",
          "tested_negative",
          "tested_positive",
          "tested_negative",
          "tested_negative",
          "tested_negative",
          "tested_positive",
          "tested_positive",
          "tested_positive",
          "tested_positive",
          "tested_negative",
          "tested_positive",
          "tested_positive",
          "tested_positive",
          "tested_positive",
          "tested_negative",
          "tested_negative",
          "tested_negative",
          "tested_negative",
          "tested_negative",
          "tested_positive",
          "tested_negative",
          "tested_negative",
          "tested_positive",
          "tested_positive",
          "tested_negative",
          "tested_negative",
          "tested_negative",
          "tested_positive",
          "tested_positive",
          "tested_positive",
          "tested_positive",
          "tested_negative",
          "tested_negative",
          "tested_negative",
          "tested_positive",
          "tested_positive",
          "tested_negative",
          "tested_positive",
          "tested_negative",
          "tested_negative",
          "tested_negative",
          "tested_negative",
          "tested_negative",
          "tested_negative",
          "tested_negative",
          "tested_negative",
          "tested_positive",
          "tested_positive",
          "tested_negative",
          "tested_negative",
          "tested_negative",
          "tested_positive",
          "tested_negative",
          "tested_positive",
          "tested_negative",
          "tested_negative",
          "tested_positive",
          "tested_negative",
          "tested_positive",
          "tested_negative",
          "tested_negative",
          "tested_positive",
          "tested_positive",
          "tested_negative",
          "tested_negative",
          "tested_negative",
          "tested_negative",
          "tested_negative",
          "tested_positive",
          "tested_negative",
          "tested_negative",
          "tested_negative",
          "tested_positive",
          "tested_negative",
          "tested_negative",
          "tested_positive",
          "tested_positive",
          "tested_negative",
          "tested_negative",
          "tested_positive",
          "tested_negative",
          "tested_negative",
          "tested_negative",
          "tested_positive",
          "tested_positive",
          "tested_positive",
          "tested_negative",
          "tested_negative",
          "tested_positive",
          "tested_negative",
          "tested_positive",
          "tested_negative",
          "tested_positive",
          "tested_positive",
          "tested_negative",
          "tested_positive",
          "tested_negative",
          "tested_negative",
          "tested_positive",
          "tested_negative",
          "tested_positive",
          "tested_positive",
          "tested_negative",
          "tested_negative",
          "tested_positive",
          "tested_negative",
          "tested_positive",
          "tested_negative",
          "tested_negative",
          "tested_positive",
          "tested_negative",
          "tested_positive",
          "tested_negative",
          "tested_positive",
          "tested_positive",
          "tested_positive",
          "tested_negative",
          "tested_negative",
          "tested_positive",
          "tested_negative",
          "tested_positive",
          "tested_negative",
          "tested_negative",
          "tested_negative",
          "tested_positive",
          "tested_negative",
          "tested_negative",
          "tested_negative",
          "tested_negative",
          "tested_positive",
          "tested_positive",
          "tested_positive",
          "tested_negative",
          "tested_negative",
          "tested_negative",
          "tested_negative",
          "tested_negative",
          "tested_negative",
          "tested_negative",
          "tested_negative",
          "tested_negative",
          "tested_positive",
          "tested_negative",
          "tested_negative",
          "tested_negative",
          "tested_negative",
          "tested_negative",
          "tested_positive",
          "tested_positive",
          "tested_positive",
          "tested_negative",
          "tested_positive",
          "tested_positive",
          "tested_negative",
          "tested_negative",
          "tested_positive",
          "tested_negative",
          "tested_negative",
          "tested_positive",
          "tested_negative",
          "tested_negative",
          "tested_positive",
          "tested_positive",
          "tested_negative",
          "tested_negative",
          "tested_negative",
          "tested_negative",
          "tested_positive",
          "tested_negative",
          "tested_negative",
          "tested_positive",
          "tested_negative",
          "tested_negative",
          "tested_negative",
          "tested_negative",
          "tested_negative",
          "tested_negative",
          "tested_negative",
          "tested_positive",
          "tested_positive",
          "tested_positive",
          "tested_negative",
          "tested_negative",
          "tested_positive",
          "tested_negative",
          "tested_negative",
          "tested_positive",
          "tested_negative",
          "tested_negative",
          "tested_positive",
          "tested_negative",
          "tested_positive",
          "tested_positive",
          "tested_negative",
          "tested_positive",
          "tested_negative",
          "tested_positive",
          "tested_negative",
          "tested_positive",
          "tested_negative",
          "tested_positive",
          "tested_positive",
          "tested_negative",
          "tested_negative",
          "tested_negative",
          "tested_negative",
          "tested_positive",
          "tested_positive",
          "tested_negative",
          "tested_positive",
          "tested_negative",
          "tested_positive",
          "tested_negative",
          "tested_negative",
          "tested_negative",
          "tested_negative",
          "tested_positive",
          "tested_positive",
          "tested_negative",
          "tested_positive",
          "tested_negative",
          "tested_positive",
          "tested_negative",
          "tested_negative",
          "tested_negative",
          "tested_negative",
          "tested_negative",
          "tested_positive",
          "tested_negative",
          "tested_negative",
          "tested_negative",
          "tested_negative",
          "tested_positive",
          "tested_negative",
          "tested_negative",
          "tested_positive",
          "tested_positive",
          "tested_positive",
          "tested_negative",
          "tested_negative",
          "tested_positive",
          "tested_negative",
          "tested_negative",
          "tested_positive",
          "tested_negative",
          "tested_negative",
          "tested_negative",
          "tested_positive",
          "tested_negative",
          "tested_negative",
          "tested_positive",
          "tested_negative",
          "tested_negative",
          "tested_negative",
          "tested_negative",
          "tested_negative",
          "tested_negative",
          "tested_negative",
          "tested_negative",
          "tested_negative",
          "tested_positive",
          "tested_negative",
          "tested_negative",
          "tested_negative",
          "tested_negative",
          "tested_negative",
          "tested_negative",
          "tested_negative",
          "tested_positive",
          "tested_negative",
          "tested_negative",
          "tested_negative",
          "tested_positive",
          "tested_negative",
          "tested_negative",
          "tested_negative",
          "tested_positive",
          "tested_positive",
          "tested_negative",
          "tested_negative",
          "tested_negative",
          "tested_negative",
          "tested_negative",
          "tested_negative",
          "tested_negative",
          "tested_positive",
          "tested_negative",
          "tested_negative",
          "tested_negative",
          "tested_negative",
          "tested_positive",
          "tested_negative",
          "tested_negative",
          "tested_negative",
          "tested_positive",
          "tested_negative",
          "tested_negative",
          "tested_negative",
          "tested_positive",
          "tested_negative",
          "tested_negative",
          "tested_negative",
          "tested_positive",
          "tested_negative",
          "tested_negative",
          "tested_negative",
          "tested_negative",
          "tested_positive",
          "tested_positive",
          "tested_negative",
          "tested_negative",
          "tested_negative",
          "tested_negative",
          "tested_negative",
          "tested_negative",
          "tested_positive",
          "tested_negative",
          "tested_negative",
          "tested_negative",
          "tested_negative",
          "tested_negative",
          "tested_negative",
          "tested_negative",
          "tested_negative",
          "tested_negative",
          "tested_negative",
          "tested_negative",
          "tested_positive",
          "tested_negative",
          "tested_negative",
          "tested_negative",
          "tested_positive",
          "tested_positive",
          "tested_positive",
          "tested_positive",
          "tested_negative",
          "tested_negative",
          "tested_positive",
          "tested_positive",
          "tested_negative",
          "tested_negative",
          "tested_negative",
          "tested_negative",
          "tested_negative",
          "tested_negative",
          "tested_negative",
          "tested_negative",
          "tested_negative",
          "tested_negative",
          "tested_negative",
          "tested_negative",
          "tested_negative",
          "tested_positive",
          "tested_positive",
          "tested_negative",
          "tested_negative",
          "tested_negative",
          "tested_negative",
          "tested_negative",
          "tested_negative",
          "tested_negative",
          "tested_positive",
          "tested_negative",
          "tested_negative",
          "tested_negative",
          "tested_negative",
          "tested_negative",
          "tested_negative",
          "tested_negative",
          "tested_positive",
          "tested_negative",
          "tested_positive",
          "tested_positive",
          "tested_negative",
          "tested_negative",
          "tested_negative",
          "tested_positive",
          "tested_negative",
          "tested_positive",
          "tested_negative",
          "tested_positive",
          "tested_negative",
          "tested_positive",
          "tested_negative",
          "tested_positive",
          "tested_negative",
          "tested_negative",
          "tested_positive",
          "tested_negative",
          "tested_negative",
          "tested_positive",
          "tested_negative",
          "tested_negative",
          "tested_negative",
          "tested_negative",
          "tested_positive",
          "tested_positive",
          "tested_negative",
          "tested_positive",
          "tested_negative",
          "tested_negative",
          "tested_negative",
          "tested_negative",
          "tested_positive",
          "tested_positive",
          "tested_negative",
          "tested_positive",
          "tested_negative",
          "tested_negative",
          "tested_negative",
          "tested_positive",
          "tested_positive",
          "tested_negative",
          "tested_negative",
          "tested_negative",
          "tested_negative",
          "tested_negative",
          "tested_negative",
          "tested_negative",
          "tested_negative",
          "tested_negative",
          "tested_negative",
          "tested_positive",
          "tested_negative",
          "tested_negative",
          "tested_negative",
          "tested_negative",
          "tested_positive",
          "tested_negative",
          "tested_negative",
          "tested_positive",
          "tested_negative",
          "tested_negative",
          "tested_negative",
          "tested_positive",
          "tested_negative",
          "tested_negative",
          "tested_negative",
          "tested_positive",
          "tested_positive",
          "tested_positive",
          "tested_negative",
          "tested_negative",
          "tested_negative",
          "tested_negative",
          "tested_negative",
          "tested_negative",
          "tested_positive",
          "tested_negative",
          "tested_negative",
          "tested_negative",
          "tested_positive",
          "tested_negative",
          "tested_positive",
          "tested_positive",
          "tested_positive",
          "tested_positive",
          "tested_negative",
          "tested_positive",
          "tested_positive",
          "tested_negative",
          "tested_negative",
          "tested_negative",
          "tested_negative",
          "tested_negative",
          "tested_negative",
          "tested_negative",
          "tested_positive",
          "tested_positive",
          "tested_negative",
          "tested_positive",
          "tested_negative",
          "tested_negative",
          "tested_positive",
          "tested_negative",
          "tested_positive",
          "tested_negative",
          "tested_negative",
          "tested_negative",
          "tested_negative",
          "tested_negative",
          "tested_positive",
          "tested_negative",
          "tested_positive",
          "tested_negative",
          "tested_positive",
          "tested_negative",
          "tested_positive",
          "tested_positive",
          "tested_negative",
          "tested_negative",
          "tested_negative",
          "tested_negative",
          "tested_positive",
          "tested_positive",
          "tested_negative",
          "tested_negative",
          "tested_negative",
          "tested_positive",
          "tested_negative",
          "tested_positive",
          "tested_positive",
          "tested_negative",
          "tested_negative",
          "tested_positive",
          "tested_negative",
          "tested_negative",
          "tested_positive",
          "tested_positive",
          "tested_negative",
          "tested_negative",
          "tested_positive",
          "tested_negative",
          "tested_negative",
          "tested_positive",
          "tested_negative",
          "tested_negative",
          "tested_negative",
          "tested_negative",
          "tested_negative",
          "tested_negative",
          "tested_negative",
          "tested_positive",
          "tested_positive",
          "tested_positive",
          "tested_negative",
          "tested_negative",
          "tested_negative",
          "tested_negative",
          "tested_negative",
          "tested_negative",
          "tested_positive",
          "tested_positive",
          "tested_negative",
          "tested_negative",
          "tested_positive",
          "tested_negative",
          "tested_negative",
          "tested_positive",
          "tested_negative",
          "tested_positive",
          "tested_positive",
          "tested_positive",
          "tested_negative",
          "tested_negative",
          "tested_positive",
          "tested_positive",
          "tested_positive",
          "tested_negative",
          "tested_positive",
          "tested_negative",
          "tested_positive",
          "tested_negative",
          "tested_positive",
          "tested_negative",
          "tested_negative",
          "tested_negative",
          "tested_negative",
          "tested_positive",
          "tested_negative"
         ],
         "y": [
          50,
          31,
          32,
          21,
          33,
          30,
          26,
          29,
          53,
          54,
          30,
          34,
          57,
          59,
          51,
          32,
          31,
          31,
          33,
          32,
          27,
          50,
          41,
          29,
          51,
          41,
          43,
          22,
          57,
          38,
          60,
          28,
          22,
          28,
          45,
          33,
          35,
          46,
          27,
          56,
          26,
          37,
          48,
          54,
          40,
          25,
          29,
          22,
          31,
          24,
          22,
          26,
          30,
          58,
          42,
          21,
          41,
          31,
          44,
          22,
          21,
          39,
          36,
          24,
          42,
          32,
          38,
          54,
          25,
          27,
          28,
          26,
          42,
          23,
          22,
          22,
          41,
          27,
          26,
          24,
          22,
          22,
          36,
          22,
          37,
          27,
          45,
          26,
          43,
          24,
          21,
          34,
          42,
          60,
          21,
          40,
          24,
          22,
          23,
          31,
          33,
          22,
          21,
          24,
          27,
          21,
          27,
          37,
          25,
          24,
          24,
          46,
          23,
          25,
          39,
          61,
          38,
          25,
          22,
          21,
          25,
          24,
          23,
          69,
          23,
          26,
          30,
          23,
          40,
          62,
          33,
          33,
          30,
          39,
          26,
          31,
          21,
          22,
          29,
          28,
          55,
          38,
          22,
          42,
          23,
          21,
          41,
          34,
          65,
          22,
          24,
          37,
          42,
          23,
          43,
          36,
          21,
          23,
          22,
          47,
          36,
          45,
          27,
          21,
          32,
          41,
          22,
          34,
          29,
          29,
          36,
          29,
          25,
          23,
          33,
          36,
          42,
          26,
          47,
          37,
          32,
          23,
          21,
          27,
          40,
          41,
          60,
          33,
          31,
          25,
          21,
          40,
          36,
          40,
          42,
          29,
          21,
          23,
          26,
          29,
          21,
          28,
          32,
          27,
          55,
          27,
          57,
          52,
          21,
          41,
          25,
          24,
          60,
          24,
          36,
          38,
          25,
          32,
          32,
          41,
          21,
          66,
          37,
          61,
          26,
          22,
          26,
          24,
          31,
          24,
          22,
          46,
          22,
          29,
          23,
          26,
          51,
          23,
          32,
          27,
          21,
          22,
          22,
          33,
          29,
          49,
          41,
          23,
          34,
          23,
          42,
          27,
          24,
          25,
          44,
          21,
          30,
          25,
          24,
          51,
          34,
          27,
          24,
          63,
          35,
          43,
          25,
          24,
          21,
          28,
          38,
          21,
          40,
          21,
          52,
          25,
          29,
          23,
          57,
          22,
          28,
          39,
          37,
          47,
          52,
          51,
          34,
          29,
          26,
          33,
          21,
          25,
          31,
          24,
          65,
          28,
          29,
          24,
          46,
          58,
          30,
          25,
          35,
          28,
          37,
          29,
          47,
          21,
          25,
          30,
          41,
          22,
          27,
          25,
          43,
          26,
          30,
          29,
          28,
          59,
          31,
          25,
          36,
          43,
          21,
          24,
          30,
          37,
          23,
          37,
          46,
          25,
          41,
          44,
          22,
          26,
          44,
          44,
          33,
          41,
          22,
          36,
          22,
          33,
          57,
          49,
          22,
          23,
          26,
          37,
          29,
          30,
          46,
          24,
          21,
          49,
          28,
          44,
          48,
          29,
          29,
          63,
          65,
          67,
          30,
          30,
          29,
          21,
          22,
          45,
          25,
          21,
          21,
          25,
          28,
          58,
          22,
          22,
          32,
          35,
          24,
          22,
          21,
          25,
          25,
          24,
          35,
          45,
          58,
          28,
          42,
          27,
          21,
          37,
          31,
          25,
          39,
          22,
          25,
          25,
          31,
          55,
          35,
          38,
          41,
          26,
          46,
          25,
          39,
          28,
          28,
          25,
          22,
          21,
          21,
          22,
          22,
          37,
          27,
          28,
          26,
          21,
          21,
          21,
          36,
          31,
          25,
          38,
          26,
          43,
          23,
          38,
          22,
          29,
          36,
          29,
          41,
          28,
          21,
          31,
          41,
          22,
          24,
          33,
          30,
          25,
          28,
          26,
          22,
          26,
          23,
          23,
          25,
          72,
          24,
          38,
          62,
          24,
          51,
          81,
          48,
          26,
          39,
          37,
          34,
          21,
          22,
          25,
          38,
          27,
          28,
          22,
          22,
          50,
          24,
          59,
          29,
          31,
          39,
          63,
          35,
          29,
          28,
          23,
          31,
          24,
          21,
          58,
          28,
          67,
          24,
          42,
          33,
          45,
          22,
          66,
          30,
          25,
          55,
          39,
          21,
          28,
          41,
          41,
          40,
          38,
          35,
          21,
          21,
          64,
          46,
          21,
          58,
          22,
          24,
          28,
          53,
          51,
          41,
          60,
          25,
          26,
          26,
          45,
          24,
          21,
          21,
          24,
          22,
          31,
          22,
          24,
          29,
          31,
          24,
          23,
          46,
          67,
          23,
          32,
          43,
          27,
          56,
          25,
          29,
          37,
          53,
          28,
          50,
          37,
          21,
          25,
          66,
          23,
          28,
          37,
          30,
          58,
          42,
          35,
          54,
          28,
          24,
          32,
          27,
          22,
          21,
          46,
          37,
          33,
          39,
          21,
          22,
          22,
          23,
          25,
          35,
          21,
          36,
          62,
          21,
          27,
          62,
          42,
          52,
          22,
          41,
          29,
          52,
          25,
          45,
          24,
          44,
          25,
          34,
          22,
          46,
          21,
          38,
          26,
          24,
          28,
          30,
          54,
          36,
          21,
          22,
          25,
          27,
          23,
          24,
          36,
          40,
          26,
          50,
          27,
          30,
          23,
          50,
          24,
          28,
          28,
          45,
          21,
          21,
          29,
          21,
          21,
          45,
          21,
          34,
          24,
          23,
          22,
          31,
          38,
          48,
          23,
          32,
          28,
          27,
          24,
          50,
          31,
          27,
          30,
          33,
          22,
          42,
          23,
          23,
          27,
          28,
          27,
          22,
          25,
          22,
          41,
          51,
          27,
          54,
          22,
          43,
          40,
          40,
          24,
          70,
          40,
          43,
          45,
          49,
          21,
          47,
          22,
          68,
          31,
          53,
          25,
          25,
          23,
          22,
          26,
          22,
          27,
          69,
          25,
          22,
          29,
          23,
          46,
          34,
          44,
          23,
          43,
          25,
          43,
          31,
          22,
          28,
          26,
          26,
          49,
          52,
          41,
          27,
          28,
          30,
          22,
          45,
          23,
          24,
          40,
          38,
          21,
          32,
          34,
          31,
          56,
          24,
          52,
          34,
          21,
          42,
          42,
          45,
          38,
          25,
          22,
          22,
          22,
          34,
          22,
          24,
          22,
          53,
          28,
          21,
          42,
          21,
          42,
          48,
          26,
          22,
          45,
          39,
          46,
          27,
          32,
          36,
          50,
          22,
          28,
          25,
          26,
          45,
          37,
          39,
          52,
          26,
          66,
          22,
          43,
          33,
          63,
          27,
          30,
          47,
          23
         ]
        }
       ],
       "layout": {
        "legend": {
         "bgcolor": "#F5F6F9",
         "font": {
          "color": "#4D5663"
         }
        },
        "paper_bgcolor": "#F5F6F9",
        "plot_bgcolor": "#F5F6F9",
        "template": {
         "data": {
          "bar": [
           {
            "error_x": {
             "color": "#2a3f5f"
            },
            "error_y": {
             "color": "#2a3f5f"
            },
            "marker": {
             "line": {
              "color": "#E5ECF6",
              "width": 0.5
             },
             "pattern": {
              "fillmode": "overlay",
              "size": 10,
              "solidity": 0.2
             }
            },
            "type": "bar"
           }
          ],
          "barpolar": [
           {
            "marker": {
             "line": {
              "color": "#E5ECF6",
              "width": 0.5
             },
             "pattern": {
              "fillmode": "overlay",
              "size": 10,
              "solidity": 0.2
             }
            },
            "type": "barpolar"
           }
          ],
          "carpet": [
           {
            "aaxis": {
             "endlinecolor": "#2a3f5f",
             "gridcolor": "white",
             "linecolor": "white",
             "minorgridcolor": "white",
             "startlinecolor": "#2a3f5f"
            },
            "baxis": {
             "endlinecolor": "#2a3f5f",
             "gridcolor": "white",
             "linecolor": "white",
             "minorgridcolor": "white",
             "startlinecolor": "#2a3f5f"
            },
            "type": "carpet"
           }
          ],
          "choropleth": [
           {
            "colorbar": {
             "outlinewidth": 0,
             "ticks": ""
            },
            "type": "choropleth"
           }
          ],
          "contour": [
           {
            "colorbar": {
             "outlinewidth": 0,
             "ticks": ""
            },
            "colorscale": [
             [
              0,
              "#0d0887"
             ],
             [
              0.1111111111111111,
              "#46039f"
             ],
             [
              0.2222222222222222,
              "#7201a8"
             ],
             [
              0.3333333333333333,
              "#9c179e"
             ],
             [
              0.4444444444444444,
              "#bd3786"
             ],
             [
              0.5555555555555556,
              "#d8576b"
             ],
             [
              0.6666666666666666,
              "#ed7953"
             ],
             [
              0.7777777777777778,
              "#fb9f3a"
             ],
             [
              0.8888888888888888,
              "#fdca26"
             ],
             [
              1,
              "#f0f921"
             ]
            ],
            "type": "contour"
           }
          ],
          "contourcarpet": [
           {
            "colorbar": {
             "outlinewidth": 0,
             "ticks": ""
            },
            "type": "contourcarpet"
           }
          ],
          "heatmap": [
           {
            "colorbar": {
             "outlinewidth": 0,
             "ticks": ""
            },
            "colorscale": [
             [
              0,
              "#0d0887"
             ],
             [
              0.1111111111111111,
              "#46039f"
             ],
             [
              0.2222222222222222,
              "#7201a8"
             ],
             [
              0.3333333333333333,
              "#9c179e"
             ],
             [
              0.4444444444444444,
              "#bd3786"
             ],
             [
              0.5555555555555556,
              "#d8576b"
             ],
             [
              0.6666666666666666,
              "#ed7953"
             ],
             [
              0.7777777777777778,
              "#fb9f3a"
             ],
             [
              0.8888888888888888,
              "#fdca26"
             ],
             [
              1,
              "#f0f921"
             ]
            ],
            "type": "heatmap"
           }
          ],
          "heatmapgl": [
           {
            "colorbar": {
             "outlinewidth": 0,
             "ticks": ""
            },
            "colorscale": [
             [
              0,
              "#0d0887"
             ],
             [
              0.1111111111111111,
              "#46039f"
             ],
             [
              0.2222222222222222,
              "#7201a8"
             ],
             [
              0.3333333333333333,
              "#9c179e"
             ],
             [
              0.4444444444444444,
              "#bd3786"
             ],
             [
              0.5555555555555556,
              "#d8576b"
             ],
             [
              0.6666666666666666,
              "#ed7953"
             ],
             [
              0.7777777777777778,
              "#fb9f3a"
             ],
             [
              0.8888888888888888,
              "#fdca26"
             ],
             [
              1,
              "#f0f921"
             ]
            ],
            "type": "heatmapgl"
           }
          ],
          "histogram": [
           {
            "marker": {
             "pattern": {
              "fillmode": "overlay",
              "size": 10,
              "solidity": 0.2
             }
            },
            "type": "histogram"
           }
          ],
          "histogram2d": [
           {
            "colorbar": {
             "outlinewidth": 0,
             "ticks": ""
            },
            "colorscale": [
             [
              0,
              "#0d0887"
             ],
             [
              0.1111111111111111,
              "#46039f"
             ],
             [
              0.2222222222222222,
              "#7201a8"
             ],
             [
              0.3333333333333333,
              "#9c179e"
             ],
             [
              0.4444444444444444,
              "#bd3786"
             ],
             [
              0.5555555555555556,
              "#d8576b"
             ],
             [
              0.6666666666666666,
              "#ed7953"
             ],
             [
              0.7777777777777778,
              "#fb9f3a"
             ],
             [
              0.8888888888888888,
              "#fdca26"
             ],
             [
              1,
              "#f0f921"
             ]
            ],
            "type": "histogram2d"
           }
          ],
          "histogram2dcontour": [
           {
            "colorbar": {
             "outlinewidth": 0,
             "ticks": ""
            },
            "colorscale": [
             [
              0,
              "#0d0887"
             ],
             [
              0.1111111111111111,
              "#46039f"
             ],
             [
              0.2222222222222222,
              "#7201a8"
             ],
             [
              0.3333333333333333,
              "#9c179e"
             ],
             [
              0.4444444444444444,
              "#bd3786"
             ],
             [
              0.5555555555555556,
              "#d8576b"
             ],
             [
              0.6666666666666666,
              "#ed7953"
             ],
             [
              0.7777777777777778,
              "#fb9f3a"
             ],
             [
              0.8888888888888888,
              "#fdca26"
             ],
             [
              1,
              "#f0f921"
             ]
            ],
            "type": "histogram2dcontour"
           }
          ],
          "mesh3d": [
           {
            "colorbar": {
             "outlinewidth": 0,
             "ticks": ""
            },
            "type": "mesh3d"
           }
          ],
          "parcoords": [
           {
            "line": {
             "colorbar": {
              "outlinewidth": 0,
              "ticks": ""
             }
            },
            "type": "parcoords"
           }
          ],
          "pie": [
           {
            "automargin": true,
            "type": "pie"
           }
          ],
          "scatter": [
           {
            "marker": {
             "colorbar": {
              "outlinewidth": 0,
              "ticks": ""
             }
            },
            "type": "scatter"
           }
          ],
          "scatter3d": [
           {
            "line": {
             "colorbar": {
              "outlinewidth": 0,
              "ticks": ""
             }
            },
            "marker": {
             "colorbar": {
              "outlinewidth": 0,
              "ticks": ""
             }
            },
            "type": "scatter3d"
           }
          ],
          "scattercarpet": [
           {
            "marker": {
             "colorbar": {
              "outlinewidth": 0,
              "ticks": ""
             }
            },
            "type": "scattercarpet"
           }
          ],
          "scattergeo": [
           {
            "marker": {
             "colorbar": {
              "outlinewidth": 0,
              "ticks": ""
             }
            },
            "type": "scattergeo"
           }
          ],
          "scattergl": [
           {
            "marker": {
             "colorbar": {
              "outlinewidth": 0,
              "ticks": ""
             }
            },
            "type": "scattergl"
           }
          ],
          "scattermapbox": [
           {
            "marker": {
             "colorbar": {
              "outlinewidth": 0,
              "ticks": ""
             }
            },
            "type": "scattermapbox"
           }
          ],
          "scatterpolar": [
           {
            "marker": {
             "colorbar": {
              "outlinewidth": 0,
              "ticks": ""
             }
            },
            "type": "scatterpolar"
           }
          ],
          "scatterpolargl": [
           {
            "marker": {
             "colorbar": {
              "outlinewidth": 0,
              "ticks": ""
             }
            },
            "type": "scatterpolargl"
           }
          ],
          "scatterternary": [
           {
            "marker": {
             "colorbar": {
              "outlinewidth": 0,
              "ticks": ""
             }
            },
            "type": "scatterternary"
           }
          ],
          "surface": [
           {
            "colorbar": {
             "outlinewidth": 0,
             "ticks": ""
            },
            "colorscale": [
             [
              0,
              "#0d0887"
             ],
             [
              0.1111111111111111,
              "#46039f"
             ],
             [
              0.2222222222222222,
              "#7201a8"
             ],
             [
              0.3333333333333333,
              "#9c179e"
             ],
             [
              0.4444444444444444,
              "#bd3786"
             ],
             [
              0.5555555555555556,
              "#d8576b"
             ],
             [
              0.6666666666666666,
              "#ed7953"
             ],
             [
              0.7777777777777778,
              "#fb9f3a"
             ],
             [
              0.8888888888888888,
              "#fdca26"
             ],
             [
              1,
              "#f0f921"
             ]
            ],
            "type": "surface"
           }
          ],
          "table": [
           {
            "cells": {
             "fill": {
              "color": "#EBF0F8"
             },
             "line": {
              "color": "white"
             }
            },
            "header": {
             "fill": {
              "color": "#C8D4E3"
             },
             "line": {
              "color": "white"
             }
            },
            "type": "table"
           }
          ]
         },
         "layout": {
          "annotationdefaults": {
           "arrowcolor": "#2a3f5f",
           "arrowhead": 0,
           "arrowwidth": 1
          },
          "autotypenumbers": "strict",
          "coloraxis": {
           "colorbar": {
            "outlinewidth": 0,
            "ticks": ""
           }
          },
          "colorscale": {
           "diverging": [
            [
             0,
             "#8e0152"
            ],
            [
             0.1,
             "#c51b7d"
            ],
            [
             0.2,
             "#de77ae"
            ],
            [
             0.3,
             "#f1b6da"
            ],
            [
             0.4,
             "#fde0ef"
            ],
            [
             0.5,
             "#f7f7f7"
            ],
            [
             0.6,
             "#e6f5d0"
            ],
            [
             0.7,
             "#b8e186"
            ],
            [
             0.8,
             "#7fbc41"
            ],
            [
             0.9,
             "#4d9221"
            ],
            [
             1,
             "#276419"
            ]
           ],
           "sequential": [
            [
             0,
             "#0d0887"
            ],
            [
             0.1111111111111111,
             "#46039f"
            ],
            [
             0.2222222222222222,
             "#7201a8"
            ],
            [
             0.3333333333333333,
             "#9c179e"
            ],
            [
             0.4444444444444444,
             "#bd3786"
            ],
            [
             0.5555555555555556,
             "#d8576b"
            ],
            [
             0.6666666666666666,
             "#ed7953"
            ],
            [
             0.7777777777777778,
             "#fb9f3a"
            ],
            [
             0.8888888888888888,
             "#fdca26"
            ],
            [
             1,
             "#f0f921"
            ]
           ],
           "sequentialminus": [
            [
             0,
             "#0d0887"
            ],
            [
             0.1111111111111111,
             "#46039f"
            ],
            [
             0.2222222222222222,
             "#7201a8"
            ],
            [
             0.3333333333333333,
             "#9c179e"
            ],
            [
             0.4444444444444444,
             "#bd3786"
            ],
            [
             0.5555555555555556,
             "#d8576b"
            ],
            [
             0.6666666666666666,
             "#ed7953"
            ],
            [
             0.7777777777777778,
             "#fb9f3a"
            ],
            [
             0.8888888888888888,
             "#fdca26"
            ],
            [
             1,
             "#f0f921"
            ]
           ]
          },
          "colorway": [
           "#636efa",
           "#EF553B",
           "#00cc96",
           "#ab63fa",
           "#FFA15A",
           "#19d3f3",
           "#FF6692",
           "#B6E880",
           "#FF97FF",
           "#FECB52"
          ],
          "font": {
           "color": "#2a3f5f"
          },
          "geo": {
           "bgcolor": "white",
           "lakecolor": "white",
           "landcolor": "#E5ECF6",
           "showlakes": true,
           "showland": true,
           "subunitcolor": "white"
          },
          "hoverlabel": {
           "align": "left"
          },
          "hovermode": "closest",
          "mapbox": {
           "style": "light"
          },
          "paper_bgcolor": "white",
          "plot_bgcolor": "#E5ECF6",
          "polar": {
           "angularaxis": {
            "gridcolor": "white",
            "linecolor": "white",
            "ticks": ""
           },
           "bgcolor": "#E5ECF6",
           "radialaxis": {
            "gridcolor": "white",
            "linecolor": "white",
            "ticks": ""
           }
          },
          "scene": {
           "xaxis": {
            "backgroundcolor": "#E5ECF6",
            "gridcolor": "white",
            "gridwidth": 2,
            "linecolor": "white",
            "showbackground": true,
            "ticks": "",
            "zerolinecolor": "white"
           },
           "yaxis": {
            "backgroundcolor": "#E5ECF6",
            "gridcolor": "white",
            "gridwidth": 2,
            "linecolor": "white",
            "showbackground": true,
            "ticks": "",
            "zerolinecolor": "white"
           },
           "zaxis": {
            "backgroundcolor": "#E5ECF6",
            "gridcolor": "white",
            "gridwidth": 2,
            "linecolor": "white",
            "showbackground": true,
            "ticks": "",
            "zerolinecolor": "white"
           }
          },
          "shapedefaults": {
           "line": {
            "color": "#2a3f5f"
           }
          },
          "ternary": {
           "aaxis": {
            "gridcolor": "white",
            "linecolor": "white",
            "ticks": ""
           },
           "baxis": {
            "gridcolor": "white",
            "linecolor": "white",
            "ticks": ""
           },
           "bgcolor": "#E5ECF6",
           "caxis": {
            "gridcolor": "white",
            "linecolor": "white",
            "ticks": ""
           }
          },
          "title": {
           "x": 0.05
          },
          "xaxis": {
           "automargin": true,
           "gridcolor": "white",
           "linecolor": "white",
           "ticks": "",
           "title": {
            "standoff": 15
           },
           "zerolinecolor": "white",
           "zerolinewidth": 2
          },
          "yaxis": {
           "automargin": true,
           "gridcolor": "white",
           "linecolor": "white",
           "ticks": "",
           "title": {
            "standoff": 15
           },
           "zerolinecolor": "white",
           "zerolinewidth": 2
          }
         }
        },
        "title": {
         "font": {
          "color": "#4D5663"
         }
        },
        "xaxis": {
         "gridcolor": "#E1E5ED",
         "showgrid": true,
         "tickfont": {
          "color": "#4D5663"
         },
         "title": {
          "font": {
           "color": "#4D5663"
          },
          "text": ""
         },
         "zerolinecolor": "#E1E5ED"
        },
        "yaxis": {
         "gridcolor": "#E1E5ED",
         "showgrid": true,
         "tickfont": {
          "color": "#4D5663"
         },
         "title": {
          "font": {
           "color": "#4D5663"
          },
          "text": ""
         },
         "zerolinecolor": "#E1E5ED"
        }
       }
      },
      "text/html": [
       "<div>                            <div id=\"f89ebecc-3826-4a19-9aab-4525df036a34\" class=\"plotly-graph-div\" style=\"height:525px; width:100%;\"></div>            <script type=\"text/javascript\">                require([\"plotly\"], function(Plotly) {                    window.PLOTLYENV=window.PLOTLYENV || {};\n",
       "                    window.PLOTLYENV.BASE_URL='https://plot.ly';                                    if (document.getElementById(\"f89ebecc-3826-4a19-9aab-4525df036a34\")) {                    Plotly.newPlot(                        \"f89ebecc-3826-4a19-9aab-4525df036a34\",                        [{\"marker\":{\"color\":\"rgba(255, 153, 51, 0.6)\",\"line\":{\"color\":\"rgba(255, 153, 51, 1.0)\",\"width\":1}},\"name\":\"age\",\"orientation\":\"v\",\"text\":\"\",\"x\":[\"tested_positive\",\"tested_negative\",\"tested_positive\",\"tested_negative\",\"tested_positive\",\"tested_negative\",\"tested_positive\",\"tested_negative\",\"tested_positive\",\"tested_positive\",\"tested_negative\",\"tested_positive\",\"tested_negative\",\"tested_positive\",\"tested_positive\",\"tested_positive\",\"tested_positive\",\"tested_positive\",\"tested_negative\",\"tested_positive\",\"tested_negative\",\"tested_negative\",\"tested_positive\",\"tested_positive\",\"tested_positive\",\"tested_positive\",\"tested_positive\",\"tested_negative\",\"tested_negative\",\"tested_negative\",\"tested_negative\",\"tested_positive\",\"tested_negative\",\"tested_negative\",\"tested_negative\",\"tested_negative\",\"tested_negative\",\"tested_positive\",\"tested_positive\",\"tested_positive\",\"tested_negative\",\"tested_negative\",\"tested_negative\",\"tested_positive\",\"tested_negative\",\"tested_positive\",\"tested_negative\",\"tested_negative\",\"tested_positive\",\"tested_negative\",\"tested_negative\",\"tested_negative\",\"tested_negative\",\"tested_positive\",\"tested_negative\",\"tested_negative\",\"tested_positive\",\"tested_negative\",\"tested_negative\",\"tested_negative\",\"tested_negative\",\"tested_positive\",\"tested_negative\",\"tested_negative\",\"tested_positive\",\"tested_negative\",\"tested_positive\",\"tested_negative\",\"tested_negative\",\"tested_negative\",\"tested_positive\",\"tested_negative\",\"tested_positive\",\"tested_negative\",\"tested_negative\",\"tested_negative\",\"tested_negative\",\"tested_negative\",\"tested_positive\",\"tested_negative\",\"tested_negative\",\"tested_negative\",\"tested_negative\",\"tested_negative\",\"tested_positive\",\"tested_negative\",\"tested_negative\",\"tested_negative\",\"tested_positive\",\"tested_negative\",\"tested_negative\",\"tested_negative\",\"tested_negative\",\"tested_positive\",\"tested_negative\",\"tested_negative\",\"tested_negative\",\"tested_negative\",\"tested_negative\",\"tested_positive\",\"tested_positive\",\"tested_negative\",\"tested_negative\",\"tested_negative\",\"tested_negative\",\"tested_negative\",\"tested_negative\",\"tested_negative\",\"tested_negative\",\"tested_positive\",\"tested_positive\",\"tested_positive\",\"tested_negative\",\"tested_negative\",\"tested_positive\",\"tested_positive\",\"tested_positive\",\"tested_negative\",\"tested_negative\",\"tested_negative\",\"tested_positive\",\"tested_negative\",\"tested_negative\",\"tested_negative\",\"tested_positive\",\"tested_positive\",\"tested_negative\",\"tested_negative\",\"tested_positive\",\"tested_positive\",\"tested_positive\",\"tested_positive\",\"tested_positive\",\"tested_negative\",\"tested_negative\",\"tested_negative\",\"tested_negative\",\"tested_negative\",\"tested_negative\",\"tested_negative\",\"tested_negative\",\"tested_negative\",\"tested_negative\",\"tested_positive\",\"tested_negative\",\"tested_negative\",\"tested_negative\",\"tested_negative\",\"tested_negative\",\"tested_negative\",\"tested_negative\",\"tested_negative\",\"tested_positive\",\"tested_negative\",\"tested_positive\",\"tested_positive\",\"tested_negative\",\"tested_negative\",\"tested_negative\",\"tested_positive\",\"tested_negative\",\"tested_negative\",\"tested_negative\",\"tested_negative\",\"tested_positive\",\"tested_positive\",\"tested_negative\",\"tested_negative\",\"tested_negative\",\"tested_negative\",\"tested_positive\",\"tested_positive\",\"tested_negative\",\"tested_negative\",\"tested_negative\",\"tested_positive\",\"tested_negative\",\"tested_positive\",\"tested_negative\",\"tested_positive\",\"tested_negative\",\"tested_negative\",\"tested_negative\",\"tested_negative\",\"tested_negative\",\"tested_positive\",\"tested_positive\",\"tested_positive\",\"tested_positive\",\"tested_positive\",\"tested_negative\",\"tested_negative\",\"tested_positive\",\"tested_positive\",\"tested_negative\",\"tested_positive\",\"tested_negative\",\"tested_positive\",\"tested_positive\",\"tested_positive\",\"tested_negative\",\"tested_negative\",\"tested_negative\",\"tested_negative\",\"tested_negative\",\"tested_negative\",\"tested_positive\",\"tested_positive\",\"tested_negative\",\"tested_positive\",\"tested_negative\",\"tested_negative\",\"tested_negative\",\"tested_positive\",\"tested_positive\",\"tested_positive\",\"tested_positive\",\"tested_negative\",\"tested_positive\",\"tested_positive\",\"tested_positive\",\"tested_positive\",\"tested_negative\",\"tested_negative\",\"tested_negative\",\"tested_negative\",\"tested_negative\",\"tested_positive\",\"tested_negative\",\"tested_negative\",\"tested_positive\",\"tested_positive\",\"tested_negative\",\"tested_negative\",\"tested_negative\",\"tested_positive\",\"tested_positive\",\"tested_positive\",\"tested_positive\",\"tested_negative\",\"tested_negative\",\"tested_negative\",\"tested_positive\",\"tested_positive\",\"tested_negative\",\"tested_positive\",\"tested_negative\",\"tested_negative\",\"tested_negative\",\"tested_negative\",\"tested_negative\",\"tested_negative\",\"tested_negative\",\"tested_negative\",\"tested_positive\",\"tested_positive\",\"tested_negative\",\"tested_negative\",\"tested_negative\",\"tested_positive\",\"tested_negative\",\"tested_positive\",\"tested_negative\",\"tested_negative\",\"tested_positive\",\"tested_negative\",\"tested_positive\",\"tested_negative\",\"tested_negative\",\"tested_positive\",\"tested_positive\",\"tested_negative\",\"tested_negative\",\"tested_negative\",\"tested_negative\",\"tested_negative\",\"tested_positive\",\"tested_negative\",\"tested_negative\",\"tested_negative\",\"tested_positive\",\"tested_negative\",\"tested_negative\",\"tested_positive\",\"tested_positive\",\"tested_negative\",\"tested_negative\",\"tested_positive\",\"tested_negative\",\"tested_negative\",\"tested_negative\",\"tested_positive\",\"tested_positive\",\"tested_positive\",\"tested_negative\",\"tested_negative\",\"tested_positive\",\"tested_negative\",\"tested_positive\",\"tested_negative\",\"tested_positive\",\"tested_positive\",\"tested_negative\",\"tested_positive\",\"tested_negative\",\"tested_negative\",\"tested_positive\",\"tested_negative\",\"tested_positive\",\"tested_positive\",\"tested_negative\",\"tested_negative\",\"tested_positive\",\"tested_negative\",\"tested_positive\",\"tested_negative\",\"tested_negative\",\"tested_positive\",\"tested_negative\",\"tested_positive\",\"tested_negative\",\"tested_positive\",\"tested_positive\",\"tested_positive\",\"tested_negative\",\"tested_negative\",\"tested_positive\",\"tested_negative\",\"tested_positive\",\"tested_negative\",\"tested_negative\",\"tested_negative\",\"tested_positive\",\"tested_negative\",\"tested_negative\",\"tested_negative\",\"tested_negative\",\"tested_positive\",\"tested_positive\",\"tested_positive\",\"tested_negative\",\"tested_negative\",\"tested_negative\",\"tested_negative\",\"tested_negative\",\"tested_negative\",\"tested_negative\",\"tested_negative\",\"tested_negative\",\"tested_positive\",\"tested_negative\",\"tested_negative\",\"tested_negative\",\"tested_negative\",\"tested_negative\",\"tested_positive\",\"tested_positive\",\"tested_positive\",\"tested_negative\",\"tested_positive\",\"tested_positive\",\"tested_negative\",\"tested_negative\",\"tested_positive\",\"tested_negative\",\"tested_negative\",\"tested_positive\",\"tested_negative\",\"tested_negative\",\"tested_positive\",\"tested_positive\",\"tested_negative\",\"tested_negative\",\"tested_negative\",\"tested_negative\",\"tested_positive\",\"tested_negative\",\"tested_negative\",\"tested_positive\",\"tested_negative\",\"tested_negative\",\"tested_negative\",\"tested_negative\",\"tested_negative\",\"tested_negative\",\"tested_negative\",\"tested_positive\",\"tested_positive\",\"tested_positive\",\"tested_negative\",\"tested_negative\",\"tested_positive\",\"tested_negative\",\"tested_negative\",\"tested_positive\",\"tested_negative\",\"tested_negative\",\"tested_positive\",\"tested_negative\",\"tested_positive\",\"tested_positive\",\"tested_negative\",\"tested_positive\",\"tested_negative\",\"tested_positive\",\"tested_negative\",\"tested_positive\",\"tested_negative\",\"tested_positive\",\"tested_positive\",\"tested_negative\",\"tested_negative\",\"tested_negative\",\"tested_negative\",\"tested_positive\",\"tested_positive\",\"tested_negative\",\"tested_positive\",\"tested_negative\",\"tested_positive\",\"tested_negative\",\"tested_negative\",\"tested_negative\",\"tested_negative\",\"tested_positive\",\"tested_positive\",\"tested_negative\",\"tested_positive\",\"tested_negative\",\"tested_positive\",\"tested_negative\",\"tested_negative\",\"tested_negative\",\"tested_negative\",\"tested_negative\",\"tested_positive\",\"tested_negative\",\"tested_negative\",\"tested_negative\",\"tested_negative\",\"tested_positive\",\"tested_negative\",\"tested_negative\",\"tested_positive\",\"tested_positive\",\"tested_positive\",\"tested_negative\",\"tested_negative\",\"tested_positive\",\"tested_negative\",\"tested_negative\",\"tested_positive\",\"tested_negative\",\"tested_negative\",\"tested_negative\",\"tested_positive\",\"tested_negative\",\"tested_negative\",\"tested_positive\",\"tested_negative\",\"tested_negative\",\"tested_negative\",\"tested_negative\",\"tested_negative\",\"tested_negative\",\"tested_negative\",\"tested_negative\",\"tested_negative\",\"tested_positive\",\"tested_negative\",\"tested_negative\",\"tested_negative\",\"tested_negative\",\"tested_negative\",\"tested_negative\",\"tested_negative\",\"tested_positive\",\"tested_negative\",\"tested_negative\",\"tested_negative\",\"tested_positive\",\"tested_negative\",\"tested_negative\",\"tested_negative\",\"tested_positive\",\"tested_positive\",\"tested_negative\",\"tested_negative\",\"tested_negative\",\"tested_negative\",\"tested_negative\",\"tested_negative\",\"tested_negative\",\"tested_positive\",\"tested_negative\",\"tested_negative\",\"tested_negative\",\"tested_negative\",\"tested_positive\",\"tested_negative\",\"tested_negative\",\"tested_negative\",\"tested_positive\",\"tested_negative\",\"tested_negative\",\"tested_negative\",\"tested_positive\",\"tested_negative\",\"tested_negative\",\"tested_negative\",\"tested_positive\",\"tested_negative\",\"tested_negative\",\"tested_negative\",\"tested_negative\",\"tested_positive\",\"tested_positive\",\"tested_negative\",\"tested_negative\",\"tested_negative\",\"tested_negative\",\"tested_negative\",\"tested_negative\",\"tested_positive\",\"tested_negative\",\"tested_negative\",\"tested_negative\",\"tested_negative\",\"tested_negative\",\"tested_negative\",\"tested_negative\",\"tested_negative\",\"tested_negative\",\"tested_negative\",\"tested_negative\",\"tested_positive\",\"tested_negative\",\"tested_negative\",\"tested_negative\",\"tested_positive\",\"tested_positive\",\"tested_positive\",\"tested_positive\",\"tested_negative\",\"tested_negative\",\"tested_positive\",\"tested_positive\",\"tested_negative\",\"tested_negative\",\"tested_negative\",\"tested_negative\",\"tested_negative\",\"tested_negative\",\"tested_negative\",\"tested_negative\",\"tested_negative\",\"tested_negative\",\"tested_negative\",\"tested_negative\",\"tested_negative\",\"tested_positive\",\"tested_positive\",\"tested_negative\",\"tested_negative\",\"tested_negative\",\"tested_negative\",\"tested_negative\",\"tested_negative\",\"tested_negative\",\"tested_positive\",\"tested_negative\",\"tested_negative\",\"tested_negative\",\"tested_negative\",\"tested_negative\",\"tested_negative\",\"tested_negative\",\"tested_positive\",\"tested_negative\",\"tested_positive\",\"tested_positive\",\"tested_negative\",\"tested_negative\",\"tested_negative\",\"tested_positive\",\"tested_negative\",\"tested_positive\",\"tested_negative\",\"tested_positive\",\"tested_negative\",\"tested_positive\",\"tested_negative\",\"tested_positive\",\"tested_negative\",\"tested_negative\",\"tested_positive\",\"tested_negative\",\"tested_negative\",\"tested_positive\",\"tested_negative\",\"tested_negative\",\"tested_negative\",\"tested_negative\",\"tested_positive\",\"tested_positive\",\"tested_negative\",\"tested_positive\",\"tested_negative\",\"tested_negative\",\"tested_negative\",\"tested_negative\",\"tested_positive\",\"tested_positive\",\"tested_negative\",\"tested_positive\",\"tested_negative\",\"tested_negative\",\"tested_negative\",\"tested_positive\",\"tested_positive\",\"tested_negative\",\"tested_negative\",\"tested_negative\",\"tested_negative\",\"tested_negative\",\"tested_negative\",\"tested_negative\",\"tested_negative\",\"tested_negative\",\"tested_negative\",\"tested_positive\",\"tested_negative\",\"tested_negative\",\"tested_negative\",\"tested_negative\",\"tested_positive\",\"tested_negative\",\"tested_negative\",\"tested_positive\",\"tested_negative\",\"tested_negative\",\"tested_negative\",\"tested_positive\",\"tested_negative\",\"tested_negative\",\"tested_negative\",\"tested_positive\",\"tested_positive\",\"tested_positive\",\"tested_negative\",\"tested_negative\",\"tested_negative\",\"tested_negative\",\"tested_negative\",\"tested_negative\",\"tested_positive\",\"tested_negative\",\"tested_negative\",\"tested_negative\",\"tested_positive\",\"tested_negative\",\"tested_positive\",\"tested_positive\",\"tested_positive\",\"tested_positive\",\"tested_negative\",\"tested_positive\",\"tested_positive\",\"tested_negative\",\"tested_negative\",\"tested_negative\",\"tested_negative\",\"tested_negative\",\"tested_negative\",\"tested_negative\",\"tested_positive\",\"tested_positive\",\"tested_negative\",\"tested_positive\",\"tested_negative\",\"tested_negative\",\"tested_positive\",\"tested_negative\",\"tested_positive\",\"tested_negative\",\"tested_negative\",\"tested_negative\",\"tested_negative\",\"tested_negative\",\"tested_positive\",\"tested_negative\",\"tested_positive\",\"tested_negative\",\"tested_positive\",\"tested_negative\",\"tested_positive\",\"tested_positive\",\"tested_negative\",\"tested_negative\",\"tested_negative\",\"tested_negative\",\"tested_positive\",\"tested_positive\",\"tested_negative\",\"tested_negative\",\"tested_negative\",\"tested_positive\",\"tested_negative\",\"tested_positive\",\"tested_positive\",\"tested_negative\",\"tested_negative\",\"tested_positive\",\"tested_negative\",\"tested_negative\",\"tested_positive\",\"tested_positive\",\"tested_negative\",\"tested_negative\",\"tested_positive\",\"tested_negative\",\"tested_negative\",\"tested_positive\",\"tested_negative\",\"tested_negative\",\"tested_negative\",\"tested_negative\",\"tested_negative\",\"tested_negative\",\"tested_negative\",\"tested_positive\",\"tested_positive\",\"tested_positive\",\"tested_negative\",\"tested_negative\",\"tested_negative\",\"tested_negative\",\"tested_negative\",\"tested_negative\",\"tested_positive\",\"tested_positive\",\"tested_negative\",\"tested_negative\",\"tested_positive\",\"tested_negative\",\"tested_negative\",\"tested_positive\",\"tested_negative\",\"tested_positive\",\"tested_positive\",\"tested_positive\",\"tested_negative\",\"tested_negative\",\"tested_positive\",\"tested_positive\",\"tested_positive\",\"tested_negative\",\"tested_positive\",\"tested_negative\",\"tested_positive\",\"tested_negative\",\"tested_positive\",\"tested_negative\",\"tested_negative\",\"tested_negative\",\"tested_negative\",\"tested_positive\",\"tested_negative\"],\"y\":[50,31,32,21,33,30,26,29,53,54,30,34,57,59,51,32,31,31,33,32,27,50,41,29,51,41,43,22,57,38,60,28,22,28,45,33,35,46,27,56,26,37,48,54,40,25,29,22,31,24,22,26,30,58,42,21,41,31,44,22,21,39,36,24,42,32,38,54,25,27,28,26,42,23,22,22,41,27,26,24,22,22,36,22,37,27,45,26,43,24,21,34,42,60,21,40,24,22,23,31,33,22,21,24,27,21,27,37,25,24,24,46,23,25,39,61,38,25,22,21,25,24,23,69,23,26,30,23,40,62,33,33,30,39,26,31,21,22,29,28,55,38,22,42,23,21,41,34,65,22,24,37,42,23,43,36,21,23,22,47,36,45,27,21,32,41,22,34,29,29,36,29,25,23,33,36,42,26,47,37,32,23,21,27,40,41,60,33,31,25,21,40,36,40,42,29,21,23,26,29,21,28,32,27,55,27,57,52,21,41,25,24,60,24,36,38,25,32,32,41,21,66,37,61,26,22,26,24,31,24,22,46,22,29,23,26,51,23,32,27,21,22,22,33,29,49,41,23,34,23,42,27,24,25,44,21,30,25,24,51,34,27,24,63,35,43,25,24,21,28,38,21,40,21,52,25,29,23,57,22,28,39,37,47,52,51,34,29,26,33,21,25,31,24,65,28,29,24,46,58,30,25,35,28,37,29,47,21,25,30,41,22,27,25,43,26,30,29,28,59,31,25,36,43,21,24,30,37,23,37,46,25,41,44,22,26,44,44,33,41,22,36,22,33,57,49,22,23,26,37,29,30,46,24,21,49,28,44,48,29,29,63,65,67,30,30,29,21,22,45,25,21,21,25,28,58,22,22,32,35,24,22,21,25,25,24,35,45,58,28,42,27,21,37,31,25,39,22,25,25,31,55,35,38,41,26,46,25,39,28,28,25,22,21,21,22,22,37,27,28,26,21,21,21,36,31,25,38,26,43,23,38,22,29,36,29,41,28,21,31,41,22,24,33,30,25,28,26,22,26,23,23,25,72,24,38,62,24,51,81,48,26,39,37,34,21,22,25,38,27,28,22,22,50,24,59,29,31,39,63,35,29,28,23,31,24,21,58,28,67,24,42,33,45,22,66,30,25,55,39,21,28,41,41,40,38,35,21,21,64,46,21,58,22,24,28,53,51,41,60,25,26,26,45,24,21,21,24,22,31,22,24,29,31,24,23,46,67,23,32,43,27,56,25,29,37,53,28,50,37,21,25,66,23,28,37,30,58,42,35,54,28,24,32,27,22,21,46,37,33,39,21,22,22,23,25,35,21,36,62,21,27,62,42,52,22,41,29,52,25,45,24,44,25,34,22,46,21,38,26,24,28,30,54,36,21,22,25,27,23,24,36,40,26,50,27,30,23,50,24,28,28,45,21,21,29,21,21,45,21,34,24,23,22,31,38,48,23,32,28,27,24,50,31,27,30,33,22,42,23,23,27,28,27,22,25,22,41,51,27,54,22,43,40,40,24,70,40,43,45,49,21,47,22,68,31,53,25,25,23,22,26,22,27,69,25,22,29,23,46,34,44,23,43,25,43,31,22,28,26,26,49,52,41,27,28,30,22,45,23,24,40,38,21,32,34,31,56,24,52,34,21,42,42,45,38,25,22,22,22,34,22,24,22,53,28,21,42,21,42,48,26,22,45,39,46,27,32,36,50,22,28,25,26,45,37,39,52,26,66,22,43,33,63,27,30,47,23],\"type\":\"bar\"}],                        {\"legend\":{\"bgcolor\":\"#F5F6F9\",\"font\":{\"color\":\"#4D5663\"}},\"paper_bgcolor\":\"#F5F6F9\",\"plot_bgcolor\":\"#F5F6F9\",\"template\":{\"data\":{\"barpolar\":[{\"marker\":{\"line\":{\"color\":\"#E5ECF6\",\"width\":0.5},\"pattern\":{\"fillmode\":\"overlay\",\"size\":10,\"solidity\":0.2}},\"type\":\"barpolar\"}],\"bar\":[{\"error_x\":{\"color\":\"#2a3f5f\"},\"error_y\":{\"color\":\"#2a3f5f\"},\"marker\":{\"line\":{\"color\":\"#E5ECF6\",\"width\":0.5},\"pattern\":{\"fillmode\":\"overlay\",\"size\":10,\"solidity\":0.2}},\"type\":\"bar\"}],\"carpet\":[{\"aaxis\":{\"endlinecolor\":\"#2a3f5f\",\"gridcolor\":\"white\",\"linecolor\":\"white\",\"minorgridcolor\":\"white\",\"startlinecolor\":\"#2a3f5f\"},\"baxis\":{\"endlinecolor\":\"#2a3f5f\",\"gridcolor\":\"white\",\"linecolor\":\"white\",\"minorgridcolor\":\"white\",\"startlinecolor\":\"#2a3f5f\"},\"type\":\"carpet\"}],\"choropleth\":[{\"colorbar\":{\"outlinewidth\":0,\"ticks\":\"\"},\"type\":\"choropleth\"}],\"contourcarpet\":[{\"colorbar\":{\"outlinewidth\":0,\"ticks\":\"\"},\"type\":\"contourcarpet\"}],\"contour\":[{\"colorbar\":{\"outlinewidth\":0,\"ticks\":\"\"},\"colorscale\":[[0.0,\"#0d0887\"],[0.1111111111111111,\"#46039f\"],[0.2222222222222222,\"#7201a8\"],[0.3333333333333333,\"#9c179e\"],[0.4444444444444444,\"#bd3786\"],[0.5555555555555556,\"#d8576b\"],[0.6666666666666666,\"#ed7953\"],[0.7777777777777778,\"#fb9f3a\"],[0.8888888888888888,\"#fdca26\"],[1.0,\"#f0f921\"]],\"type\":\"contour\"}],\"heatmapgl\":[{\"colorbar\":{\"outlinewidth\":0,\"ticks\":\"\"},\"colorscale\":[[0.0,\"#0d0887\"],[0.1111111111111111,\"#46039f\"],[0.2222222222222222,\"#7201a8\"],[0.3333333333333333,\"#9c179e\"],[0.4444444444444444,\"#bd3786\"],[0.5555555555555556,\"#d8576b\"],[0.6666666666666666,\"#ed7953\"],[0.7777777777777778,\"#fb9f3a\"],[0.8888888888888888,\"#fdca26\"],[1.0,\"#f0f921\"]],\"type\":\"heatmapgl\"}],\"heatmap\":[{\"colorbar\":{\"outlinewidth\":0,\"ticks\":\"\"},\"colorscale\":[[0.0,\"#0d0887\"],[0.1111111111111111,\"#46039f\"],[0.2222222222222222,\"#7201a8\"],[0.3333333333333333,\"#9c179e\"],[0.4444444444444444,\"#bd3786\"],[0.5555555555555556,\"#d8576b\"],[0.6666666666666666,\"#ed7953\"],[0.7777777777777778,\"#fb9f3a\"],[0.8888888888888888,\"#fdca26\"],[1.0,\"#f0f921\"]],\"type\":\"heatmap\"}],\"histogram2dcontour\":[{\"colorbar\":{\"outlinewidth\":0,\"ticks\":\"\"},\"colorscale\":[[0.0,\"#0d0887\"],[0.1111111111111111,\"#46039f\"],[0.2222222222222222,\"#7201a8\"],[0.3333333333333333,\"#9c179e\"],[0.4444444444444444,\"#bd3786\"],[0.5555555555555556,\"#d8576b\"],[0.6666666666666666,\"#ed7953\"],[0.7777777777777778,\"#fb9f3a\"],[0.8888888888888888,\"#fdca26\"],[1.0,\"#f0f921\"]],\"type\":\"histogram2dcontour\"}],\"histogram2d\":[{\"colorbar\":{\"outlinewidth\":0,\"ticks\":\"\"},\"colorscale\":[[0.0,\"#0d0887\"],[0.1111111111111111,\"#46039f\"],[0.2222222222222222,\"#7201a8\"],[0.3333333333333333,\"#9c179e\"],[0.4444444444444444,\"#bd3786\"],[0.5555555555555556,\"#d8576b\"],[0.6666666666666666,\"#ed7953\"],[0.7777777777777778,\"#fb9f3a\"],[0.8888888888888888,\"#fdca26\"],[1.0,\"#f0f921\"]],\"type\":\"histogram2d\"}],\"histogram\":[{\"marker\":{\"pattern\":{\"fillmode\":\"overlay\",\"size\":10,\"solidity\":0.2}},\"type\":\"histogram\"}],\"mesh3d\":[{\"colorbar\":{\"outlinewidth\":0,\"ticks\":\"\"},\"type\":\"mesh3d\"}],\"parcoords\":[{\"line\":{\"colorbar\":{\"outlinewidth\":0,\"ticks\":\"\"}},\"type\":\"parcoords\"}],\"pie\":[{\"automargin\":true,\"type\":\"pie\"}],\"scatter3d\":[{\"line\":{\"colorbar\":{\"outlinewidth\":0,\"ticks\":\"\"}},\"marker\":{\"colorbar\":{\"outlinewidth\":0,\"ticks\":\"\"}},\"type\":\"scatter3d\"}],\"scattercarpet\":[{\"marker\":{\"colorbar\":{\"outlinewidth\":0,\"ticks\":\"\"}},\"type\":\"scattercarpet\"}],\"scattergeo\":[{\"marker\":{\"colorbar\":{\"outlinewidth\":0,\"ticks\":\"\"}},\"type\":\"scattergeo\"}],\"scattergl\":[{\"marker\":{\"colorbar\":{\"outlinewidth\":0,\"ticks\":\"\"}},\"type\":\"scattergl\"}],\"scattermapbox\":[{\"marker\":{\"colorbar\":{\"outlinewidth\":0,\"ticks\":\"\"}},\"type\":\"scattermapbox\"}],\"scatterpolargl\":[{\"marker\":{\"colorbar\":{\"outlinewidth\":0,\"ticks\":\"\"}},\"type\":\"scatterpolargl\"}],\"scatterpolar\":[{\"marker\":{\"colorbar\":{\"outlinewidth\":0,\"ticks\":\"\"}},\"type\":\"scatterpolar\"}],\"scatter\":[{\"marker\":{\"colorbar\":{\"outlinewidth\":0,\"ticks\":\"\"}},\"type\":\"scatter\"}],\"scatterternary\":[{\"marker\":{\"colorbar\":{\"outlinewidth\":0,\"ticks\":\"\"}},\"type\":\"scatterternary\"}],\"surface\":[{\"colorbar\":{\"outlinewidth\":0,\"ticks\":\"\"},\"colorscale\":[[0.0,\"#0d0887\"],[0.1111111111111111,\"#46039f\"],[0.2222222222222222,\"#7201a8\"],[0.3333333333333333,\"#9c179e\"],[0.4444444444444444,\"#bd3786\"],[0.5555555555555556,\"#d8576b\"],[0.6666666666666666,\"#ed7953\"],[0.7777777777777778,\"#fb9f3a\"],[0.8888888888888888,\"#fdca26\"],[1.0,\"#f0f921\"]],\"type\":\"surface\"}],\"table\":[{\"cells\":{\"fill\":{\"color\":\"#EBF0F8\"},\"line\":{\"color\":\"white\"}},\"header\":{\"fill\":{\"color\":\"#C8D4E3\"},\"line\":{\"color\":\"white\"}},\"type\":\"table\"}]},\"layout\":{\"annotationdefaults\":{\"arrowcolor\":\"#2a3f5f\",\"arrowhead\":0,\"arrowwidth\":1},\"autotypenumbers\":\"strict\",\"coloraxis\":{\"colorbar\":{\"outlinewidth\":0,\"ticks\":\"\"}},\"colorscale\":{\"diverging\":[[0,\"#8e0152\"],[0.1,\"#c51b7d\"],[0.2,\"#de77ae\"],[0.3,\"#f1b6da\"],[0.4,\"#fde0ef\"],[0.5,\"#f7f7f7\"],[0.6,\"#e6f5d0\"],[0.7,\"#b8e186\"],[0.8,\"#7fbc41\"],[0.9,\"#4d9221\"],[1,\"#276419\"]],\"sequential\":[[0.0,\"#0d0887\"],[0.1111111111111111,\"#46039f\"],[0.2222222222222222,\"#7201a8\"],[0.3333333333333333,\"#9c179e\"],[0.4444444444444444,\"#bd3786\"],[0.5555555555555556,\"#d8576b\"],[0.6666666666666666,\"#ed7953\"],[0.7777777777777778,\"#fb9f3a\"],[0.8888888888888888,\"#fdca26\"],[1.0,\"#f0f921\"]],\"sequentialminus\":[[0.0,\"#0d0887\"],[0.1111111111111111,\"#46039f\"],[0.2222222222222222,\"#7201a8\"],[0.3333333333333333,\"#9c179e\"],[0.4444444444444444,\"#bd3786\"],[0.5555555555555556,\"#d8576b\"],[0.6666666666666666,\"#ed7953\"],[0.7777777777777778,\"#fb9f3a\"],[0.8888888888888888,\"#fdca26\"],[1.0,\"#f0f921\"]]},\"colorway\":[\"#636efa\",\"#EF553B\",\"#00cc96\",\"#ab63fa\",\"#FFA15A\",\"#19d3f3\",\"#FF6692\",\"#B6E880\",\"#FF97FF\",\"#FECB52\"],\"font\":{\"color\":\"#2a3f5f\"},\"geo\":{\"bgcolor\":\"white\",\"lakecolor\":\"white\",\"landcolor\":\"#E5ECF6\",\"showlakes\":true,\"showland\":true,\"subunitcolor\":\"white\"},\"hoverlabel\":{\"align\":\"left\"},\"hovermode\":\"closest\",\"mapbox\":{\"style\":\"light\"},\"paper_bgcolor\":\"white\",\"plot_bgcolor\":\"#E5ECF6\",\"polar\":{\"angularaxis\":{\"gridcolor\":\"white\",\"linecolor\":\"white\",\"ticks\":\"\"},\"bgcolor\":\"#E5ECF6\",\"radialaxis\":{\"gridcolor\":\"white\",\"linecolor\":\"white\",\"ticks\":\"\"}},\"scene\":{\"xaxis\":{\"backgroundcolor\":\"#E5ECF6\",\"gridcolor\":\"white\",\"gridwidth\":2,\"linecolor\":\"white\",\"showbackground\":true,\"ticks\":\"\",\"zerolinecolor\":\"white\"},\"yaxis\":{\"backgroundcolor\":\"#E5ECF6\",\"gridcolor\":\"white\",\"gridwidth\":2,\"linecolor\":\"white\",\"showbackground\":true,\"ticks\":\"\",\"zerolinecolor\":\"white\"},\"zaxis\":{\"backgroundcolor\":\"#E5ECF6\",\"gridcolor\":\"white\",\"gridwidth\":2,\"linecolor\":\"white\",\"showbackground\":true,\"ticks\":\"\",\"zerolinecolor\":\"white\"}},\"shapedefaults\":{\"line\":{\"color\":\"#2a3f5f\"}},\"ternary\":{\"aaxis\":{\"gridcolor\":\"white\",\"linecolor\":\"white\",\"ticks\":\"\"},\"baxis\":{\"gridcolor\":\"white\",\"linecolor\":\"white\",\"ticks\":\"\"},\"bgcolor\":\"#E5ECF6\",\"caxis\":{\"gridcolor\":\"white\",\"linecolor\":\"white\",\"ticks\":\"\"}},\"title\":{\"x\":0.05},\"xaxis\":{\"automargin\":true,\"gridcolor\":\"white\",\"linecolor\":\"white\",\"ticks\":\"\",\"title\":{\"standoff\":15},\"zerolinecolor\":\"white\",\"zerolinewidth\":2},\"yaxis\":{\"automargin\":true,\"gridcolor\":\"white\",\"linecolor\":\"white\",\"ticks\":\"\",\"title\":{\"standoff\":15},\"zerolinecolor\":\"white\",\"zerolinewidth\":2}}},\"title\":{\"font\":{\"color\":\"#4D5663\"}},\"xaxis\":{\"gridcolor\":\"#E1E5ED\",\"showgrid\":true,\"tickfont\":{\"color\":\"#4D5663\"},\"title\":{\"font\":{\"color\":\"#4D5663\"},\"text\":\"\"},\"zerolinecolor\":\"#E1E5ED\"},\"yaxis\":{\"gridcolor\":\"#E1E5ED\",\"showgrid\":true,\"tickfont\":{\"color\":\"#4D5663\"},\"title\":{\"font\":{\"color\":\"#4D5663\"},\"text\":\"\"},\"zerolinecolor\":\"#E1E5ED\"}},                        {\"showLink\": true, \"linkText\": \"Export to plot.ly\", \"plotlyServerURL\": \"https://plot.ly\", \"responsive\": true}                    ).then(function(){\n",
       "                            \n",
       "var gd = document.getElementById('f89ebecc-3826-4a19-9aab-4525df036a34');\n",
       "var x = new MutationObserver(function (mutations, observer) {{\n",
       "        var display = window.getComputedStyle(gd).display;\n",
       "        if (!display || display === 'none') {{\n",
       "            console.log([gd, 'removed!']);\n",
       "            Plotly.purge(gd);\n",
       "            observer.disconnect();\n",
       "        }}\n",
       "}});\n",
       "\n",
       "// Listen for the removal of the full notebook cells\n",
       "var notebookContainer = gd.closest('#notebook-container');\n",
       "if (notebookContainer) {{\n",
       "    x.observe(notebookContainer, {childList: true});\n",
       "}}\n",
       "\n",
       "// Listen for the clearing of the current output cell\n",
       "var outputEl = gd.closest('.output');\n",
       "if (outputEl) {{\n",
       "    x.observe(outputEl, {childList: true});\n",
       "}}\n",
       "\n",
       "                        })                };                });            </script>        </div>"
      ]
     },
     "metadata": {},
     "output_type": "display_data"
    }
   ],
   "source": [
    "df.iplot(kind = 'bar', x = 'class', y = 'age')"
   ]
  },
  {
   "cell_type": "code",
   "execution_count": 41,
   "id": "8af1a75e",
   "metadata": {},
   "outputs": [
    {
     "data": {
      "application/vnd.plotly.v1+json": {
       "config": {
        "linkText": "Export to plot.ly",
        "plotlyServerURL": "https://plot.ly",
        "showLink": true
       },
       "data": [
        {
         "histfunc": "count",
         "histnorm": "",
         "marker": {
          "color": "rgba(255, 153, 51, 1.0)",
          "line": {
           "color": "#4D5663",
           "width": 1.3
          }
         },
         "name": "insu",
         "opacity": 0.8,
         "orientation": "v",
         "type": "histogram",
         "x": [
          0,
          0,
          0,
          94,
          168,
          0,
          88,
          0,
          543,
          0,
          0,
          0,
          0,
          846,
          175,
          0,
          230,
          0,
          83,
          96,
          235,
          0,
          0,
          0,
          146,
          115,
          0,
          140,
          110,
          0,
          0,
          245,
          54,
          0,
          0,
          192,
          0,
          0,
          0,
          207,
          70,
          0,
          0,
          240,
          0,
          0,
          0,
          0,
          0,
          0,
          82,
          36,
          23,
          300,
          342,
          0,
          304,
          110,
          0,
          142,
          0,
          0,
          0,
          128,
          0,
          0,
          0,
          0,
          38,
          100,
          90,
          140,
          0,
          270,
          0,
          0,
          0,
          0,
          0,
          0,
          0,
          0,
          71,
          0,
          0,
          125,
          0,
          71,
          110,
          0,
          0,
          176,
          48,
          0,
          64,
          228,
          0,
          76,
          64,
          220,
          0,
          0,
          0,
          40,
          0,
          152,
          0,
          140,
          18,
          36,
          135,
          495,
          37,
          0,
          175,
          0,
          0,
          0,
          0,
          51,
          100,
          0,
          100,
          0,
          0,
          99,
          135,
          94,
          145,
          0,
          168,
          0,
          225,
          0,
          49,
          140,
          50,
          92,
          0,
          325,
          0,
          0,
          63,
          0,
          284,
          0,
          0,
          119,
          0,
          0,
          204,
          0,
          155,
          485,
          0,
          0,
          94,
          135,
          53,
          114,
          0,
          105,
          285,
          0,
          0,
          156,
          0,
          0,
          0,
          78,
          0,
          130,
          0,
          48,
          55,
          130,
          0,
          130,
          0,
          0,
          0,
          92,
          23,
          0,
          0,
          0,
          495,
          58,
          114,
          160,
          0,
          94,
          0,
          0,
          0,
          210,
          0,
          48,
          99,
          318,
          0,
          0,
          0,
          44,
          190,
          0,
          280,
          0,
          87,
          0,
          0,
          0,
          0,
          130,
          175,
          271,
          129,
          120,
          0,
          0,
          478,
          0,
          0,
          190,
          56,
          32,
          0,
          0,
          744,
          53,
          0,
          370,
          37,
          0,
          45,
          0,
          192,
          0,
          0,
          0,
          0,
          88,
          0,
          176,
          194,
          0,
          0,
          680,
          402,
          0,
          0,
          0,
          55,
          0,
          258,
          0,
          0,
          0,
          375,
          150,
          130,
          0,
          0,
          0,
          0,
          67,
          0,
          0,
          0,
          0,
          0,
          56,
          0,
          45,
          0,
          57,
          0,
          116,
          0,
          278,
          0,
          122,
          155,
          0,
          0,
          135,
          545,
          220,
          49,
          75,
          40,
          74,
          182,
          194,
          0,
          120,
          360,
          215,
          184,
          0,
          0,
          135,
          42,
          0,
          0,
          105,
          132,
          148,
          180,
          205,
          0,
          148,
          96,
          85,
          0,
          94,
          64,
          0,
          140,
          0,
          231,
          0,
          0,
          29,
          0,
          168,
          156,
          0,
          120,
          68,
          0,
          52,
          0,
          0,
          58,
          255,
          0,
          0,
          171,
          0,
          105,
          73,
          0,
          0,
          0,
          108,
          83,
          0,
          74,
          0,
          0,
          0,
          0,
          43,
          0,
          0,
          167,
          0,
          54,
          249,
          325,
          0,
          0,
          0,
          293,
          83,
          0,
          0,
          66,
          140,
          465,
          89,
          66,
          94,
          158,
          325,
          84,
          75,
          0,
          72,
          82,
          0,
          182,
          59,
          110,
          50,
          0,
          0,
          285,
          81,
          196,
          0,
          415,
          87,
          0,
          275,
          115,
          0,
          0,
          0,
          0,
          0,
          88,
          0,
          0,
          165,
          0,
          0,
          0,
          579,
          0,
          176,
          310,
          61,
          167,
          474,
          0,
          0,
          0,
          115,
          170,
          76,
          78,
          0,
          210,
          277,
          0,
          180,
          145,
          180,
          0,
          85,
          60,
          0,
          0,
          0,
          0,
          0,
          0,
          0,
          0,
          50,
          120,
          0,
          0,
          14,
          70,
          92,
          64,
          63,
          95,
          0,
          210,
          0,
          105,
          0,
          0,
          71,
          237,
          60,
          56,
          0,
          49,
          0,
          0,
          105,
          36,
          100,
          0,
          140,
          0,
          0,
          0,
          0,
          0,
          0,
          191,
          110,
          75,
          0,
          328,
          0,
          49,
          125,
          0,
          250,
          480,
          265,
          0,
          0,
          66,
          0,
          0,
          122,
          0,
          0,
          0,
          76,
          145,
          193,
          71,
          0,
          0,
          79,
          0,
          0,
          90,
          170,
          76,
          0,
          0,
          210,
          0,
          0,
          86,
          105,
          165,
          0,
          0,
          326,
          66,
          130,
          0,
          0,
          0,
          0,
          82,
          105,
          188,
          0,
          106,
          0,
          65,
          0,
          56,
          0,
          0,
          0,
          210,
          155,
          215,
          190,
          0,
          56,
          76,
          225,
          207,
          166,
          67,
          0,
          0,
          106,
          0,
          44,
          115,
          215,
          0,
          0,
          0,
          0,
          0,
          274,
          77,
          54,
          0,
          88,
          18,
          126,
          126,
          165,
          0,
          0,
          44,
          120,
          330,
          63,
          130,
          0,
          0,
          0,
          0,
          0,
          0,
          0,
          600,
          0,
          0,
          0,
          156,
          0,
          0,
          140,
          0,
          115,
          230,
          185,
          0,
          25,
          0,
          120,
          0,
          0,
          0,
          126,
          0,
          0,
          293,
          41,
          272,
          182,
          158,
          194,
          321,
          0,
          144,
          0,
          0,
          15,
          0,
          0,
          160,
          0,
          0,
          115,
          0,
          54,
          0,
          0,
          0,
          0,
          0,
          90,
          0,
          183,
          0,
          0,
          0,
          66,
          91,
          46,
          105,
          0,
          0,
          0,
          152,
          440,
          144,
          159,
          130,
          0,
          100,
          106,
          77,
          0,
          135,
          540,
          90,
          200,
          0,
          70,
          0,
          0,
          231,
          130,
          0,
          132,
          0,
          0,
          190,
          100,
          168,
          0,
          49,
          240,
          0,
          0,
          0,
          0,
          0,
          265,
          45,
          0,
          105,
          0,
          0,
          205,
          0,
          0,
          180,
          180,
          0,
          0,
          95,
          125,
          0,
          480,
          125,
          0,
          155,
          0,
          200,
          0,
          0,
          0,
          100,
          0,
          0,
          335,
          0,
          160,
          387,
          22,
          0,
          291,
          0,
          392,
          185,
          0,
          178,
          0,
          0,
          200,
          127,
          105,
          0,
          0,
          180,
          0,
          0,
          0,
          79,
          0,
          120,
          165,
          0,
          0,
          120,
          0,
          160,
          0,
          150,
          94,
          116,
          0,
          140,
          105,
          0,
          57,
          200,
          0,
          0,
          74,
          0,
          510,
          0,
          110,
          0,
          0,
          0,
          0,
          16,
          0,
          0,
          180,
          0,
          112,
          0,
          0
         ]
        }
       ],
       "layout": {
        "barmode": "overlay",
        "legend": {
         "bgcolor": "#F5F6F9",
         "font": {
          "color": "#4D5663"
         }
        },
        "paper_bgcolor": "#F5F6F9",
        "plot_bgcolor": "#F5F6F9",
        "template": {
         "data": {
          "bar": [
           {
            "error_x": {
             "color": "#2a3f5f"
            },
            "error_y": {
             "color": "#2a3f5f"
            },
            "marker": {
             "line": {
              "color": "#E5ECF6",
              "width": 0.5
             },
             "pattern": {
              "fillmode": "overlay",
              "size": 10,
              "solidity": 0.2
             }
            },
            "type": "bar"
           }
          ],
          "barpolar": [
           {
            "marker": {
             "line": {
              "color": "#E5ECF6",
              "width": 0.5
             },
             "pattern": {
              "fillmode": "overlay",
              "size": 10,
              "solidity": 0.2
             }
            },
            "type": "barpolar"
           }
          ],
          "carpet": [
           {
            "aaxis": {
             "endlinecolor": "#2a3f5f",
             "gridcolor": "white",
             "linecolor": "white",
             "minorgridcolor": "white",
             "startlinecolor": "#2a3f5f"
            },
            "baxis": {
             "endlinecolor": "#2a3f5f",
             "gridcolor": "white",
             "linecolor": "white",
             "minorgridcolor": "white",
             "startlinecolor": "#2a3f5f"
            },
            "type": "carpet"
           }
          ],
          "choropleth": [
           {
            "colorbar": {
             "outlinewidth": 0,
             "ticks": ""
            },
            "type": "choropleth"
           }
          ],
          "contour": [
           {
            "colorbar": {
             "outlinewidth": 0,
             "ticks": ""
            },
            "colorscale": [
             [
              0,
              "#0d0887"
             ],
             [
              0.1111111111111111,
              "#46039f"
             ],
             [
              0.2222222222222222,
              "#7201a8"
             ],
             [
              0.3333333333333333,
              "#9c179e"
             ],
             [
              0.4444444444444444,
              "#bd3786"
             ],
             [
              0.5555555555555556,
              "#d8576b"
             ],
             [
              0.6666666666666666,
              "#ed7953"
             ],
             [
              0.7777777777777778,
              "#fb9f3a"
             ],
             [
              0.8888888888888888,
              "#fdca26"
             ],
             [
              1,
              "#f0f921"
             ]
            ],
            "type": "contour"
           }
          ],
          "contourcarpet": [
           {
            "colorbar": {
             "outlinewidth": 0,
             "ticks": ""
            },
            "type": "contourcarpet"
           }
          ],
          "heatmap": [
           {
            "colorbar": {
             "outlinewidth": 0,
             "ticks": ""
            },
            "colorscale": [
             [
              0,
              "#0d0887"
             ],
             [
              0.1111111111111111,
              "#46039f"
             ],
             [
              0.2222222222222222,
              "#7201a8"
             ],
             [
              0.3333333333333333,
              "#9c179e"
             ],
             [
              0.4444444444444444,
              "#bd3786"
             ],
             [
              0.5555555555555556,
              "#d8576b"
             ],
             [
              0.6666666666666666,
              "#ed7953"
             ],
             [
              0.7777777777777778,
              "#fb9f3a"
             ],
             [
              0.8888888888888888,
              "#fdca26"
             ],
             [
              1,
              "#f0f921"
             ]
            ],
            "type": "heatmap"
           }
          ],
          "heatmapgl": [
           {
            "colorbar": {
             "outlinewidth": 0,
             "ticks": ""
            },
            "colorscale": [
             [
              0,
              "#0d0887"
             ],
             [
              0.1111111111111111,
              "#46039f"
             ],
             [
              0.2222222222222222,
              "#7201a8"
             ],
             [
              0.3333333333333333,
              "#9c179e"
             ],
             [
              0.4444444444444444,
              "#bd3786"
             ],
             [
              0.5555555555555556,
              "#d8576b"
             ],
             [
              0.6666666666666666,
              "#ed7953"
             ],
             [
              0.7777777777777778,
              "#fb9f3a"
             ],
             [
              0.8888888888888888,
              "#fdca26"
             ],
             [
              1,
              "#f0f921"
             ]
            ],
            "type": "heatmapgl"
           }
          ],
          "histogram": [
           {
            "marker": {
             "pattern": {
              "fillmode": "overlay",
              "size": 10,
              "solidity": 0.2
             }
            },
            "type": "histogram"
           }
          ],
          "histogram2d": [
           {
            "colorbar": {
             "outlinewidth": 0,
             "ticks": ""
            },
            "colorscale": [
             [
              0,
              "#0d0887"
             ],
             [
              0.1111111111111111,
              "#46039f"
             ],
             [
              0.2222222222222222,
              "#7201a8"
             ],
             [
              0.3333333333333333,
              "#9c179e"
             ],
             [
              0.4444444444444444,
              "#bd3786"
             ],
             [
              0.5555555555555556,
              "#d8576b"
             ],
             [
              0.6666666666666666,
              "#ed7953"
             ],
             [
              0.7777777777777778,
              "#fb9f3a"
             ],
             [
              0.8888888888888888,
              "#fdca26"
             ],
             [
              1,
              "#f0f921"
             ]
            ],
            "type": "histogram2d"
           }
          ],
          "histogram2dcontour": [
           {
            "colorbar": {
             "outlinewidth": 0,
             "ticks": ""
            },
            "colorscale": [
             [
              0,
              "#0d0887"
             ],
             [
              0.1111111111111111,
              "#46039f"
             ],
             [
              0.2222222222222222,
              "#7201a8"
             ],
             [
              0.3333333333333333,
              "#9c179e"
             ],
             [
              0.4444444444444444,
              "#bd3786"
             ],
             [
              0.5555555555555556,
              "#d8576b"
             ],
             [
              0.6666666666666666,
              "#ed7953"
             ],
             [
              0.7777777777777778,
              "#fb9f3a"
             ],
             [
              0.8888888888888888,
              "#fdca26"
             ],
             [
              1,
              "#f0f921"
             ]
            ],
            "type": "histogram2dcontour"
           }
          ],
          "mesh3d": [
           {
            "colorbar": {
             "outlinewidth": 0,
             "ticks": ""
            },
            "type": "mesh3d"
           }
          ],
          "parcoords": [
           {
            "line": {
             "colorbar": {
              "outlinewidth": 0,
              "ticks": ""
             }
            },
            "type": "parcoords"
           }
          ],
          "pie": [
           {
            "automargin": true,
            "type": "pie"
           }
          ],
          "scatter": [
           {
            "marker": {
             "colorbar": {
              "outlinewidth": 0,
              "ticks": ""
             }
            },
            "type": "scatter"
           }
          ],
          "scatter3d": [
           {
            "line": {
             "colorbar": {
              "outlinewidth": 0,
              "ticks": ""
             }
            },
            "marker": {
             "colorbar": {
              "outlinewidth": 0,
              "ticks": ""
             }
            },
            "type": "scatter3d"
           }
          ],
          "scattercarpet": [
           {
            "marker": {
             "colorbar": {
              "outlinewidth": 0,
              "ticks": ""
             }
            },
            "type": "scattercarpet"
           }
          ],
          "scattergeo": [
           {
            "marker": {
             "colorbar": {
              "outlinewidth": 0,
              "ticks": ""
             }
            },
            "type": "scattergeo"
           }
          ],
          "scattergl": [
           {
            "marker": {
             "colorbar": {
              "outlinewidth": 0,
              "ticks": ""
             }
            },
            "type": "scattergl"
           }
          ],
          "scattermapbox": [
           {
            "marker": {
             "colorbar": {
              "outlinewidth": 0,
              "ticks": ""
             }
            },
            "type": "scattermapbox"
           }
          ],
          "scatterpolar": [
           {
            "marker": {
             "colorbar": {
              "outlinewidth": 0,
              "ticks": ""
             }
            },
            "type": "scatterpolar"
           }
          ],
          "scatterpolargl": [
           {
            "marker": {
             "colorbar": {
              "outlinewidth": 0,
              "ticks": ""
             }
            },
            "type": "scatterpolargl"
           }
          ],
          "scatterternary": [
           {
            "marker": {
             "colorbar": {
              "outlinewidth": 0,
              "ticks": ""
             }
            },
            "type": "scatterternary"
           }
          ],
          "surface": [
           {
            "colorbar": {
             "outlinewidth": 0,
             "ticks": ""
            },
            "colorscale": [
             [
              0,
              "#0d0887"
             ],
             [
              0.1111111111111111,
              "#46039f"
             ],
             [
              0.2222222222222222,
              "#7201a8"
             ],
             [
              0.3333333333333333,
              "#9c179e"
             ],
             [
              0.4444444444444444,
              "#bd3786"
             ],
             [
              0.5555555555555556,
              "#d8576b"
             ],
             [
              0.6666666666666666,
              "#ed7953"
             ],
             [
              0.7777777777777778,
              "#fb9f3a"
             ],
             [
              0.8888888888888888,
              "#fdca26"
             ],
             [
              1,
              "#f0f921"
             ]
            ],
            "type": "surface"
           }
          ],
          "table": [
           {
            "cells": {
             "fill": {
              "color": "#EBF0F8"
             },
             "line": {
              "color": "white"
             }
            },
            "header": {
             "fill": {
              "color": "#C8D4E3"
             },
             "line": {
              "color": "white"
             }
            },
            "type": "table"
           }
          ]
         },
         "layout": {
          "annotationdefaults": {
           "arrowcolor": "#2a3f5f",
           "arrowhead": 0,
           "arrowwidth": 1
          },
          "autotypenumbers": "strict",
          "coloraxis": {
           "colorbar": {
            "outlinewidth": 0,
            "ticks": ""
           }
          },
          "colorscale": {
           "diverging": [
            [
             0,
             "#8e0152"
            ],
            [
             0.1,
             "#c51b7d"
            ],
            [
             0.2,
             "#de77ae"
            ],
            [
             0.3,
             "#f1b6da"
            ],
            [
             0.4,
             "#fde0ef"
            ],
            [
             0.5,
             "#f7f7f7"
            ],
            [
             0.6,
             "#e6f5d0"
            ],
            [
             0.7,
             "#b8e186"
            ],
            [
             0.8,
             "#7fbc41"
            ],
            [
             0.9,
             "#4d9221"
            ],
            [
             1,
             "#276419"
            ]
           ],
           "sequential": [
            [
             0,
             "#0d0887"
            ],
            [
             0.1111111111111111,
             "#46039f"
            ],
            [
             0.2222222222222222,
             "#7201a8"
            ],
            [
             0.3333333333333333,
             "#9c179e"
            ],
            [
             0.4444444444444444,
             "#bd3786"
            ],
            [
             0.5555555555555556,
             "#d8576b"
            ],
            [
             0.6666666666666666,
             "#ed7953"
            ],
            [
             0.7777777777777778,
             "#fb9f3a"
            ],
            [
             0.8888888888888888,
             "#fdca26"
            ],
            [
             1,
             "#f0f921"
            ]
           ],
           "sequentialminus": [
            [
             0,
             "#0d0887"
            ],
            [
             0.1111111111111111,
             "#46039f"
            ],
            [
             0.2222222222222222,
             "#7201a8"
            ],
            [
             0.3333333333333333,
             "#9c179e"
            ],
            [
             0.4444444444444444,
             "#bd3786"
            ],
            [
             0.5555555555555556,
             "#d8576b"
            ],
            [
             0.6666666666666666,
             "#ed7953"
            ],
            [
             0.7777777777777778,
             "#fb9f3a"
            ],
            [
             0.8888888888888888,
             "#fdca26"
            ],
            [
             1,
             "#f0f921"
            ]
           ]
          },
          "colorway": [
           "#636efa",
           "#EF553B",
           "#00cc96",
           "#ab63fa",
           "#FFA15A",
           "#19d3f3",
           "#FF6692",
           "#B6E880",
           "#FF97FF",
           "#FECB52"
          ],
          "font": {
           "color": "#2a3f5f"
          },
          "geo": {
           "bgcolor": "white",
           "lakecolor": "white",
           "landcolor": "#E5ECF6",
           "showlakes": true,
           "showland": true,
           "subunitcolor": "white"
          },
          "hoverlabel": {
           "align": "left"
          },
          "hovermode": "closest",
          "mapbox": {
           "style": "light"
          },
          "paper_bgcolor": "white",
          "plot_bgcolor": "#E5ECF6",
          "polar": {
           "angularaxis": {
            "gridcolor": "white",
            "linecolor": "white",
            "ticks": ""
           },
           "bgcolor": "#E5ECF6",
           "radialaxis": {
            "gridcolor": "white",
            "linecolor": "white",
            "ticks": ""
           }
          },
          "scene": {
           "xaxis": {
            "backgroundcolor": "#E5ECF6",
            "gridcolor": "white",
            "gridwidth": 2,
            "linecolor": "white",
            "showbackground": true,
            "ticks": "",
            "zerolinecolor": "white"
           },
           "yaxis": {
            "backgroundcolor": "#E5ECF6",
            "gridcolor": "white",
            "gridwidth": 2,
            "linecolor": "white",
            "showbackground": true,
            "ticks": "",
            "zerolinecolor": "white"
           },
           "zaxis": {
            "backgroundcolor": "#E5ECF6",
            "gridcolor": "white",
            "gridwidth": 2,
            "linecolor": "white",
            "showbackground": true,
            "ticks": "",
            "zerolinecolor": "white"
           }
          },
          "shapedefaults": {
           "line": {
            "color": "#2a3f5f"
           }
          },
          "ternary": {
           "aaxis": {
            "gridcolor": "white",
            "linecolor": "white",
            "ticks": ""
           },
           "baxis": {
            "gridcolor": "white",
            "linecolor": "white",
            "ticks": ""
           },
           "bgcolor": "#E5ECF6",
           "caxis": {
            "gridcolor": "white",
            "linecolor": "white",
            "ticks": ""
           }
          },
          "title": {
           "x": 0.05
          },
          "xaxis": {
           "automargin": true,
           "gridcolor": "white",
           "linecolor": "white",
           "ticks": "",
           "title": {
            "standoff": 15
           },
           "zerolinecolor": "white",
           "zerolinewidth": 2
          },
          "yaxis": {
           "automargin": true,
           "gridcolor": "white",
           "linecolor": "white",
           "ticks": "",
           "title": {
            "standoff": 15
           },
           "zerolinecolor": "white",
           "zerolinewidth": 2
          }
         }
        },
        "title": {
         "font": {
          "color": "#4D5663"
         }
        },
        "xaxis": {
         "gridcolor": "#E1E5ED",
         "showgrid": true,
         "tickfont": {
          "color": "#4D5663"
         },
         "title": {
          "font": {
           "color": "#4D5663"
          },
          "text": ""
         },
         "zerolinecolor": "#E1E5ED"
        },
        "yaxis": {
         "gridcolor": "#E1E5ED",
         "showgrid": true,
         "tickfont": {
          "color": "#4D5663"
         },
         "title": {
          "font": {
           "color": "#4D5663"
          },
          "text": ""
         },
         "zerolinecolor": "#E1E5ED"
        }
       }
      },
      "text/html": [
       "<div>                            <div id=\"3d7a401a-be69-41b3-aeae-ccfdb864eba8\" class=\"plotly-graph-div\" style=\"height:525px; width:100%;\"></div>            <script type=\"text/javascript\">                require([\"plotly\"], function(Plotly) {                    window.PLOTLYENV=window.PLOTLYENV || {};\n",
       "                    window.PLOTLYENV.BASE_URL='https://plot.ly';                                    if (document.getElementById(\"3d7a401a-be69-41b3-aeae-ccfdb864eba8\")) {                    Plotly.newPlot(                        \"3d7a401a-be69-41b3-aeae-ccfdb864eba8\",                        [{\"histfunc\":\"count\",\"histnorm\":\"\",\"marker\":{\"color\":\"rgba(255, 153, 51, 1.0)\",\"line\":{\"color\":\"#4D5663\",\"width\":1.3}},\"name\":\"insu\",\"opacity\":0.8,\"orientation\":\"v\",\"x\":[0,0,0,94,168,0,88,0,543,0,0,0,0,846,175,0,230,0,83,96,235,0,0,0,146,115,0,140,110,0,0,245,54,0,0,192,0,0,0,207,70,0,0,240,0,0,0,0,0,0,82,36,23,300,342,0,304,110,0,142,0,0,0,128,0,0,0,0,38,100,90,140,0,270,0,0,0,0,0,0,0,0,71,0,0,125,0,71,110,0,0,176,48,0,64,228,0,76,64,220,0,0,0,40,0,152,0,140,18,36,135,495,37,0,175,0,0,0,0,51,100,0,100,0,0,99,135,94,145,0,168,0,225,0,49,140,50,92,0,325,0,0,63,0,284,0,0,119,0,0,204,0,155,485,0,0,94,135,53,114,0,105,285,0,0,156,0,0,0,78,0,130,0,48,55,130,0,130,0,0,0,92,23,0,0,0,495,58,114,160,0,94,0,0,0,210,0,48,99,318,0,0,0,44,190,0,280,0,87,0,0,0,0,130,175,271,129,120,0,0,478,0,0,190,56,32,0,0,744,53,0,370,37,0,45,0,192,0,0,0,0,88,0,176,194,0,0,680,402,0,0,0,55,0,258,0,0,0,375,150,130,0,0,0,0,67,0,0,0,0,0,56,0,45,0,57,0,116,0,278,0,122,155,0,0,135,545,220,49,75,40,74,182,194,0,120,360,215,184,0,0,135,42,0,0,105,132,148,180,205,0,148,96,85,0,94,64,0,140,0,231,0,0,29,0,168,156,0,120,68,0,52,0,0,58,255,0,0,171,0,105,73,0,0,0,108,83,0,74,0,0,0,0,43,0,0,167,0,54,249,325,0,0,0,293,83,0,0,66,140,465,89,66,94,158,325,84,75,0,72,82,0,182,59,110,50,0,0,285,81,196,0,415,87,0,275,115,0,0,0,0,0,88,0,0,165,0,0,0,579,0,176,310,61,167,474,0,0,0,115,170,76,78,0,210,277,0,180,145,180,0,85,60,0,0,0,0,0,0,0,0,50,120,0,0,14,70,92,64,63,95,0,210,0,105,0,0,71,237,60,56,0,49,0,0,105,36,100,0,140,0,0,0,0,0,0,191,110,75,0,328,0,49,125,0,250,480,265,0,0,66,0,0,122,0,0,0,76,145,193,71,0,0,79,0,0,90,170,76,0,0,210,0,0,86,105,165,0,0,326,66,130,0,0,0,0,82,105,188,0,106,0,65,0,56,0,0,0,210,155,215,190,0,56,76,225,207,166,67,0,0,106,0,44,115,215,0,0,0,0,0,274,77,54,0,88,18,126,126,165,0,0,44,120,330,63,130,0,0,0,0,0,0,0,600,0,0,0,156,0,0,140,0,115,230,185,0,25,0,120,0,0,0,126,0,0,293,41,272,182,158,194,321,0,144,0,0,15,0,0,160,0,0,115,0,54,0,0,0,0,0,90,0,183,0,0,0,66,91,46,105,0,0,0,152,440,144,159,130,0,100,106,77,0,135,540,90,200,0,70,0,0,231,130,0,132,0,0,190,100,168,0,49,240,0,0,0,0,0,265,45,0,105,0,0,205,0,0,180,180,0,0,95,125,0,480,125,0,155,0,200,0,0,0,100,0,0,335,0,160,387,22,0,291,0,392,185,0,178,0,0,200,127,105,0,0,180,0,0,0,79,0,120,165,0,0,120,0,160,0,150,94,116,0,140,105,0,57,200,0,0,74,0,510,0,110,0,0,0,0,16,0,0,180,0,112,0,0],\"type\":\"histogram\"}],                        {\"barmode\":\"overlay\",\"legend\":{\"bgcolor\":\"#F5F6F9\",\"font\":{\"color\":\"#4D5663\"}},\"paper_bgcolor\":\"#F5F6F9\",\"plot_bgcolor\":\"#F5F6F9\",\"template\":{\"data\":{\"barpolar\":[{\"marker\":{\"line\":{\"color\":\"#E5ECF6\",\"width\":0.5},\"pattern\":{\"fillmode\":\"overlay\",\"size\":10,\"solidity\":0.2}},\"type\":\"barpolar\"}],\"bar\":[{\"error_x\":{\"color\":\"#2a3f5f\"},\"error_y\":{\"color\":\"#2a3f5f\"},\"marker\":{\"line\":{\"color\":\"#E5ECF6\",\"width\":0.5},\"pattern\":{\"fillmode\":\"overlay\",\"size\":10,\"solidity\":0.2}},\"type\":\"bar\"}],\"carpet\":[{\"aaxis\":{\"endlinecolor\":\"#2a3f5f\",\"gridcolor\":\"white\",\"linecolor\":\"white\",\"minorgridcolor\":\"white\",\"startlinecolor\":\"#2a3f5f\"},\"baxis\":{\"endlinecolor\":\"#2a3f5f\",\"gridcolor\":\"white\",\"linecolor\":\"white\",\"minorgridcolor\":\"white\",\"startlinecolor\":\"#2a3f5f\"},\"type\":\"carpet\"}],\"choropleth\":[{\"colorbar\":{\"outlinewidth\":0,\"ticks\":\"\"},\"type\":\"choropleth\"}],\"contourcarpet\":[{\"colorbar\":{\"outlinewidth\":0,\"ticks\":\"\"},\"type\":\"contourcarpet\"}],\"contour\":[{\"colorbar\":{\"outlinewidth\":0,\"ticks\":\"\"},\"colorscale\":[[0.0,\"#0d0887\"],[0.1111111111111111,\"#46039f\"],[0.2222222222222222,\"#7201a8\"],[0.3333333333333333,\"#9c179e\"],[0.4444444444444444,\"#bd3786\"],[0.5555555555555556,\"#d8576b\"],[0.6666666666666666,\"#ed7953\"],[0.7777777777777778,\"#fb9f3a\"],[0.8888888888888888,\"#fdca26\"],[1.0,\"#f0f921\"]],\"type\":\"contour\"}],\"heatmapgl\":[{\"colorbar\":{\"outlinewidth\":0,\"ticks\":\"\"},\"colorscale\":[[0.0,\"#0d0887\"],[0.1111111111111111,\"#46039f\"],[0.2222222222222222,\"#7201a8\"],[0.3333333333333333,\"#9c179e\"],[0.4444444444444444,\"#bd3786\"],[0.5555555555555556,\"#d8576b\"],[0.6666666666666666,\"#ed7953\"],[0.7777777777777778,\"#fb9f3a\"],[0.8888888888888888,\"#fdca26\"],[1.0,\"#f0f921\"]],\"type\":\"heatmapgl\"}],\"heatmap\":[{\"colorbar\":{\"outlinewidth\":0,\"ticks\":\"\"},\"colorscale\":[[0.0,\"#0d0887\"],[0.1111111111111111,\"#46039f\"],[0.2222222222222222,\"#7201a8\"],[0.3333333333333333,\"#9c179e\"],[0.4444444444444444,\"#bd3786\"],[0.5555555555555556,\"#d8576b\"],[0.6666666666666666,\"#ed7953\"],[0.7777777777777778,\"#fb9f3a\"],[0.8888888888888888,\"#fdca26\"],[1.0,\"#f0f921\"]],\"type\":\"heatmap\"}],\"histogram2dcontour\":[{\"colorbar\":{\"outlinewidth\":0,\"ticks\":\"\"},\"colorscale\":[[0.0,\"#0d0887\"],[0.1111111111111111,\"#46039f\"],[0.2222222222222222,\"#7201a8\"],[0.3333333333333333,\"#9c179e\"],[0.4444444444444444,\"#bd3786\"],[0.5555555555555556,\"#d8576b\"],[0.6666666666666666,\"#ed7953\"],[0.7777777777777778,\"#fb9f3a\"],[0.8888888888888888,\"#fdca26\"],[1.0,\"#f0f921\"]],\"type\":\"histogram2dcontour\"}],\"histogram2d\":[{\"colorbar\":{\"outlinewidth\":0,\"ticks\":\"\"},\"colorscale\":[[0.0,\"#0d0887\"],[0.1111111111111111,\"#46039f\"],[0.2222222222222222,\"#7201a8\"],[0.3333333333333333,\"#9c179e\"],[0.4444444444444444,\"#bd3786\"],[0.5555555555555556,\"#d8576b\"],[0.6666666666666666,\"#ed7953\"],[0.7777777777777778,\"#fb9f3a\"],[0.8888888888888888,\"#fdca26\"],[1.0,\"#f0f921\"]],\"type\":\"histogram2d\"}],\"histogram\":[{\"marker\":{\"pattern\":{\"fillmode\":\"overlay\",\"size\":10,\"solidity\":0.2}},\"type\":\"histogram\"}],\"mesh3d\":[{\"colorbar\":{\"outlinewidth\":0,\"ticks\":\"\"},\"type\":\"mesh3d\"}],\"parcoords\":[{\"line\":{\"colorbar\":{\"outlinewidth\":0,\"ticks\":\"\"}},\"type\":\"parcoords\"}],\"pie\":[{\"automargin\":true,\"type\":\"pie\"}],\"scatter3d\":[{\"line\":{\"colorbar\":{\"outlinewidth\":0,\"ticks\":\"\"}},\"marker\":{\"colorbar\":{\"outlinewidth\":0,\"ticks\":\"\"}},\"type\":\"scatter3d\"}],\"scattercarpet\":[{\"marker\":{\"colorbar\":{\"outlinewidth\":0,\"ticks\":\"\"}},\"type\":\"scattercarpet\"}],\"scattergeo\":[{\"marker\":{\"colorbar\":{\"outlinewidth\":0,\"ticks\":\"\"}},\"type\":\"scattergeo\"}],\"scattergl\":[{\"marker\":{\"colorbar\":{\"outlinewidth\":0,\"ticks\":\"\"}},\"type\":\"scattergl\"}],\"scattermapbox\":[{\"marker\":{\"colorbar\":{\"outlinewidth\":0,\"ticks\":\"\"}},\"type\":\"scattermapbox\"}],\"scatterpolargl\":[{\"marker\":{\"colorbar\":{\"outlinewidth\":0,\"ticks\":\"\"}},\"type\":\"scatterpolargl\"}],\"scatterpolar\":[{\"marker\":{\"colorbar\":{\"outlinewidth\":0,\"ticks\":\"\"}},\"type\":\"scatterpolar\"}],\"scatter\":[{\"marker\":{\"colorbar\":{\"outlinewidth\":0,\"ticks\":\"\"}},\"type\":\"scatter\"}],\"scatterternary\":[{\"marker\":{\"colorbar\":{\"outlinewidth\":0,\"ticks\":\"\"}},\"type\":\"scatterternary\"}],\"surface\":[{\"colorbar\":{\"outlinewidth\":0,\"ticks\":\"\"},\"colorscale\":[[0.0,\"#0d0887\"],[0.1111111111111111,\"#46039f\"],[0.2222222222222222,\"#7201a8\"],[0.3333333333333333,\"#9c179e\"],[0.4444444444444444,\"#bd3786\"],[0.5555555555555556,\"#d8576b\"],[0.6666666666666666,\"#ed7953\"],[0.7777777777777778,\"#fb9f3a\"],[0.8888888888888888,\"#fdca26\"],[1.0,\"#f0f921\"]],\"type\":\"surface\"}],\"table\":[{\"cells\":{\"fill\":{\"color\":\"#EBF0F8\"},\"line\":{\"color\":\"white\"}},\"header\":{\"fill\":{\"color\":\"#C8D4E3\"},\"line\":{\"color\":\"white\"}},\"type\":\"table\"}]},\"layout\":{\"annotationdefaults\":{\"arrowcolor\":\"#2a3f5f\",\"arrowhead\":0,\"arrowwidth\":1},\"autotypenumbers\":\"strict\",\"coloraxis\":{\"colorbar\":{\"outlinewidth\":0,\"ticks\":\"\"}},\"colorscale\":{\"diverging\":[[0,\"#8e0152\"],[0.1,\"#c51b7d\"],[0.2,\"#de77ae\"],[0.3,\"#f1b6da\"],[0.4,\"#fde0ef\"],[0.5,\"#f7f7f7\"],[0.6,\"#e6f5d0\"],[0.7,\"#b8e186\"],[0.8,\"#7fbc41\"],[0.9,\"#4d9221\"],[1,\"#276419\"]],\"sequential\":[[0.0,\"#0d0887\"],[0.1111111111111111,\"#46039f\"],[0.2222222222222222,\"#7201a8\"],[0.3333333333333333,\"#9c179e\"],[0.4444444444444444,\"#bd3786\"],[0.5555555555555556,\"#d8576b\"],[0.6666666666666666,\"#ed7953\"],[0.7777777777777778,\"#fb9f3a\"],[0.8888888888888888,\"#fdca26\"],[1.0,\"#f0f921\"]],\"sequentialminus\":[[0.0,\"#0d0887\"],[0.1111111111111111,\"#46039f\"],[0.2222222222222222,\"#7201a8\"],[0.3333333333333333,\"#9c179e\"],[0.4444444444444444,\"#bd3786\"],[0.5555555555555556,\"#d8576b\"],[0.6666666666666666,\"#ed7953\"],[0.7777777777777778,\"#fb9f3a\"],[0.8888888888888888,\"#fdca26\"],[1.0,\"#f0f921\"]]},\"colorway\":[\"#636efa\",\"#EF553B\",\"#00cc96\",\"#ab63fa\",\"#FFA15A\",\"#19d3f3\",\"#FF6692\",\"#B6E880\",\"#FF97FF\",\"#FECB52\"],\"font\":{\"color\":\"#2a3f5f\"},\"geo\":{\"bgcolor\":\"white\",\"lakecolor\":\"white\",\"landcolor\":\"#E5ECF6\",\"showlakes\":true,\"showland\":true,\"subunitcolor\":\"white\"},\"hoverlabel\":{\"align\":\"left\"},\"hovermode\":\"closest\",\"mapbox\":{\"style\":\"light\"},\"paper_bgcolor\":\"white\",\"plot_bgcolor\":\"#E5ECF6\",\"polar\":{\"angularaxis\":{\"gridcolor\":\"white\",\"linecolor\":\"white\",\"ticks\":\"\"},\"bgcolor\":\"#E5ECF6\",\"radialaxis\":{\"gridcolor\":\"white\",\"linecolor\":\"white\",\"ticks\":\"\"}},\"scene\":{\"xaxis\":{\"backgroundcolor\":\"#E5ECF6\",\"gridcolor\":\"white\",\"gridwidth\":2,\"linecolor\":\"white\",\"showbackground\":true,\"ticks\":\"\",\"zerolinecolor\":\"white\"},\"yaxis\":{\"backgroundcolor\":\"#E5ECF6\",\"gridcolor\":\"white\",\"gridwidth\":2,\"linecolor\":\"white\",\"showbackground\":true,\"ticks\":\"\",\"zerolinecolor\":\"white\"},\"zaxis\":{\"backgroundcolor\":\"#E5ECF6\",\"gridcolor\":\"white\",\"gridwidth\":2,\"linecolor\":\"white\",\"showbackground\":true,\"ticks\":\"\",\"zerolinecolor\":\"white\"}},\"shapedefaults\":{\"line\":{\"color\":\"#2a3f5f\"}},\"ternary\":{\"aaxis\":{\"gridcolor\":\"white\",\"linecolor\":\"white\",\"ticks\":\"\"},\"baxis\":{\"gridcolor\":\"white\",\"linecolor\":\"white\",\"ticks\":\"\"},\"bgcolor\":\"#E5ECF6\",\"caxis\":{\"gridcolor\":\"white\",\"linecolor\":\"white\",\"ticks\":\"\"}},\"title\":{\"x\":0.05},\"xaxis\":{\"automargin\":true,\"gridcolor\":\"white\",\"linecolor\":\"white\",\"ticks\":\"\",\"title\":{\"standoff\":15},\"zerolinecolor\":\"white\",\"zerolinewidth\":2},\"yaxis\":{\"automargin\":true,\"gridcolor\":\"white\",\"linecolor\":\"white\",\"ticks\":\"\",\"title\":{\"standoff\":15},\"zerolinecolor\":\"white\",\"zerolinewidth\":2}}},\"title\":{\"font\":{\"color\":\"#4D5663\"}},\"xaxis\":{\"gridcolor\":\"#E1E5ED\",\"showgrid\":true,\"tickfont\":{\"color\":\"#4D5663\"},\"title\":{\"font\":{\"color\":\"#4D5663\"},\"text\":\"\"},\"zerolinecolor\":\"#E1E5ED\"},\"yaxis\":{\"gridcolor\":\"#E1E5ED\",\"showgrid\":true,\"tickfont\":{\"color\":\"#4D5663\"},\"title\":{\"font\":{\"color\":\"#4D5663\"},\"text\":\"\"},\"zerolinecolor\":\"#E1E5ED\"}},                        {\"showLink\": true, \"linkText\": \"Export to plot.ly\", \"plotlyServerURL\": \"https://plot.ly\", \"responsive\": true}                    ).then(function(){\n",
       "                            \n",
       "var gd = document.getElementById('3d7a401a-be69-41b3-aeae-ccfdb864eba8');\n",
       "var x = new MutationObserver(function (mutations, observer) {{\n",
       "        var display = window.getComputedStyle(gd).display;\n",
       "        if (!display || display === 'none') {{\n",
       "            console.log([gd, 'removed!']);\n",
       "            Plotly.purge(gd);\n",
       "            observer.disconnect();\n",
       "        }}\n",
       "}});\n",
       "\n",
       "// Listen for the removal of the full notebook cells\n",
       "var notebookContainer = gd.closest('#notebook-container');\n",
       "if (notebookContainer) {{\n",
       "    x.observe(notebookContainer, {childList: true});\n",
       "}}\n",
       "\n",
       "// Listen for the clearing of the current output cell\n",
       "var outputEl = gd.closest('.output');\n",
       "if (outputEl) {{\n",
       "    x.observe(outputEl, {childList: true});\n",
       "}}\n",
       "\n",
       "                        })                };                });            </script>        </div>"
      ]
     },
     "metadata": {},
     "output_type": "display_data"
    }
   ],
   "source": [
    "df[['insu']].iplot(kind = 'hist')"
   ]
  },
  {
   "cell_type": "code",
   "execution_count": 42,
   "id": "bc8e082e",
   "metadata": {},
   "outputs": [
    {
     "data": {
      "application/vnd.plotly.v1+json": {
       "config": {
        "linkText": "Export to plot.ly",
        "plotlyServerURL": "https://plot.ly",
        "showLink": true
       },
       "data": [
        {
         "marker": {
          "color": "rgba(255, 153, 51, 0.6)",
          "line": {
           "color": "rgba(255, 153, 51, 1.0)",
           "width": 1
          }
         },
         "name": "insu",
         "orientation": "v",
         "text": "",
         "type": "bar",
         "x": [
          "tested_positive",
          "tested_negative",
          "tested_positive",
          "tested_negative",
          "tested_positive",
          "tested_negative",
          "tested_positive",
          "tested_negative",
          "tested_positive",
          "tested_positive",
          "tested_negative",
          "tested_positive",
          "tested_negative",
          "tested_positive",
          "tested_positive",
          "tested_positive",
          "tested_positive",
          "tested_positive",
          "tested_negative",
          "tested_positive",
          "tested_negative",
          "tested_negative",
          "tested_positive",
          "tested_positive",
          "tested_positive",
          "tested_positive",
          "tested_positive",
          "tested_negative",
          "tested_negative",
          "tested_negative",
          "tested_negative",
          "tested_positive",
          "tested_negative",
          "tested_negative",
          "tested_negative",
          "tested_negative",
          "tested_negative",
          "tested_positive",
          "tested_positive",
          "tested_positive",
          "tested_negative",
          "tested_negative",
          "tested_negative",
          "tested_positive",
          "tested_negative",
          "tested_positive",
          "tested_negative",
          "tested_negative",
          "tested_positive",
          "tested_negative",
          "tested_negative",
          "tested_negative",
          "tested_negative",
          "tested_positive",
          "tested_negative",
          "tested_negative",
          "tested_positive",
          "tested_negative",
          "tested_negative",
          "tested_negative",
          "tested_negative",
          "tested_positive",
          "tested_negative",
          "tested_negative",
          "tested_positive",
          "tested_negative",
          "tested_positive",
          "tested_negative",
          "tested_negative",
          "tested_negative",
          "tested_positive",
          "tested_negative",
          "tested_positive",
          "tested_negative",
          "tested_negative",
          "tested_negative",
          "tested_negative",
          "tested_negative",
          "tested_positive",
          "tested_negative",
          "tested_negative",
          "tested_negative",
          "tested_negative",
          "tested_negative",
          "tested_positive",
          "tested_negative",
          "tested_negative",
          "tested_negative",
          "tested_positive",
          "tested_negative",
          "tested_negative",
          "tested_negative",
          "tested_negative",
          "tested_positive",
          "tested_negative",
          "tested_negative",
          "tested_negative",
          "tested_negative",
          "tested_negative",
          "tested_positive",
          "tested_positive",
          "tested_negative",
          "tested_negative",
          "tested_negative",
          "tested_negative",
          "tested_negative",
          "tested_negative",
          "tested_negative",
          "tested_negative",
          "tested_positive",
          "tested_positive",
          "tested_positive",
          "tested_negative",
          "tested_negative",
          "tested_positive",
          "tested_positive",
          "tested_positive",
          "tested_negative",
          "tested_negative",
          "tested_negative",
          "tested_positive",
          "tested_negative",
          "tested_negative",
          "tested_negative",
          "tested_positive",
          "tested_positive",
          "tested_negative",
          "tested_negative",
          "tested_positive",
          "tested_positive",
          "tested_positive",
          "tested_positive",
          "tested_positive",
          "tested_negative",
          "tested_negative",
          "tested_negative",
          "tested_negative",
          "tested_negative",
          "tested_negative",
          "tested_negative",
          "tested_negative",
          "tested_negative",
          "tested_negative",
          "tested_positive",
          "tested_negative",
          "tested_negative",
          "tested_negative",
          "tested_negative",
          "tested_negative",
          "tested_negative",
          "tested_negative",
          "tested_negative",
          "tested_positive",
          "tested_negative",
          "tested_positive",
          "tested_positive",
          "tested_negative",
          "tested_negative",
          "tested_negative",
          "tested_positive",
          "tested_negative",
          "tested_negative",
          "tested_negative",
          "tested_negative",
          "tested_positive",
          "tested_positive",
          "tested_negative",
          "tested_negative",
          "tested_negative",
          "tested_negative",
          "tested_positive",
          "tested_positive",
          "tested_negative",
          "tested_negative",
          "tested_negative",
          "tested_positive",
          "tested_negative",
          "tested_positive",
          "tested_negative",
          "tested_positive",
          "tested_negative",
          "tested_negative",
          "tested_negative",
          "tested_negative",
          "tested_negative",
          "tested_positive",
          "tested_positive",
          "tested_positive",
          "tested_positive",
          "tested_positive",
          "tested_negative",
          "tested_negative",
          "tested_positive",
          "tested_positive",
          "tested_negative",
          "tested_positive",
          "tested_negative",
          "tested_positive",
          "tested_positive",
          "tested_positive",
          "tested_negative",
          "tested_negative",
          "tested_negative",
          "tested_negative",
          "tested_negative",
          "tested_negative",
          "tested_positive",
          "tested_positive",
          "tested_negative",
          "tested_positive",
          "tested_negative",
          "tested_negative",
          "tested_negative",
          "tested_positive",
          "tested_positive",
          "tested_positive",
          "tested_positive",
          "tested_negative",
          "tested_positive",
          "tested_positive",
          "tested_positive",
          "tested_positive",
          "tested_negative",
          "tested_negative",
          "tested_negative",
          "tested_negative",
          "tested_negative",
          "tested_positive",
          "tested_negative",
          "tested_negative",
          "tested_positive",
          "tested_positive",
          "tested_negative",
          "tested_negative",
          "tested_negative",
          "tested_positive",
          "tested_positive",
          "tested_positive",
          "tested_positive",
          "tested_negative",
          "tested_negative",
          "tested_negative",
          "tested_positive",
          "tested_positive",
          "tested_negative",
          "tested_positive",
          "tested_negative",
          "tested_negative",
          "tested_negative",
          "tested_negative",
          "tested_negative",
          "tested_negative",
          "tested_negative",
          "tested_negative",
          "tested_positive",
          "tested_positive",
          "tested_negative",
          "tested_negative",
          "tested_negative",
          "tested_positive",
          "tested_negative",
          "tested_positive",
          "tested_negative",
          "tested_negative",
          "tested_positive",
          "tested_negative",
          "tested_positive",
          "tested_negative",
          "tested_negative",
          "tested_positive",
          "tested_positive",
          "tested_negative",
          "tested_negative",
          "tested_negative",
          "tested_negative",
          "tested_negative",
          "tested_positive",
          "tested_negative",
          "tested_negative",
          "tested_negative",
          "tested_positive",
          "tested_negative",
          "tested_negative",
          "tested_positive",
          "tested_positive",
          "tested_negative",
          "tested_negative",
          "tested_positive",
          "tested_negative",
          "tested_negative",
          "tested_negative",
          "tested_positive",
          "tested_positive",
          "tested_positive",
          "tested_negative",
          "tested_negative",
          "tested_positive",
          "tested_negative",
          "tested_positive",
          "tested_negative",
          "tested_positive",
          "tested_positive",
          "tested_negative",
          "tested_positive",
          "tested_negative",
          "tested_negative",
          "tested_positive",
          "tested_negative",
          "tested_positive",
          "tested_positive",
          "tested_negative",
          "tested_negative",
          "tested_positive",
          "tested_negative",
          "tested_positive",
          "tested_negative",
          "tested_negative",
          "tested_positive",
          "tested_negative",
          "tested_positive",
          "tested_negative",
          "tested_positive",
          "tested_positive",
          "tested_positive",
          "tested_negative",
          "tested_negative",
          "tested_positive",
          "tested_negative",
          "tested_positive",
          "tested_negative",
          "tested_negative",
          "tested_negative",
          "tested_positive",
          "tested_negative",
          "tested_negative",
          "tested_negative",
          "tested_negative",
          "tested_positive",
          "tested_positive",
          "tested_positive",
          "tested_negative",
          "tested_negative",
          "tested_negative",
          "tested_negative",
          "tested_negative",
          "tested_negative",
          "tested_negative",
          "tested_negative",
          "tested_negative",
          "tested_positive",
          "tested_negative",
          "tested_negative",
          "tested_negative",
          "tested_negative",
          "tested_negative",
          "tested_positive",
          "tested_positive",
          "tested_positive",
          "tested_negative",
          "tested_positive",
          "tested_positive",
          "tested_negative",
          "tested_negative",
          "tested_positive",
          "tested_negative",
          "tested_negative",
          "tested_positive",
          "tested_negative",
          "tested_negative",
          "tested_positive",
          "tested_positive",
          "tested_negative",
          "tested_negative",
          "tested_negative",
          "tested_negative",
          "tested_positive",
          "tested_negative",
          "tested_negative",
          "tested_positive",
          "tested_negative",
          "tested_negative",
          "tested_negative",
          "tested_negative",
          "tested_negative",
          "tested_negative",
          "tested_negative",
          "tested_positive",
          "tested_positive",
          "tested_positive",
          "tested_negative",
          "tested_negative",
          "tested_positive",
          "tested_negative",
          "tested_negative",
          "tested_positive",
          "tested_negative",
          "tested_negative",
          "tested_positive",
          "tested_negative",
          "tested_positive",
          "tested_positive",
          "tested_negative",
          "tested_positive",
          "tested_negative",
          "tested_positive",
          "tested_negative",
          "tested_positive",
          "tested_negative",
          "tested_positive",
          "tested_positive",
          "tested_negative",
          "tested_negative",
          "tested_negative",
          "tested_negative",
          "tested_positive",
          "tested_positive",
          "tested_negative",
          "tested_positive",
          "tested_negative",
          "tested_positive",
          "tested_negative",
          "tested_negative",
          "tested_negative",
          "tested_negative",
          "tested_positive",
          "tested_positive",
          "tested_negative",
          "tested_positive",
          "tested_negative",
          "tested_positive",
          "tested_negative",
          "tested_negative",
          "tested_negative",
          "tested_negative",
          "tested_negative",
          "tested_positive",
          "tested_negative",
          "tested_negative",
          "tested_negative",
          "tested_negative",
          "tested_positive",
          "tested_negative",
          "tested_negative",
          "tested_positive",
          "tested_positive",
          "tested_positive",
          "tested_negative",
          "tested_negative",
          "tested_positive",
          "tested_negative",
          "tested_negative",
          "tested_positive",
          "tested_negative",
          "tested_negative",
          "tested_negative",
          "tested_positive",
          "tested_negative",
          "tested_negative",
          "tested_positive",
          "tested_negative",
          "tested_negative",
          "tested_negative",
          "tested_negative",
          "tested_negative",
          "tested_negative",
          "tested_negative",
          "tested_negative",
          "tested_negative",
          "tested_positive",
          "tested_negative",
          "tested_negative",
          "tested_negative",
          "tested_negative",
          "tested_negative",
          "tested_negative",
          "tested_negative",
          "tested_positive",
          "tested_negative",
          "tested_negative",
          "tested_negative",
          "tested_positive",
          "tested_negative",
          "tested_negative",
          "tested_negative",
          "tested_positive",
          "tested_positive",
          "tested_negative",
          "tested_negative",
          "tested_negative",
          "tested_negative",
          "tested_negative",
          "tested_negative",
          "tested_negative",
          "tested_positive",
          "tested_negative",
          "tested_negative",
          "tested_negative",
          "tested_negative",
          "tested_positive",
          "tested_negative",
          "tested_negative",
          "tested_negative",
          "tested_positive",
          "tested_negative",
          "tested_negative",
          "tested_negative",
          "tested_positive",
          "tested_negative",
          "tested_negative",
          "tested_negative",
          "tested_positive",
          "tested_negative",
          "tested_negative",
          "tested_negative",
          "tested_negative",
          "tested_positive",
          "tested_positive",
          "tested_negative",
          "tested_negative",
          "tested_negative",
          "tested_negative",
          "tested_negative",
          "tested_negative",
          "tested_positive",
          "tested_negative",
          "tested_negative",
          "tested_negative",
          "tested_negative",
          "tested_negative",
          "tested_negative",
          "tested_negative",
          "tested_negative",
          "tested_negative",
          "tested_negative",
          "tested_negative",
          "tested_positive",
          "tested_negative",
          "tested_negative",
          "tested_negative",
          "tested_positive",
          "tested_positive",
          "tested_positive",
          "tested_positive",
          "tested_negative",
          "tested_negative",
          "tested_positive",
          "tested_positive",
          "tested_negative",
          "tested_negative",
          "tested_negative",
          "tested_negative",
          "tested_negative",
          "tested_negative",
          "tested_negative",
          "tested_negative",
          "tested_negative",
          "tested_negative",
          "tested_negative",
          "tested_negative",
          "tested_negative",
          "tested_positive",
          "tested_positive",
          "tested_negative",
          "tested_negative",
          "tested_negative",
          "tested_negative",
          "tested_negative",
          "tested_negative",
          "tested_negative",
          "tested_positive",
          "tested_negative",
          "tested_negative",
          "tested_negative",
          "tested_negative",
          "tested_negative",
          "tested_negative",
          "tested_negative",
          "tested_positive",
          "tested_negative",
          "tested_positive",
          "tested_positive",
          "tested_negative",
          "tested_negative",
          "tested_negative",
          "tested_positive",
          "tested_negative",
          "tested_positive",
          "tested_negative",
          "tested_positive",
          "tested_negative",
          "tested_positive",
          "tested_negative",
          "tested_positive",
          "tested_negative",
          "tested_negative",
          "tested_positive",
          "tested_negative",
          "tested_negative",
          "tested_positive",
          "tested_negative",
          "tested_negative",
          "tested_negative",
          "tested_negative",
          "tested_positive",
          "tested_positive",
          "tested_negative",
          "tested_positive",
          "tested_negative",
          "tested_negative",
          "tested_negative",
          "tested_negative",
          "tested_positive",
          "tested_positive",
          "tested_negative",
          "tested_positive",
          "tested_negative",
          "tested_negative",
          "tested_negative",
          "tested_positive",
          "tested_positive",
          "tested_negative",
          "tested_negative",
          "tested_negative",
          "tested_negative",
          "tested_negative",
          "tested_negative",
          "tested_negative",
          "tested_negative",
          "tested_negative",
          "tested_negative",
          "tested_positive",
          "tested_negative",
          "tested_negative",
          "tested_negative",
          "tested_negative",
          "tested_positive",
          "tested_negative",
          "tested_negative",
          "tested_positive",
          "tested_negative",
          "tested_negative",
          "tested_negative",
          "tested_positive",
          "tested_negative",
          "tested_negative",
          "tested_negative",
          "tested_positive",
          "tested_positive",
          "tested_positive",
          "tested_negative",
          "tested_negative",
          "tested_negative",
          "tested_negative",
          "tested_negative",
          "tested_negative",
          "tested_positive",
          "tested_negative",
          "tested_negative",
          "tested_negative",
          "tested_positive",
          "tested_negative",
          "tested_positive",
          "tested_positive",
          "tested_positive",
          "tested_positive",
          "tested_negative",
          "tested_positive",
          "tested_positive",
          "tested_negative",
          "tested_negative",
          "tested_negative",
          "tested_negative",
          "tested_negative",
          "tested_negative",
          "tested_negative",
          "tested_positive",
          "tested_positive",
          "tested_negative",
          "tested_positive",
          "tested_negative",
          "tested_negative",
          "tested_positive",
          "tested_negative",
          "tested_positive",
          "tested_negative",
          "tested_negative",
          "tested_negative",
          "tested_negative",
          "tested_negative",
          "tested_positive",
          "tested_negative",
          "tested_positive",
          "tested_negative",
          "tested_positive",
          "tested_negative",
          "tested_positive",
          "tested_positive",
          "tested_negative",
          "tested_negative",
          "tested_negative",
          "tested_negative",
          "tested_positive",
          "tested_positive",
          "tested_negative",
          "tested_negative",
          "tested_negative",
          "tested_positive",
          "tested_negative",
          "tested_positive",
          "tested_positive",
          "tested_negative",
          "tested_negative",
          "tested_positive",
          "tested_negative",
          "tested_negative",
          "tested_positive",
          "tested_positive",
          "tested_negative",
          "tested_negative",
          "tested_positive",
          "tested_negative",
          "tested_negative",
          "tested_positive",
          "tested_negative",
          "tested_negative",
          "tested_negative",
          "tested_negative",
          "tested_negative",
          "tested_negative",
          "tested_negative",
          "tested_positive",
          "tested_positive",
          "tested_positive",
          "tested_negative",
          "tested_negative",
          "tested_negative",
          "tested_negative",
          "tested_negative",
          "tested_negative",
          "tested_positive",
          "tested_positive",
          "tested_negative",
          "tested_negative",
          "tested_positive",
          "tested_negative",
          "tested_negative",
          "tested_positive",
          "tested_negative",
          "tested_positive",
          "tested_positive",
          "tested_positive",
          "tested_negative",
          "tested_negative",
          "tested_positive",
          "tested_positive",
          "tested_positive",
          "tested_negative",
          "tested_positive",
          "tested_negative",
          "tested_positive",
          "tested_negative",
          "tested_positive",
          "tested_negative",
          "tested_negative",
          "tested_negative",
          "tested_negative",
          "tested_positive",
          "tested_negative"
         ],
         "y": [
          0,
          0,
          0,
          94,
          168,
          0,
          88,
          0,
          543,
          0,
          0,
          0,
          0,
          846,
          175,
          0,
          230,
          0,
          83,
          96,
          235,
          0,
          0,
          0,
          146,
          115,
          0,
          140,
          110,
          0,
          0,
          245,
          54,
          0,
          0,
          192,
          0,
          0,
          0,
          207,
          70,
          0,
          0,
          240,
          0,
          0,
          0,
          0,
          0,
          0,
          82,
          36,
          23,
          300,
          342,
          0,
          304,
          110,
          0,
          142,
          0,
          0,
          0,
          128,
          0,
          0,
          0,
          0,
          38,
          100,
          90,
          140,
          0,
          270,
          0,
          0,
          0,
          0,
          0,
          0,
          0,
          0,
          71,
          0,
          0,
          125,
          0,
          71,
          110,
          0,
          0,
          176,
          48,
          0,
          64,
          228,
          0,
          76,
          64,
          220,
          0,
          0,
          0,
          40,
          0,
          152,
          0,
          140,
          18,
          36,
          135,
          495,
          37,
          0,
          175,
          0,
          0,
          0,
          0,
          51,
          100,
          0,
          100,
          0,
          0,
          99,
          135,
          94,
          145,
          0,
          168,
          0,
          225,
          0,
          49,
          140,
          50,
          92,
          0,
          325,
          0,
          0,
          63,
          0,
          284,
          0,
          0,
          119,
          0,
          0,
          204,
          0,
          155,
          485,
          0,
          0,
          94,
          135,
          53,
          114,
          0,
          105,
          285,
          0,
          0,
          156,
          0,
          0,
          0,
          78,
          0,
          130,
          0,
          48,
          55,
          130,
          0,
          130,
          0,
          0,
          0,
          92,
          23,
          0,
          0,
          0,
          495,
          58,
          114,
          160,
          0,
          94,
          0,
          0,
          0,
          210,
          0,
          48,
          99,
          318,
          0,
          0,
          0,
          44,
          190,
          0,
          280,
          0,
          87,
          0,
          0,
          0,
          0,
          130,
          175,
          271,
          129,
          120,
          0,
          0,
          478,
          0,
          0,
          190,
          56,
          32,
          0,
          0,
          744,
          53,
          0,
          370,
          37,
          0,
          45,
          0,
          192,
          0,
          0,
          0,
          0,
          88,
          0,
          176,
          194,
          0,
          0,
          680,
          402,
          0,
          0,
          0,
          55,
          0,
          258,
          0,
          0,
          0,
          375,
          150,
          130,
          0,
          0,
          0,
          0,
          67,
          0,
          0,
          0,
          0,
          0,
          56,
          0,
          45,
          0,
          57,
          0,
          116,
          0,
          278,
          0,
          122,
          155,
          0,
          0,
          135,
          545,
          220,
          49,
          75,
          40,
          74,
          182,
          194,
          0,
          120,
          360,
          215,
          184,
          0,
          0,
          135,
          42,
          0,
          0,
          105,
          132,
          148,
          180,
          205,
          0,
          148,
          96,
          85,
          0,
          94,
          64,
          0,
          140,
          0,
          231,
          0,
          0,
          29,
          0,
          168,
          156,
          0,
          120,
          68,
          0,
          52,
          0,
          0,
          58,
          255,
          0,
          0,
          171,
          0,
          105,
          73,
          0,
          0,
          0,
          108,
          83,
          0,
          74,
          0,
          0,
          0,
          0,
          43,
          0,
          0,
          167,
          0,
          54,
          249,
          325,
          0,
          0,
          0,
          293,
          83,
          0,
          0,
          66,
          140,
          465,
          89,
          66,
          94,
          158,
          325,
          84,
          75,
          0,
          72,
          82,
          0,
          182,
          59,
          110,
          50,
          0,
          0,
          285,
          81,
          196,
          0,
          415,
          87,
          0,
          275,
          115,
          0,
          0,
          0,
          0,
          0,
          88,
          0,
          0,
          165,
          0,
          0,
          0,
          579,
          0,
          176,
          310,
          61,
          167,
          474,
          0,
          0,
          0,
          115,
          170,
          76,
          78,
          0,
          210,
          277,
          0,
          180,
          145,
          180,
          0,
          85,
          60,
          0,
          0,
          0,
          0,
          0,
          0,
          0,
          0,
          50,
          120,
          0,
          0,
          14,
          70,
          92,
          64,
          63,
          95,
          0,
          210,
          0,
          105,
          0,
          0,
          71,
          237,
          60,
          56,
          0,
          49,
          0,
          0,
          105,
          36,
          100,
          0,
          140,
          0,
          0,
          0,
          0,
          0,
          0,
          191,
          110,
          75,
          0,
          328,
          0,
          49,
          125,
          0,
          250,
          480,
          265,
          0,
          0,
          66,
          0,
          0,
          122,
          0,
          0,
          0,
          76,
          145,
          193,
          71,
          0,
          0,
          79,
          0,
          0,
          90,
          170,
          76,
          0,
          0,
          210,
          0,
          0,
          86,
          105,
          165,
          0,
          0,
          326,
          66,
          130,
          0,
          0,
          0,
          0,
          82,
          105,
          188,
          0,
          106,
          0,
          65,
          0,
          56,
          0,
          0,
          0,
          210,
          155,
          215,
          190,
          0,
          56,
          76,
          225,
          207,
          166,
          67,
          0,
          0,
          106,
          0,
          44,
          115,
          215,
          0,
          0,
          0,
          0,
          0,
          274,
          77,
          54,
          0,
          88,
          18,
          126,
          126,
          165,
          0,
          0,
          44,
          120,
          330,
          63,
          130,
          0,
          0,
          0,
          0,
          0,
          0,
          0,
          600,
          0,
          0,
          0,
          156,
          0,
          0,
          140,
          0,
          115,
          230,
          185,
          0,
          25,
          0,
          120,
          0,
          0,
          0,
          126,
          0,
          0,
          293,
          41,
          272,
          182,
          158,
          194,
          321,
          0,
          144,
          0,
          0,
          15,
          0,
          0,
          160,
          0,
          0,
          115,
          0,
          54,
          0,
          0,
          0,
          0,
          0,
          90,
          0,
          183,
          0,
          0,
          0,
          66,
          91,
          46,
          105,
          0,
          0,
          0,
          152,
          440,
          144,
          159,
          130,
          0,
          100,
          106,
          77,
          0,
          135,
          540,
          90,
          200,
          0,
          70,
          0,
          0,
          231,
          130,
          0,
          132,
          0,
          0,
          190,
          100,
          168,
          0,
          49,
          240,
          0,
          0,
          0,
          0,
          0,
          265,
          45,
          0,
          105,
          0,
          0,
          205,
          0,
          0,
          180,
          180,
          0,
          0,
          95,
          125,
          0,
          480,
          125,
          0,
          155,
          0,
          200,
          0,
          0,
          0,
          100,
          0,
          0,
          335,
          0,
          160,
          387,
          22,
          0,
          291,
          0,
          392,
          185,
          0,
          178,
          0,
          0,
          200,
          127,
          105,
          0,
          0,
          180,
          0,
          0,
          0,
          79,
          0,
          120,
          165,
          0,
          0,
          120,
          0,
          160,
          0,
          150,
          94,
          116,
          0,
          140,
          105,
          0,
          57,
          200,
          0,
          0,
          74,
          0,
          510,
          0,
          110,
          0,
          0,
          0,
          0,
          16,
          0,
          0,
          180,
          0,
          112,
          0,
          0
         ]
        }
       ],
       "layout": {
        "legend": {
         "bgcolor": "#F5F6F9",
         "font": {
          "color": "#4D5663"
         }
        },
        "paper_bgcolor": "#F5F6F9",
        "plot_bgcolor": "#F5F6F9",
        "template": {
         "data": {
          "bar": [
           {
            "error_x": {
             "color": "#2a3f5f"
            },
            "error_y": {
             "color": "#2a3f5f"
            },
            "marker": {
             "line": {
              "color": "#E5ECF6",
              "width": 0.5
             },
             "pattern": {
              "fillmode": "overlay",
              "size": 10,
              "solidity": 0.2
             }
            },
            "type": "bar"
           }
          ],
          "barpolar": [
           {
            "marker": {
             "line": {
              "color": "#E5ECF6",
              "width": 0.5
             },
             "pattern": {
              "fillmode": "overlay",
              "size": 10,
              "solidity": 0.2
             }
            },
            "type": "barpolar"
           }
          ],
          "carpet": [
           {
            "aaxis": {
             "endlinecolor": "#2a3f5f",
             "gridcolor": "white",
             "linecolor": "white",
             "minorgridcolor": "white",
             "startlinecolor": "#2a3f5f"
            },
            "baxis": {
             "endlinecolor": "#2a3f5f",
             "gridcolor": "white",
             "linecolor": "white",
             "minorgridcolor": "white",
             "startlinecolor": "#2a3f5f"
            },
            "type": "carpet"
           }
          ],
          "choropleth": [
           {
            "colorbar": {
             "outlinewidth": 0,
             "ticks": ""
            },
            "type": "choropleth"
           }
          ],
          "contour": [
           {
            "colorbar": {
             "outlinewidth": 0,
             "ticks": ""
            },
            "colorscale": [
             [
              0,
              "#0d0887"
             ],
             [
              0.1111111111111111,
              "#46039f"
             ],
             [
              0.2222222222222222,
              "#7201a8"
             ],
             [
              0.3333333333333333,
              "#9c179e"
             ],
             [
              0.4444444444444444,
              "#bd3786"
             ],
             [
              0.5555555555555556,
              "#d8576b"
             ],
             [
              0.6666666666666666,
              "#ed7953"
             ],
             [
              0.7777777777777778,
              "#fb9f3a"
             ],
             [
              0.8888888888888888,
              "#fdca26"
             ],
             [
              1,
              "#f0f921"
             ]
            ],
            "type": "contour"
           }
          ],
          "contourcarpet": [
           {
            "colorbar": {
             "outlinewidth": 0,
             "ticks": ""
            },
            "type": "contourcarpet"
           }
          ],
          "heatmap": [
           {
            "colorbar": {
             "outlinewidth": 0,
             "ticks": ""
            },
            "colorscale": [
             [
              0,
              "#0d0887"
             ],
             [
              0.1111111111111111,
              "#46039f"
             ],
             [
              0.2222222222222222,
              "#7201a8"
             ],
             [
              0.3333333333333333,
              "#9c179e"
             ],
             [
              0.4444444444444444,
              "#bd3786"
             ],
             [
              0.5555555555555556,
              "#d8576b"
             ],
             [
              0.6666666666666666,
              "#ed7953"
             ],
             [
              0.7777777777777778,
              "#fb9f3a"
             ],
             [
              0.8888888888888888,
              "#fdca26"
             ],
             [
              1,
              "#f0f921"
             ]
            ],
            "type": "heatmap"
           }
          ],
          "heatmapgl": [
           {
            "colorbar": {
             "outlinewidth": 0,
             "ticks": ""
            },
            "colorscale": [
             [
              0,
              "#0d0887"
             ],
             [
              0.1111111111111111,
              "#46039f"
             ],
             [
              0.2222222222222222,
              "#7201a8"
             ],
             [
              0.3333333333333333,
              "#9c179e"
             ],
             [
              0.4444444444444444,
              "#bd3786"
             ],
             [
              0.5555555555555556,
              "#d8576b"
             ],
             [
              0.6666666666666666,
              "#ed7953"
             ],
             [
              0.7777777777777778,
              "#fb9f3a"
             ],
             [
              0.8888888888888888,
              "#fdca26"
             ],
             [
              1,
              "#f0f921"
             ]
            ],
            "type": "heatmapgl"
           }
          ],
          "histogram": [
           {
            "marker": {
             "pattern": {
              "fillmode": "overlay",
              "size": 10,
              "solidity": 0.2
             }
            },
            "type": "histogram"
           }
          ],
          "histogram2d": [
           {
            "colorbar": {
             "outlinewidth": 0,
             "ticks": ""
            },
            "colorscale": [
             [
              0,
              "#0d0887"
             ],
             [
              0.1111111111111111,
              "#46039f"
             ],
             [
              0.2222222222222222,
              "#7201a8"
             ],
             [
              0.3333333333333333,
              "#9c179e"
             ],
             [
              0.4444444444444444,
              "#bd3786"
             ],
             [
              0.5555555555555556,
              "#d8576b"
             ],
             [
              0.6666666666666666,
              "#ed7953"
             ],
             [
              0.7777777777777778,
              "#fb9f3a"
             ],
             [
              0.8888888888888888,
              "#fdca26"
             ],
             [
              1,
              "#f0f921"
             ]
            ],
            "type": "histogram2d"
           }
          ],
          "histogram2dcontour": [
           {
            "colorbar": {
             "outlinewidth": 0,
             "ticks": ""
            },
            "colorscale": [
             [
              0,
              "#0d0887"
             ],
             [
              0.1111111111111111,
              "#46039f"
             ],
             [
              0.2222222222222222,
              "#7201a8"
             ],
             [
              0.3333333333333333,
              "#9c179e"
             ],
             [
              0.4444444444444444,
              "#bd3786"
             ],
             [
              0.5555555555555556,
              "#d8576b"
             ],
             [
              0.6666666666666666,
              "#ed7953"
             ],
             [
              0.7777777777777778,
              "#fb9f3a"
             ],
             [
              0.8888888888888888,
              "#fdca26"
             ],
             [
              1,
              "#f0f921"
             ]
            ],
            "type": "histogram2dcontour"
           }
          ],
          "mesh3d": [
           {
            "colorbar": {
             "outlinewidth": 0,
             "ticks": ""
            },
            "type": "mesh3d"
           }
          ],
          "parcoords": [
           {
            "line": {
             "colorbar": {
              "outlinewidth": 0,
              "ticks": ""
             }
            },
            "type": "parcoords"
           }
          ],
          "pie": [
           {
            "automargin": true,
            "type": "pie"
           }
          ],
          "scatter": [
           {
            "marker": {
             "colorbar": {
              "outlinewidth": 0,
              "ticks": ""
             }
            },
            "type": "scatter"
           }
          ],
          "scatter3d": [
           {
            "line": {
             "colorbar": {
              "outlinewidth": 0,
              "ticks": ""
             }
            },
            "marker": {
             "colorbar": {
              "outlinewidth": 0,
              "ticks": ""
             }
            },
            "type": "scatter3d"
           }
          ],
          "scattercarpet": [
           {
            "marker": {
             "colorbar": {
              "outlinewidth": 0,
              "ticks": ""
             }
            },
            "type": "scattercarpet"
           }
          ],
          "scattergeo": [
           {
            "marker": {
             "colorbar": {
              "outlinewidth": 0,
              "ticks": ""
             }
            },
            "type": "scattergeo"
           }
          ],
          "scattergl": [
           {
            "marker": {
             "colorbar": {
              "outlinewidth": 0,
              "ticks": ""
             }
            },
            "type": "scattergl"
           }
          ],
          "scattermapbox": [
           {
            "marker": {
             "colorbar": {
              "outlinewidth": 0,
              "ticks": ""
             }
            },
            "type": "scattermapbox"
           }
          ],
          "scatterpolar": [
           {
            "marker": {
             "colorbar": {
              "outlinewidth": 0,
              "ticks": ""
             }
            },
            "type": "scatterpolar"
           }
          ],
          "scatterpolargl": [
           {
            "marker": {
             "colorbar": {
              "outlinewidth": 0,
              "ticks": ""
             }
            },
            "type": "scatterpolargl"
           }
          ],
          "scatterternary": [
           {
            "marker": {
             "colorbar": {
              "outlinewidth": 0,
              "ticks": ""
             }
            },
            "type": "scatterternary"
           }
          ],
          "surface": [
           {
            "colorbar": {
             "outlinewidth": 0,
             "ticks": ""
            },
            "colorscale": [
             [
              0,
              "#0d0887"
             ],
             [
              0.1111111111111111,
              "#46039f"
             ],
             [
              0.2222222222222222,
              "#7201a8"
             ],
             [
              0.3333333333333333,
              "#9c179e"
             ],
             [
              0.4444444444444444,
              "#bd3786"
             ],
             [
              0.5555555555555556,
              "#d8576b"
             ],
             [
              0.6666666666666666,
              "#ed7953"
             ],
             [
              0.7777777777777778,
              "#fb9f3a"
             ],
             [
              0.8888888888888888,
              "#fdca26"
             ],
             [
              1,
              "#f0f921"
             ]
            ],
            "type": "surface"
           }
          ],
          "table": [
           {
            "cells": {
             "fill": {
              "color": "#EBF0F8"
             },
             "line": {
              "color": "white"
             }
            },
            "header": {
             "fill": {
              "color": "#C8D4E3"
             },
             "line": {
              "color": "white"
             }
            },
            "type": "table"
           }
          ]
         },
         "layout": {
          "annotationdefaults": {
           "arrowcolor": "#2a3f5f",
           "arrowhead": 0,
           "arrowwidth": 1
          },
          "autotypenumbers": "strict",
          "coloraxis": {
           "colorbar": {
            "outlinewidth": 0,
            "ticks": ""
           }
          },
          "colorscale": {
           "diverging": [
            [
             0,
             "#8e0152"
            ],
            [
             0.1,
             "#c51b7d"
            ],
            [
             0.2,
             "#de77ae"
            ],
            [
             0.3,
             "#f1b6da"
            ],
            [
             0.4,
             "#fde0ef"
            ],
            [
             0.5,
             "#f7f7f7"
            ],
            [
             0.6,
             "#e6f5d0"
            ],
            [
             0.7,
             "#b8e186"
            ],
            [
             0.8,
             "#7fbc41"
            ],
            [
             0.9,
             "#4d9221"
            ],
            [
             1,
             "#276419"
            ]
           ],
           "sequential": [
            [
             0,
             "#0d0887"
            ],
            [
             0.1111111111111111,
             "#46039f"
            ],
            [
             0.2222222222222222,
             "#7201a8"
            ],
            [
             0.3333333333333333,
             "#9c179e"
            ],
            [
             0.4444444444444444,
             "#bd3786"
            ],
            [
             0.5555555555555556,
             "#d8576b"
            ],
            [
             0.6666666666666666,
             "#ed7953"
            ],
            [
             0.7777777777777778,
             "#fb9f3a"
            ],
            [
             0.8888888888888888,
             "#fdca26"
            ],
            [
             1,
             "#f0f921"
            ]
           ],
           "sequentialminus": [
            [
             0,
             "#0d0887"
            ],
            [
             0.1111111111111111,
             "#46039f"
            ],
            [
             0.2222222222222222,
             "#7201a8"
            ],
            [
             0.3333333333333333,
             "#9c179e"
            ],
            [
             0.4444444444444444,
             "#bd3786"
            ],
            [
             0.5555555555555556,
             "#d8576b"
            ],
            [
             0.6666666666666666,
             "#ed7953"
            ],
            [
             0.7777777777777778,
             "#fb9f3a"
            ],
            [
             0.8888888888888888,
             "#fdca26"
            ],
            [
             1,
             "#f0f921"
            ]
           ]
          },
          "colorway": [
           "#636efa",
           "#EF553B",
           "#00cc96",
           "#ab63fa",
           "#FFA15A",
           "#19d3f3",
           "#FF6692",
           "#B6E880",
           "#FF97FF",
           "#FECB52"
          ],
          "font": {
           "color": "#2a3f5f"
          },
          "geo": {
           "bgcolor": "white",
           "lakecolor": "white",
           "landcolor": "#E5ECF6",
           "showlakes": true,
           "showland": true,
           "subunitcolor": "white"
          },
          "hoverlabel": {
           "align": "left"
          },
          "hovermode": "closest",
          "mapbox": {
           "style": "light"
          },
          "paper_bgcolor": "white",
          "plot_bgcolor": "#E5ECF6",
          "polar": {
           "angularaxis": {
            "gridcolor": "white",
            "linecolor": "white",
            "ticks": ""
           },
           "bgcolor": "#E5ECF6",
           "radialaxis": {
            "gridcolor": "white",
            "linecolor": "white",
            "ticks": ""
           }
          },
          "scene": {
           "xaxis": {
            "backgroundcolor": "#E5ECF6",
            "gridcolor": "white",
            "gridwidth": 2,
            "linecolor": "white",
            "showbackground": true,
            "ticks": "",
            "zerolinecolor": "white"
           },
           "yaxis": {
            "backgroundcolor": "#E5ECF6",
            "gridcolor": "white",
            "gridwidth": 2,
            "linecolor": "white",
            "showbackground": true,
            "ticks": "",
            "zerolinecolor": "white"
           },
           "zaxis": {
            "backgroundcolor": "#E5ECF6",
            "gridcolor": "white",
            "gridwidth": 2,
            "linecolor": "white",
            "showbackground": true,
            "ticks": "",
            "zerolinecolor": "white"
           }
          },
          "shapedefaults": {
           "line": {
            "color": "#2a3f5f"
           }
          },
          "ternary": {
           "aaxis": {
            "gridcolor": "white",
            "linecolor": "white",
            "ticks": ""
           },
           "baxis": {
            "gridcolor": "white",
            "linecolor": "white",
            "ticks": ""
           },
           "bgcolor": "#E5ECF6",
           "caxis": {
            "gridcolor": "white",
            "linecolor": "white",
            "ticks": ""
           }
          },
          "title": {
           "x": 0.05
          },
          "xaxis": {
           "automargin": true,
           "gridcolor": "white",
           "linecolor": "white",
           "ticks": "",
           "title": {
            "standoff": 15
           },
           "zerolinecolor": "white",
           "zerolinewidth": 2
          },
          "yaxis": {
           "automargin": true,
           "gridcolor": "white",
           "linecolor": "white",
           "ticks": "",
           "title": {
            "standoff": 15
           },
           "zerolinecolor": "white",
           "zerolinewidth": 2
          }
         }
        },
        "title": {
         "font": {
          "color": "#4D5663"
         }
        },
        "xaxis": {
         "gridcolor": "#E1E5ED",
         "showgrid": true,
         "tickfont": {
          "color": "#4D5663"
         },
         "title": {
          "font": {
           "color": "#4D5663"
          },
          "text": ""
         },
         "zerolinecolor": "#E1E5ED"
        },
        "yaxis": {
         "gridcolor": "#E1E5ED",
         "showgrid": true,
         "tickfont": {
          "color": "#4D5663"
         },
         "title": {
          "font": {
           "color": "#4D5663"
          },
          "text": ""
         },
         "zerolinecolor": "#E1E5ED"
        }
       }
      },
      "text/html": [
       "<div>                            <div id=\"83ae2cf6-68a2-40c8-ba50-eb5f50b6c799\" class=\"plotly-graph-div\" style=\"height:525px; width:100%;\"></div>            <script type=\"text/javascript\">                require([\"plotly\"], function(Plotly) {                    window.PLOTLYENV=window.PLOTLYENV || {};\n",
       "                    window.PLOTLYENV.BASE_URL='https://plot.ly';                                    if (document.getElementById(\"83ae2cf6-68a2-40c8-ba50-eb5f50b6c799\")) {                    Plotly.newPlot(                        \"83ae2cf6-68a2-40c8-ba50-eb5f50b6c799\",                        [{\"marker\":{\"color\":\"rgba(255, 153, 51, 0.6)\",\"line\":{\"color\":\"rgba(255, 153, 51, 1.0)\",\"width\":1}},\"name\":\"insu\",\"orientation\":\"v\",\"text\":\"\",\"x\":[\"tested_positive\",\"tested_negative\",\"tested_positive\",\"tested_negative\",\"tested_positive\",\"tested_negative\",\"tested_positive\",\"tested_negative\",\"tested_positive\",\"tested_positive\",\"tested_negative\",\"tested_positive\",\"tested_negative\",\"tested_positive\",\"tested_positive\",\"tested_positive\",\"tested_positive\",\"tested_positive\",\"tested_negative\",\"tested_positive\",\"tested_negative\",\"tested_negative\",\"tested_positive\",\"tested_positive\",\"tested_positive\",\"tested_positive\",\"tested_positive\",\"tested_negative\",\"tested_negative\",\"tested_negative\",\"tested_negative\",\"tested_positive\",\"tested_negative\",\"tested_negative\",\"tested_negative\",\"tested_negative\",\"tested_negative\",\"tested_positive\",\"tested_positive\",\"tested_positive\",\"tested_negative\",\"tested_negative\",\"tested_negative\",\"tested_positive\",\"tested_negative\",\"tested_positive\",\"tested_negative\",\"tested_negative\",\"tested_positive\",\"tested_negative\",\"tested_negative\",\"tested_negative\",\"tested_negative\",\"tested_positive\",\"tested_negative\",\"tested_negative\",\"tested_positive\",\"tested_negative\",\"tested_negative\",\"tested_negative\",\"tested_negative\",\"tested_positive\",\"tested_negative\",\"tested_negative\",\"tested_positive\",\"tested_negative\",\"tested_positive\",\"tested_negative\",\"tested_negative\",\"tested_negative\",\"tested_positive\",\"tested_negative\",\"tested_positive\",\"tested_negative\",\"tested_negative\",\"tested_negative\",\"tested_negative\",\"tested_negative\",\"tested_positive\",\"tested_negative\",\"tested_negative\",\"tested_negative\",\"tested_negative\",\"tested_negative\",\"tested_positive\",\"tested_negative\",\"tested_negative\",\"tested_negative\",\"tested_positive\",\"tested_negative\",\"tested_negative\",\"tested_negative\",\"tested_negative\",\"tested_positive\",\"tested_negative\",\"tested_negative\",\"tested_negative\",\"tested_negative\",\"tested_negative\",\"tested_positive\",\"tested_positive\",\"tested_negative\",\"tested_negative\",\"tested_negative\",\"tested_negative\",\"tested_negative\",\"tested_negative\",\"tested_negative\",\"tested_negative\",\"tested_positive\",\"tested_positive\",\"tested_positive\",\"tested_negative\",\"tested_negative\",\"tested_positive\",\"tested_positive\",\"tested_positive\",\"tested_negative\",\"tested_negative\",\"tested_negative\",\"tested_positive\",\"tested_negative\",\"tested_negative\",\"tested_negative\",\"tested_positive\",\"tested_positive\",\"tested_negative\",\"tested_negative\",\"tested_positive\",\"tested_positive\",\"tested_positive\",\"tested_positive\",\"tested_positive\",\"tested_negative\",\"tested_negative\",\"tested_negative\",\"tested_negative\",\"tested_negative\",\"tested_negative\",\"tested_negative\",\"tested_negative\",\"tested_negative\",\"tested_negative\",\"tested_positive\",\"tested_negative\",\"tested_negative\",\"tested_negative\",\"tested_negative\",\"tested_negative\",\"tested_negative\",\"tested_negative\",\"tested_negative\",\"tested_positive\",\"tested_negative\",\"tested_positive\",\"tested_positive\",\"tested_negative\",\"tested_negative\",\"tested_negative\",\"tested_positive\",\"tested_negative\",\"tested_negative\",\"tested_negative\",\"tested_negative\",\"tested_positive\",\"tested_positive\",\"tested_negative\",\"tested_negative\",\"tested_negative\",\"tested_negative\",\"tested_positive\",\"tested_positive\",\"tested_negative\",\"tested_negative\",\"tested_negative\",\"tested_positive\",\"tested_negative\",\"tested_positive\",\"tested_negative\",\"tested_positive\",\"tested_negative\",\"tested_negative\",\"tested_negative\",\"tested_negative\",\"tested_negative\",\"tested_positive\",\"tested_positive\",\"tested_positive\",\"tested_positive\",\"tested_positive\",\"tested_negative\",\"tested_negative\",\"tested_positive\",\"tested_positive\",\"tested_negative\",\"tested_positive\",\"tested_negative\",\"tested_positive\",\"tested_positive\",\"tested_positive\",\"tested_negative\",\"tested_negative\",\"tested_negative\",\"tested_negative\",\"tested_negative\",\"tested_negative\",\"tested_positive\",\"tested_positive\",\"tested_negative\",\"tested_positive\",\"tested_negative\",\"tested_negative\",\"tested_negative\",\"tested_positive\",\"tested_positive\",\"tested_positive\",\"tested_positive\",\"tested_negative\",\"tested_positive\",\"tested_positive\",\"tested_positive\",\"tested_positive\",\"tested_negative\",\"tested_negative\",\"tested_negative\",\"tested_negative\",\"tested_negative\",\"tested_positive\",\"tested_negative\",\"tested_negative\",\"tested_positive\",\"tested_positive\",\"tested_negative\",\"tested_negative\",\"tested_negative\",\"tested_positive\",\"tested_positive\",\"tested_positive\",\"tested_positive\",\"tested_negative\",\"tested_negative\",\"tested_negative\",\"tested_positive\",\"tested_positive\",\"tested_negative\",\"tested_positive\",\"tested_negative\",\"tested_negative\",\"tested_negative\",\"tested_negative\",\"tested_negative\",\"tested_negative\",\"tested_negative\",\"tested_negative\",\"tested_positive\",\"tested_positive\",\"tested_negative\",\"tested_negative\",\"tested_negative\",\"tested_positive\",\"tested_negative\",\"tested_positive\",\"tested_negative\",\"tested_negative\",\"tested_positive\",\"tested_negative\",\"tested_positive\",\"tested_negative\",\"tested_negative\",\"tested_positive\",\"tested_positive\",\"tested_negative\",\"tested_negative\",\"tested_negative\",\"tested_negative\",\"tested_negative\",\"tested_positive\",\"tested_negative\",\"tested_negative\",\"tested_negative\",\"tested_positive\",\"tested_negative\",\"tested_negative\",\"tested_positive\",\"tested_positive\",\"tested_negative\",\"tested_negative\",\"tested_positive\",\"tested_negative\",\"tested_negative\",\"tested_negative\",\"tested_positive\",\"tested_positive\",\"tested_positive\",\"tested_negative\",\"tested_negative\",\"tested_positive\",\"tested_negative\",\"tested_positive\",\"tested_negative\",\"tested_positive\",\"tested_positive\",\"tested_negative\",\"tested_positive\",\"tested_negative\",\"tested_negative\",\"tested_positive\",\"tested_negative\",\"tested_positive\",\"tested_positive\",\"tested_negative\",\"tested_negative\",\"tested_positive\",\"tested_negative\",\"tested_positive\",\"tested_negative\",\"tested_negative\",\"tested_positive\",\"tested_negative\",\"tested_positive\",\"tested_negative\",\"tested_positive\",\"tested_positive\",\"tested_positive\",\"tested_negative\",\"tested_negative\",\"tested_positive\",\"tested_negative\",\"tested_positive\",\"tested_negative\",\"tested_negative\",\"tested_negative\",\"tested_positive\",\"tested_negative\",\"tested_negative\",\"tested_negative\",\"tested_negative\",\"tested_positive\",\"tested_positive\",\"tested_positive\",\"tested_negative\",\"tested_negative\",\"tested_negative\",\"tested_negative\",\"tested_negative\",\"tested_negative\",\"tested_negative\",\"tested_negative\",\"tested_negative\",\"tested_positive\",\"tested_negative\",\"tested_negative\",\"tested_negative\",\"tested_negative\",\"tested_negative\",\"tested_positive\",\"tested_positive\",\"tested_positive\",\"tested_negative\",\"tested_positive\",\"tested_positive\",\"tested_negative\",\"tested_negative\",\"tested_positive\",\"tested_negative\",\"tested_negative\",\"tested_positive\",\"tested_negative\",\"tested_negative\",\"tested_positive\",\"tested_positive\",\"tested_negative\",\"tested_negative\",\"tested_negative\",\"tested_negative\",\"tested_positive\",\"tested_negative\",\"tested_negative\",\"tested_positive\",\"tested_negative\",\"tested_negative\",\"tested_negative\",\"tested_negative\",\"tested_negative\",\"tested_negative\",\"tested_negative\",\"tested_positive\",\"tested_positive\",\"tested_positive\",\"tested_negative\",\"tested_negative\",\"tested_positive\",\"tested_negative\",\"tested_negative\",\"tested_positive\",\"tested_negative\",\"tested_negative\",\"tested_positive\",\"tested_negative\",\"tested_positive\",\"tested_positive\",\"tested_negative\",\"tested_positive\",\"tested_negative\",\"tested_positive\",\"tested_negative\",\"tested_positive\",\"tested_negative\",\"tested_positive\",\"tested_positive\",\"tested_negative\",\"tested_negative\",\"tested_negative\",\"tested_negative\",\"tested_positive\",\"tested_positive\",\"tested_negative\",\"tested_positive\",\"tested_negative\",\"tested_positive\",\"tested_negative\",\"tested_negative\",\"tested_negative\",\"tested_negative\",\"tested_positive\",\"tested_positive\",\"tested_negative\",\"tested_positive\",\"tested_negative\",\"tested_positive\",\"tested_negative\",\"tested_negative\",\"tested_negative\",\"tested_negative\",\"tested_negative\",\"tested_positive\",\"tested_negative\",\"tested_negative\",\"tested_negative\",\"tested_negative\",\"tested_positive\",\"tested_negative\",\"tested_negative\",\"tested_positive\",\"tested_positive\",\"tested_positive\",\"tested_negative\",\"tested_negative\",\"tested_positive\",\"tested_negative\",\"tested_negative\",\"tested_positive\",\"tested_negative\",\"tested_negative\",\"tested_negative\",\"tested_positive\",\"tested_negative\",\"tested_negative\",\"tested_positive\",\"tested_negative\",\"tested_negative\",\"tested_negative\",\"tested_negative\",\"tested_negative\",\"tested_negative\",\"tested_negative\",\"tested_negative\",\"tested_negative\",\"tested_positive\",\"tested_negative\",\"tested_negative\",\"tested_negative\",\"tested_negative\",\"tested_negative\",\"tested_negative\",\"tested_negative\",\"tested_positive\",\"tested_negative\",\"tested_negative\",\"tested_negative\",\"tested_positive\",\"tested_negative\",\"tested_negative\",\"tested_negative\",\"tested_positive\",\"tested_positive\",\"tested_negative\",\"tested_negative\",\"tested_negative\",\"tested_negative\",\"tested_negative\",\"tested_negative\",\"tested_negative\",\"tested_positive\",\"tested_negative\",\"tested_negative\",\"tested_negative\",\"tested_negative\",\"tested_positive\",\"tested_negative\",\"tested_negative\",\"tested_negative\",\"tested_positive\",\"tested_negative\",\"tested_negative\",\"tested_negative\",\"tested_positive\",\"tested_negative\",\"tested_negative\",\"tested_negative\",\"tested_positive\",\"tested_negative\",\"tested_negative\",\"tested_negative\",\"tested_negative\",\"tested_positive\",\"tested_positive\",\"tested_negative\",\"tested_negative\",\"tested_negative\",\"tested_negative\",\"tested_negative\",\"tested_negative\",\"tested_positive\",\"tested_negative\",\"tested_negative\",\"tested_negative\",\"tested_negative\",\"tested_negative\",\"tested_negative\",\"tested_negative\",\"tested_negative\",\"tested_negative\",\"tested_negative\",\"tested_negative\",\"tested_positive\",\"tested_negative\",\"tested_negative\",\"tested_negative\",\"tested_positive\",\"tested_positive\",\"tested_positive\",\"tested_positive\",\"tested_negative\",\"tested_negative\",\"tested_positive\",\"tested_positive\",\"tested_negative\",\"tested_negative\",\"tested_negative\",\"tested_negative\",\"tested_negative\",\"tested_negative\",\"tested_negative\",\"tested_negative\",\"tested_negative\",\"tested_negative\",\"tested_negative\",\"tested_negative\",\"tested_negative\",\"tested_positive\",\"tested_positive\",\"tested_negative\",\"tested_negative\",\"tested_negative\",\"tested_negative\",\"tested_negative\",\"tested_negative\",\"tested_negative\",\"tested_positive\",\"tested_negative\",\"tested_negative\",\"tested_negative\",\"tested_negative\",\"tested_negative\",\"tested_negative\",\"tested_negative\",\"tested_positive\",\"tested_negative\",\"tested_positive\",\"tested_positive\",\"tested_negative\",\"tested_negative\",\"tested_negative\",\"tested_positive\",\"tested_negative\",\"tested_positive\",\"tested_negative\",\"tested_positive\",\"tested_negative\",\"tested_positive\",\"tested_negative\",\"tested_positive\",\"tested_negative\",\"tested_negative\",\"tested_positive\",\"tested_negative\",\"tested_negative\",\"tested_positive\",\"tested_negative\",\"tested_negative\",\"tested_negative\",\"tested_negative\",\"tested_positive\",\"tested_positive\",\"tested_negative\",\"tested_positive\",\"tested_negative\",\"tested_negative\",\"tested_negative\",\"tested_negative\",\"tested_positive\",\"tested_positive\",\"tested_negative\",\"tested_positive\",\"tested_negative\",\"tested_negative\",\"tested_negative\",\"tested_positive\",\"tested_positive\",\"tested_negative\",\"tested_negative\",\"tested_negative\",\"tested_negative\",\"tested_negative\",\"tested_negative\",\"tested_negative\",\"tested_negative\",\"tested_negative\",\"tested_negative\",\"tested_positive\",\"tested_negative\",\"tested_negative\",\"tested_negative\",\"tested_negative\",\"tested_positive\",\"tested_negative\",\"tested_negative\",\"tested_positive\",\"tested_negative\",\"tested_negative\",\"tested_negative\",\"tested_positive\",\"tested_negative\",\"tested_negative\",\"tested_negative\",\"tested_positive\",\"tested_positive\",\"tested_positive\",\"tested_negative\",\"tested_negative\",\"tested_negative\",\"tested_negative\",\"tested_negative\",\"tested_negative\",\"tested_positive\",\"tested_negative\",\"tested_negative\",\"tested_negative\",\"tested_positive\",\"tested_negative\",\"tested_positive\",\"tested_positive\",\"tested_positive\",\"tested_positive\",\"tested_negative\",\"tested_positive\",\"tested_positive\",\"tested_negative\",\"tested_negative\",\"tested_negative\",\"tested_negative\",\"tested_negative\",\"tested_negative\",\"tested_negative\",\"tested_positive\",\"tested_positive\",\"tested_negative\",\"tested_positive\",\"tested_negative\",\"tested_negative\",\"tested_positive\",\"tested_negative\",\"tested_positive\",\"tested_negative\",\"tested_negative\",\"tested_negative\",\"tested_negative\",\"tested_negative\",\"tested_positive\",\"tested_negative\",\"tested_positive\",\"tested_negative\",\"tested_positive\",\"tested_negative\",\"tested_positive\",\"tested_positive\",\"tested_negative\",\"tested_negative\",\"tested_negative\",\"tested_negative\",\"tested_positive\",\"tested_positive\",\"tested_negative\",\"tested_negative\",\"tested_negative\",\"tested_positive\",\"tested_negative\",\"tested_positive\",\"tested_positive\",\"tested_negative\",\"tested_negative\",\"tested_positive\",\"tested_negative\",\"tested_negative\",\"tested_positive\",\"tested_positive\",\"tested_negative\",\"tested_negative\",\"tested_positive\",\"tested_negative\",\"tested_negative\",\"tested_positive\",\"tested_negative\",\"tested_negative\",\"tested_negative\",\"tested_negative\",\"tested_negative\",\"tested_negative\",\"tested_negative\",\"tested_positive\",\"tested_positive\",\"tested_positive\",\"tested_negative\",\"tested_negative\",\"tested_negative\",\"tested_negative\",\"tested_negative\",\"tested_negative\",\"tested_positive\",\"tested_positive\",\"tested_negative\",\"tested_negative\",\"tested_positive\",\"tested_negative\",\"tested_negative\",\"tested_positive\",\"tested_negative\",\"tested_positive\",\"tested_positive\",\"tested_positive\",\"tested_negative\",\"tested_negative\",\"tested_positive\",\"tested_positive\",\"tested_positive\",\"tested_negative\",\"tested_positive\",\"tested_negative\",\"tested_positive\",\"tested_negative\",\"tested_positive\",\"tested_negative\",\"tested_negative\",\"tested_negative\",\"tested_negative\",\"tested_positive\",\"tested_negative\"],\"y\":[0,0,0,94,168,0,88,0,543,0,0,0,0,846,175,0,230,0,83,96,235,0,0,0,146,115,0,140,110,0,0,245,54,0,0,192,0,0,0,207,70,0,0,240,0,0,0,0,0,0,82,36,23,300,342,0,304,110,0,142,0,0,0,128,0,0,0,0,38,100,90,140,0,270,0,0,0,0,0,0,0,0,71,0,0,125,0,71,110,0,0,176,48,0,64,228,0,76,64,220,0,0,0,40,0,152,0,140,18,36,135,495,37,0,175,0,0,0,0,51,100,0,100,0,0,99,135,94,145,0,168,0,225,0,49,140,50,92,0,325,0,0,63,0,284,0,0,119,0,0,204,0,155,485,0,0,94,135,53,114,0,105,285,0,0,156,0,0,0,78,0,130,0,48,55,130,0,130,0,0,0,92,23,0,0,0,495,58,114,160,0,94,0,0,0,210,0,48,99,318,0,0,0,44,190,0,280,0,87,0,0,0,0,130,175,271,129,120,0,0,478,0,0,190,56,32,0,0,744,53,0,370,37,0,45,0,192,0,0,0,0,88,0,176,194,0,0,680,402,0,0,0,55,0,258,0,0,0,375,150,130,0,0,0,0,67,0,0,0,0,0,56,0,45,0,57,0,116,0,278,0,122,155,0,0,135,545,220,49,75,40,74,182,194,0,120,360,215,184,0,0,135,42,0,0,105,132,148,180,205,0,148,96,85,0,94,64,0,140,0,231,0,0,29,0,168,156,0,120,68,0,52,0,0,58,255,0,0,171,0,105,73,0,0,0,108,83,0,74,0,0,0,0,43,0,0,167,0,54,249,325,0,0,0,293,83,0,0,66,140,465,89,66,94,158,325,84,75,0,72,82,0,182,59,110,50,0,0,285,81,196,0,415,87,0,275,115,0,0,0,0,0,88,0,0,165,0,0,0,579,0,176,310,61,167,474,0,0,0,115,170,76,78,0,210,277,0,180,145,180,0,85,60,0,0,0,0,0,0,0,0,50,120,0,0,14,70,92,64,63,95,0,210,0,105,0,0,71,237,60,56,0,49,0,0,105,36,100,0,140,0,0,0,0,0,0,191,110,75,0,328,0,49,125,0,250,480,265,0,0,66,0,0,122,0,0,0,76,145,193,71,0,0,79,0,0,90,170,76,0,0,210,0,0,86,105,165,0,0,326,66,130,0,0,0,0,82,105,188,0,106,0,65,0,56,0,0,0,210,155,215,190,0,56,76,225,207,166,67,0,0,106,0,44,115,215,0,0,0,0,0,274,77,54,0,88,18,126,126,165,0,0,44,120,330,63,130,0,0,0,0,0,0,0,600,0,0,0,156,0,0,140,0,115,230,185,0,25,0,120,0,0,0,126,0,0,293,41,272,182,158,194,321,0,144,0,0,15,0,0,160,0,0,115,0,54,0,0,0,0,0,90,0,183,0,0,0,66,91,46,105,0,0,0,152,440,144,159,130,0,100,106,77,0,135,540,90,200,0,70,0,0,231,130,0,132,0,0,190,100,168,0,49,240,0,0,0,0,0,265,45,0,105,0,0,205,0,0,180,180,0,0,95,125,0,480,125,0,155,0,200,0,0,0,100,0,0,335,0,160,387,22,0,291,0,392,185,0,178,0,0,200,127,105,0,0,180,0,0,0,79,0,120,165,0,0,120,0,160,0,150,94,116,0,140,105,0,57,200,0,0,74,0,510,0,110,0,0,0,0,16,0,0,180,0,112,0,0],\"type\":\"bar\"}],                        {\"legend\":{\"bgcolor\":\"#F5F6F9\",\"font\":{\"color\":\"#4D5663\"}},\"paper_bgcolor\":\"#F5F6F9\",\"plot_bgcolor\":\"#F5F6F9\",\"template\":{\"data\":{\"barpolar\":[{\"marker\":{\"line\":{\"color\":\"#E5ECF6\",\"width\":0.5},\"pattern\":{\"fillmode\":\"overlay\",\"size\":10,\"solidity\":0.2}},\"type\":\"barpolar\"}],\"bar\":[{\"error_x\":{\"color\":\"#2a3f5f\"},\"error_y\":{\"color\":\"#2a3f5f\"},\"marker\":{\"line\":{\"color\":\"#E5ECF6\",\"width\":0.5},\"pattern\":{\"fillmode\":\"overlay\",\"size\":10,\"solidity\":0.2}},\"type\":\"bar\"}],\"carpet\":[{\"aaxis\":{\"endlinecolor\":\"#2a3f5f\",\"gridcolor\":\"white\",\"linecolor\":\"white\",\"minorgridcolor\":\"white\",\"startlinecolor\":\"#2a3f5f\"},\"baxis\":{\"endlinecolor\":\"#2a3f5f\",\"gridcolor\":\"white\",\"linecolor\":\"white\",\"minorgridcolor\":\"white\",\"startlinecolor\":\"#2a3f5f\"},\"type\":\"carpet\"}],\"choropleth\":[{\"colorbar\":{\"outlinewidth\":0,\"ticks\":\"\"},\"type\":\"choropleth\"}],\"contourcarpet\":[{\"colorbar\":{\"outlinewidth\":0,\"ticks\":\"\"},\"type\":\"contourcarpet\"}],\"contour\":[{\"colorbar\":{\"outlinewidth\":0,\"ticks\":\"\"},\"colorscale\":[[0.0,\"#0d0887\"],[0.1111111111111111,\"#46039f\"],[0.2222222222222222,\"#7201a8\"],[0.3333333333333333,\"#9c179e\"],[0.4444444444444444,\"#bd3786\"],[0.5555555555555556,\"#d8576b\"],[0.6666666666666666,\"#ed7953\"],[0.7777777777777778,\"#fb9f3a\"],[0.8888888888888888,\"#fdca26\"],[1.0,\"#f0f921\"]],\"type\":\"contour\"}],\"heatmapgl\":[{\"colorbar\":{\"outlinewidth\":0,\"ticks\":\"\"},\"colorscale\":[[0.0,\"#0d0887\"],[0.1111111111111111,\"#46039f\"],[0.2222222222222222,\"#7201a8\"],[0.3333333333333333,\"#9c179e\"],[0.4444444444444444,\"#bd3786\"],[0.5555555555555556,\"#d8576b\"],[0.6666666666666666,\"#ed7953\"],[0.7777777777777778,\"#fb9f3a\"],[0.8888888888888888,\"#fdca26\"],[1.0,\"#f0f921\"]],\"type\":\"heatmapgl\"}],\"heatmap\":[{\"colorbar\":{\"outlinewidth\":0,\"ticks\":\"\"},\"colorscale\":[[0.0,\"#0d0887\"],[0.1111111111111111,\"#46039f\"],[0.2222222222222222,\"#7201a8\"],[0.3333333333333333,\"#9c179e\"],[0.4444444444444444,\"#bd3786\"],[0.5555555555555556,\"#d8576b\"],[0.6666666666666666,\"#ed7953\"],[0.7777777777777778,\"#fb9f3a\"],[0.8888888888888888,\"#fdca26\"],[1.0,\"#f0f921\"]],\"type\":\"heatmap\"}],\"histogram2dcontour\":[{\"colorbar\":{\"outlinewidth\":0,\"ticks\":\"\"},\"colorscale\":[[0.0,\"#0d0887\"],[0.1111111111111111,\"#46039f\"],[0.2222222222222222,\"#7201a8\"],[0.3333333333333333,\"#9c179e\"],[0.4444444444444444,\"#bd3786\"],[0.5555555555555556,\"#d8576b\"],[0.6666666666666666,\"#ed7953\"],[0.7777777777777778,\"#fb9f3a\"],[0.8888888888888888,\"#fdca26\"],[1.0,\"#f0f921\"]],\"type\":\"histogram2dcontour\"}],\"histogram2d\":[{\"colorbar\":{\"outlinewidth\":0,\"ticks\":\"\"},\"colorscale\":[[0.0,\"#0d0887\"],[0.1111111111111111,\"#46039f\"],[0.2222222222222222,\"#7201a8\"],[0.3333333333333333,\"#9c179e\"],[0.4444444444444444,\"#bd3786\"],[0.5555555555555556,\"#d8576b\"],[0.6666666666666666,\"#ed7953\"],[0.7777777777777778,\"#fb9f3a\"],[0.8888888888888888,\"#fdca26\"],[1.0,\"#f0f921\"]],\"type\":\"histogram2d\"}],\"histogram\":[{\"marker\":{\"pattern\":{\"fillmode\":\"overlay\",\"size\":10,\"solidity\":0.2}},\"type\":\"histogram\"}],\"mesh3d\":[{\"colorbar\":{\"outlinewidth\":0,\"ticks\":\"\"},\"type\":\"mesh3d\"}],\"parcoords\":[{\"line\":{\"colorbar\":{\"outlinewidth\":0,\"ticks\":\"\"}},\"type\":\"parcoords\"}],\"pie\":[{\"automargin\":true,\"type\":\"pie\"}],\"scatter3d\":[{\"line\":{\"colorbar\":{\"outlinewidth\":0,\"ticks\":\"\"}},\"marker\":{\"colorbar\":{\"outlinewidth\":0,\"ticks\":\"\"}},\"type\":\"scatter3d\"}],\"scattercarpet\":[{\"marker\":{\"colorbar\":{\"outlinewidth\":0,\"ticks\":\"\"}},\"type\":\"scattercarpet\"}],\"scattergeo\":[{\"marker\":{\"colorbar\":{\"outlinewidth\":0,\"ticks\":\"\"}},\"type\":\"scattergeo\"}],\"scattergl\":[{\"marker\":{\"colorbar\":{\"outlinewidth\":0,\"ticks\":\"\"}},\"type\":\"scattergl\"}],\"scattermapbox\":[{\"marker\":{\"colorbar\":{\"outlinewidth\":0,\"ticks\":\"\"}},\"type\":\"scattermapbox\"}],\"scatterpolargl\":[{\"marker\":{\"colorbar\":{\"outlinewidth\":0,\"ticks\":\"\"}},\"type\":\"scatterpolargl\"}],\"scatterpolar\":[{\"marker\":{\"colorbar\":{\"outlinewidth\":0,\"ticks\":\"\"}},\"type\":\"scatterpolar\"}],\"scatter\":[{\"marker\":{\"colorbar\":{\"outlinewidth\":0,\"ticks\":\"\"}},\"type\":\"scatter\"}],\"scatterternary\":[{\"marker\":{\"colorbar\":{\"outlinewidth\":0,\"ticks\":\"\"}},\"type\":\"scatterternary\"}],\"surface\":[{\"colorbar\":{\"outlinewidth\":0,\"ticks\":\"\"},\"colorscale\":[[0.0,\"#0d0887\"],[0.1111111111111111,\"#46039f\"],[0.2222222222222222,\"#7201a8\"],[0.3333333333333333,\"#9c179e\"],[0.4444444444444444,\"#bd3786\"],[0.5555555555555556,\"#d8576b\"],[0.6666666666666666,\"#ed7953\"],[0.7777777777777778,\"#fb9f3a\"],[0.8888888888888888,\"#fdca26\"],[1.0,\"#f0f921\"]],\"type\":\"surface\"}],\"table\":[{\"cells\":{\"fill\":{\"color\":\"#EBF0F8\"},\"line\":{\"color\":\"white\"}},\"header\":{\"fill\":{\"color\":\"#C8D4E3\"},\"line\":{\"color\":\"white\"}},\"type\":\"table\"}]},\"layout\":{\"annotationdefaults\":{\"arrowcolor\":\"#2a3f5f\",\"arrowhead\":0,\"arrowwidth\":1},\"autotypenumbers\":\"strict\",\"coloraxis\":{\"colorbar\":{\"outlinewidth\":0,\"ticks\":\"\"}},\"colorscale\":{\"diverging\":[[0,\"#8e0152\"],[0.1,\"#c51b7d\"],[0.2,\"#de77ae\"],[0.3,\"#f1b6da\"],[0.4,\"#fde0ef\"],[0.5,\"#f7f7f7\"],[0.6,\"#e6f5d0\"],[0.7,\"#b8e186\"],[0.8,\"#7fbc41\"],[0.9,\"#4d9221\"],[1,\"#276419\"]],\"sequential\":[[0.0,\"#0d0887\"],[0.1111111111111111,\"#46039f\"],[0.2222222222222222,\"#7201a8\"],[0.3333333333333333,\"#9c179e\"],[0.4444444444444444,\"#bd3786\"],[0.5555555555555556,\"#d8576b\"],[0.6666666666666666,\"#ed7953\"],[0.7777777777777778,\"#fb9f3a\"],[0.8888888888888888,\"#fdca26\"],[1.0,\"#f0f921\"]],\"sequentialminus\":[[0.0,\"#0d0887\"],[0.1111111111111111,\"#46039f\"],[0.2222222222222222,\"#7201a8\"],[0.3333333333333333,\"#9c179e\"],[0.4444444444444444,\"#bd3786\"],[0.5555555555555556,\"#d8576b\"],[0.6666666666666666,\"#ed7953\"],[0.7777777777777778,\"#fb9f3a\"],[0.8888888888888888,\"#fdca26\"],[1.0,\"#f0f921\"]]},\"colorway\":[\"#636efa\",\"#EF553B\",\"#00cc96\",\"#ab63fa\",\"#FFA15A\",\"#19d3f3\",\"#FF6692\",\"#B6E880\",\"#FF97FF\",\"#FECB52\"],\"font\":{\"color\":\"#2a3f5f\"},\"geo\":{\"bgcolor\":\"white\",\"lakecolor\":\"white\",\"landcolor\":\"#E5ECF6\",\"showlakes\":true,\"showland\":true,\"subunitcolor\":\"white\"},\"hoverlabel\":{\"align\":\"left\"},\"hovermode\":\"closest\",\"mapbox\":{\"style\":\"light\"},\"paper_bgcolor\":\"white\",\"plot_bgcolor\":\"#E5ECF6\",\"polar\":{\"angularaxis\":{\"gridcolor\":\"white\",\"linecolor\":\"white\",\"ticks\":\"\"},\"bgcolor\":\"#E5ECF6\",\"radialaxis\":{\"gridcolor\":\"white\",\"linecolor\":\"white\",\"ticks\":\"\"}},\"scene\":{\"xaxis\":{\"backgroundcolor\":\"#E5ECF6\",\"gridcolor\":\"white\",\"gridwidth\":2,\"linecolor\":\"white\",\"showbackground\":true,\"ticks\":\"\",\"zerolinecolor\":\"white\"},\"yaxis\":{\"backgroundcolor\":\"#E5ECF6\",\"gridcolor\":\"white\",\"gridwidth\":2,\"linecolor\":\"white\",\"showbackground\":true,\"ticks\":\"\",\"zerolinecolor\":\"white\"},\"zaxis\":{\"backgroundcolor\":\"#E5ECF6\",\"gridcolor\":\"white\",\"gridwidth\":2,\"linecolor\":\"white\",\"showbackground\":true,\"ticks\":\"\",\"zerolinecolor\":\"white\"}},\"shapedefaults\":{\"line\":{\"color\":\"#2a3f5f\"}},\"ternary\":{\"aaxis\":{\"gridcolor\":\"white\",\"linecolor\":\"white\",\"ticks\":\"\"},\"baxis\":{\"gridcolor\":\"white\",\"linecolor\":\"white\",\"ticks\":\"\"},\"bgcolor\":\"#E5ECF6\",\"caxis\":{\"gridcolor\":\"white\",\"linecolor\":\"white\",\"ticks\":\"\"}},\"title\":{\"x\":0.05},\"xaxis\":{\"automargin\":true,\"gridcolor\":\"white\",\"linecolor\":\"white\",\"ticks\":\"\",\"title\":{\"standoff\":15},\"zerolinecolor\":\"white\",\"zerolinewidth\":2},\"yaxis\":{\"automargin\":true,\"gridcolor\":\"white\",\"linecolor\":\"white\",\"ticks\":\"\",\"title\":{\"standoff\":15},\"zerolinecolor\":\"white\",\"zerolinewidth\":2}}},\"title\":{\"font\":{\"color\":\"#4D5663\"}},\"xaxis\":{\"gridcolor\":\"#E1E5ED\",\"showgrid\":true,\"tickfont\":{\"color\":\"#4D5663\"},\"title\":{\"font\":{\"color\":\"#4D5663\"},\"text\":\"\"},\"zerolinecolor\":\"#E1E5ED\"},\"yaxis\":{\"gridcolor\":\"#E1E5ED\",\"showgrid\":true,\"tickfont\":{\"color\":\"#4D5663\"},\"title\":{\"font\":{\"color\":\"#4D5663\"},\"text\":\"\"},\"zerolinecolor\":\"#E1E5ED\"}},                        {\"showLink\": true, \"linkText\": \"Export to plot.ly\", \"plotlyServerURL\": \"https://plot.ly\", \"responsive\": true}                    ).then(function(){\n",
       "                            \n",
       "var gd = document.getElementById('83ae2cf6-68a2-40c8-ba50-eb5f50b6c799');\n",
       "var x = new MutationObserver(function (mutations, observer) {{\n",
       "        var display = window.getComputedStyle(gd).display;\n",
       "        if (!display || display === 'none') {{\n",
       "            console.log([gd, 'removed!']);\n",
       "            Plotly.purge(gd);\n",
       "            observer.disconnect();\n",
       "        }}\n",
       "}});\n",
       "\n",
       "// Listen for the removal of the full notebook cells\n",
       "var notebookContainer = gd.closest('#notebook-container');\n",
       "if (notebookContainer) {{\n",
       "    x.observe(notebookContainer, {childList: true});\n",
       "}}\n",
       "\n",
       "// Listen for the clearing of the current output cell\n",
       "var outputEl = gd.closest('.output');\n",
       "if (outputEl) {{\n",
       "    x.observe(outputEl, {childList: true});\n",
       "}}\n",
       "\n",
       "                        })                };                });            </script>        </div>"
      ]
     },
     "metadata": {},
     "output_type": "display_data"
    }
   ],
   "source": [
    "df.iplot(x = 'class', y = 'insu', kind = 'bar')"
   ]
  },
  {
   "cell_type": "code",
   "execution_count": 43,
   "id": "0b393aa4",
   "metadata": {},
   "outputs": [
    {
     "name": "stderr",
     "output_type": "stream",
     "text": [
      "C:\\Users\\Usman\\anaconda3\\lib\\site-packages\\seaborn\\_decorators.py:36: FutureWarning:\n",
      "\n",
      "Pass the following variable as a keyword arg: x. From version 0.12, the only valid positional argument will be `data`, and passing other arguments without an explicit keyword will result in an error or misinterpretation.\n",
      "\n"
     ]
    },
    {
     "data": {
      "image/png": "[encoded data removed]",
      "text/plain": [
       "<Figure size 936x432 with 1 Axes>"
      ]
     },
     "metadata": {},
     "output_type": "display_data"
    }
   ],
   "source": [
    "plt.figure(figsize=(13,6))\n",
    "sn.countplot(df['age'])\n",
    "plt.show()"
   ]
  },
  {
   "cell_type": "code",
   "execution_count": 44,
   "id": "e1cfd3a1",
   "metadata": {},
   "outputs": [],
   "source": [
    "from sklearn import svm"
   ]
  },
  {
   "cell_type": "code",
   "execution_count": 45,
   "id": "8488ee34",
   "metadata": {},
   "outputs": [],
   "source": [
    "clf = svm.SVC(kernel='linear') # Linear Kernel"
   ]
  },
  {
   "cell_type": "code",
   "execution_count": 53,
   "id": "c7575861",
   "metadata": {},
   "outputs": [
    {
     "name": "stderr",
     "output_type": "stream",
     "text": [
      "C:\\Users\\Usman\\anaconda3\\lib\\site-packages\\sklearn\\utils\\validation.py:63: DataConversionWarning:\n",
      "\n",
      "A column-vector y was passed when a 1d array was expected. Please change the shape of y to (n_samples, ), for example using ravel().\n",
      "\n"
     ]
    },
    {
     "data": {
      "text/plain": [
       "SVC(kernel='linear')"
      ]
     },
     "execution_count": 53,
     "metadata": {},
     "output_type": "execute_result"
    }
   ],
   "source": [
    "clf.fit(X_train, y_train)"
   ]
  },
  {
   "cell_type": "code",
   "execution_count": 54,
   "id": "fe044763",
   "metadata": {},
   "outputs": [
    {
     "data": {
      "text/plain": [
       "array([1, 1, 0, 0, 1, 1, 1, 1, 0, 0, 0, 1, 0, 0, 0, 0, 0, 0, 1, 0, 0, 0,\n",
       "       0, 0, 0, 0, 0, 0, 0, 1, 1, 1, 0, 0, 1, 0, 0, 0, 0, 0, 0, 1, 0, 1,\n",
       "       0, 1, 0, 0, 0, 1, 0, 0, 1, 0, 0, 0, 1, 1, 0, 0, 1, 0, 0, 0, 0, 0,\n",
       "       0, 0, 0, 0, 0, 1, 0, 0, 0, 0, 0, 1, 0, 0, 1, 0, 0, 0, 1, 0, 0, 0,\n",
       "       0, 0, 0, 0, 0, 1, 0, 0, 0, 0, 0, 0, 0, 0, 0, 0, 0, 1, 0, 1, 0, 0,\n",
       "       0, 1, 1, 0, 0, 0, 0, 0, 0, 0, 0, 0, 0, 0, 1, 1, 1, 0, 0, 0, 0, 0,\n",
       "       0, 0, 0, 0, 0, 0, 0, 0, 0, 1, 0, 0, 1, 0, 0, 1, 1, 1, 0, 1, 0, 0])"
      ]
     },
     "execution_count": 54,
     "metadata": {},
     "output_type": "execute_result"
    }
   ],
   "source": [
    "clf.predict(X_test)"
   ]
  },
  {
   "cell_type": "code",
   "execution_count": 55,
   "id": "9b0faf8d",
   "metadata": {},
   "outputs": [
    {
     "data": {
      "text/plain": [
       "0.8246753246753247"
      ]
     },
     "execution_count": 55,
     "metadata": {},
     "output_type": "execute_result"
    }
   ],
   "source": [
    "clf.score(X_test,y_test)"
   ]
  },
  {
   "cell_type": "code",
   "execution_count": 56,
   "id": "63b2747e",
   "metadata": {},
   "outputs": [],
   "source": [
    "p=clf.predict(X_test)"
   ]
  },
  {
   "cell_type": "code",
   "execution_count": 57,
   "id": "7a149af0",
   "metadata": {},
   "outputs": [
    {
     "data": {
      "text/plain": [
       "array([[98,  9],\n",
       "       [18, 29]], dtype=int64)"
      ]
     },
     "execution_count": 57,
     "metadata": {},
     "output_type": "execute_result"
    }
   ],
   "source": [
    "from sklearn.metrics import confusion_matrix\n",
    "cm=confusion_matrix(y_test,p)\n",
    "cm"
   ]
  },
  {
   "cell_type": "code",
   "execution_count": 58,
   "id": "036cf589",
   "metadata": {},
   "outputs": [
    {
     "data": {
      "text/plain": [
       "Text(70.0, 0.5, 'True')"
      ]
     },
     "execution_count": 58,
     "metadata": {},
     "output_type": "execute_result"
    },
    {
     "data": {
      "image/png": "[encoded data removed]",
      "text/plain": [
       "<Figure size 720x504 with 2 Axes>"
      ]
     },
     "metadata": {},
     "output_type": "display_data"
    }
   ],
   "source": [
    "plt.figure(figsize=(10,7))\n",
    "sn.heatmap(cm,annot=True)\n",
    "plt.xlabel(\"predicted\")\n",
    "plt.ylabel(\"True\")"
   ]
  }
 ],
 "metadata": {
  "kernelspec": {
   "display_name": "Python 3",
   "language": "python",
   "name": "python3"
  },
  "language_info": {
   "codemirror_mode": {
    "name": "ipython",
    "version": 3
   },
   "file_extension": ".py",
   "mimetype": "text/x-python",
   "name": "python",
   "nbconvert_exporter": "python",
   "pygments_lexer": "ipython3",
   "version": "3.8.8"
  }
 },
 "nbformat": 4,
 "nbformat_minor": 5
}
